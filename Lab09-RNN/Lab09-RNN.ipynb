{
 "cells": [
  {
   "cell_type": "code",
   "execution_count": 1,
   "id": "94210a34",
   "metadata": {},
   "outputs": [
    {
     "name": "stdout",
     "output_type": "stream",
     "text": [
      "['data/names/Czech.txt', 'data/names/German.txt', 'data/names/Arabic.txt', 'data/names/Japanese.txt', 'data/names/Chinese.txt', 'data/names/Vietnamese.txt', 'data/names/Russian.txt', 'data/names/French.txt', 'data/names/Irish.txt', 'data/names/English.txt', 'data/names/Spanish.txt', 'data/names/Greek.txt', 'data/names/Italian.txt', 'data/names/Portuguese.txt', 'data/names/Scottish.txt', 'data/names/Dutch.txt', 'data/names/Korean.txt', 'data/names/Polish.txt']\n"
     ]
    }
   ],
   "source": [
    "from __future__ import unicode_literals, print_function, division\n",
    "from io import open\n",
    "import glob\n",
    "import os\n",
    "import unicodedata\n",
    "import string\n",
    "\n",
    "def findFiles(path):\n",
    "    return glob.glob(path)\n",
    "\n",
    "print(findFiles('data/names/*.txt'))\n",
    "\n",
    "all_letters = string.ascii_letters + \" .,;'\"\n",
    "n_letters = len(all_letters)"
   ]
  },
  {
   "cell_type": "code",
   "execution_count": 2,
   "id": "4d46fad4",
   "metadata": {},
   "outputs": [
    {
     "name": "stdout",
     "output_type": "stream",
     "text": [
      "Slusarski\n"
     ]
    }
   ],
   "source": [
    "# Turn a Unicode string to plain ASCII, thanks to https://stackoverflow.com/a/518232/2809427\n",
    "\n",
    "def unicodeToAscii(s):\n",
    "    return ''.join(\n",
    "        c for c in unicodedata.normalize('NFD', s)\n",
    "        if unicodedata.category(c) != 'Mn'\n",
    "        and c in all_letters\n",
    "    )\n",
    "\n",
    "print(unicodeToAscii('Ślusàrski'))"
   ]
  },
  {
   "cell_type": "code",
   "execution_count": 3,
   "id": "ad3d807b",
   "metadata": {},
   "outputs": [
    {
     "name": "stdout",
     "output_type": "stream",
     "text": [
      "Czech\n",
      "['Abl', 'Adsit', 'Ajdrna', 'Alt', 'Antonowitsch', 'Antonowitz', 'Bacon', 'Ballalatak', 'Ballaltick', 'Bartonova', 'Bastl', 'Baroch', 'Benesch', 'Betlach', 'Biganska', 'Bilek', 'Blahut', 'Blazek', 'Blazek', 'Blazejovsky', 'Blecha', 'Bleskan', 'Blober', 'Bock', 'Bohac', 'Bohunovsky', 'Bolcar', 'Borovka', 'Borovski', 'Borowski', 'Borovsky', 'Brabbery', 'Brezovjak', 'Brousil', 'Bruckner', 'Buchta', 'Cablikova', 'Camfrlova', 'Cap', 'Cerda', 'Cermak', 'Chermak', 'Cermak', 'Cernochova', 'Cernohous', 'Cerny', 'Cerney', 'Cerny', 'Cerv', 'Cervenka', 'Chalupka', 'Charlott', 'Chemlik', 'Chicken', 'Chilar', 'Chromy', 'Cihak', 'Clineburg', 'Klineberg', 'Cober', 'Colling', 'Cvacek', 'Czabal', 'Damell', 'Demall', 'Dehmel', 'Dana', 'Dejmal', 'Dempko', 'Demko', 'Dinko', 'Divoky', 'Dolejsi', 'Dolezal', 'Doljs', 'Dopita', 'Drassal', 'Driml', 'Duyava', 'Dvorak', 'Dziadik', 'Egr', 'Entler', 'Faltysek', 'Faltejsek', 'Fencl', 'Fenyo', 'Fillipova', 'Finfera', 'Finferovy', 'Finke', 'Fojtikova', 'Fremut', 'Friedrich', 'Frierdich', 'Fritsch', 'Furtsch', 'Gabrisova', 'Gavalok', 'Geier', 'Georgijev', 'Geryk', 'Giersig', 'Glatter', 'Glockl', 'Grabski', 'Grozmanova', 'Grulich', 'Grygarova', 'Hadash', 'Hafernik', 'Hajek', 'Hajicek', 'Hajkova', 'Hana', 'Hanek', 'Hanek', 'Hanika', 'Hanusch', 'Hanzlick', 'Handzlik', 'Hanzlik', 'Harger', 'Hartl', 'Havlatova', 'Havlice', 'Hawlata', 'Heidl', 'Herback', 'Herodes', 'Hiorvst', 'Hladky', 'Hlavsa', 'Hnizdil', 'Hodowal', 'Hodoval', 'Holan', 'Holub', 'Homulka', 'Hora', 'Hovanec', 'Hrabak', 'Hradek', 'Hrdy', 'Hrula', 'Hruska', 'Hruskova', 'Hudecek', 'Husk', 'Hynna', 'Jaluvka', 'Janca', 'Janicek', 'Jenicek', 'Janacek', 'Janick', 'Janoch', 'Janosik', 'Janutka', 'Jares', 'Jarzembowski', 'Jedlicka', 'Jelinek', 'Jindra', 'Jirava', 'Jirik', 'Jirku', 'Jirovy', 'Jobst', 'Jonas', 'Kacirek', 'Kafka', 'Kafka', 'Kaiser', 'Kanak', 'Kaplanek', 'Kara', 'Karlovsky', 'Kasa', 'Kasimor', 'Kazimor', 'Kazmier', 'Katschker', 'Kauphsman', 'Kenzel', 'Kerner', 'Kesl', 'Kessel', 'Kessler', 'Khork', 'Kirchma', 'Klein', 'Klemper', 'Klimes', 'Kober', 'Koberna', 'Koci', 'Kocian', 'Kocian', 'Kofron', 'Kolacny', 'Koliha', 'Kolman', 'Koma', 'Komo', 'Coma', 'Konarik', 'Kopp', 'Kopecky', 'Korandak', 'Korycan', 'Korycansky', 'Kosko', 'Kouba', 'Kouba', 'Koukal', 'Koza', 'Kozumplikova', 'Kratschmar', 'Krawiec', 'Kreisinger', 'Kremlacek', 'Kremlicka', 'Kreutschmer', 'Krhovsky', 'Krivan', 'Krivolavy', 'Kriz', 'Kruessel', 'Krupala', 'Krytinar', 'Kubin', 'Kucera', 'Kucharova', 'Kudrna', 'Kuffel', 'Kupfel', 'Kofel', 'Kulhanek', 'Kunik', 'Kurtz', 'Kusak', 'Kvasnicka', 'Lawa', 'Linart', 'Lind', 'Lokay', 'Loskot', 'Ludwig', 'Lynsmeier', 'Macha', 'Machacek', 'Macikova', 'Malafa', 'Malec', 'Malecha', 'Maly', 'Marek', 'Marik', 'Marik', 'Markytan', 'Matejka', 'Matjeka', 'Matocha', 'MaxaB', 'Mayer', 'Meier', 'Merta', 'Meszes', 'Metjeka', 'Michalovic', 'Michalovicova', 'Miksatkova', 'Mojzis', 'Mojjis', 'Mozzis', 'Molcan', 'Monfort', 'MonkoAustria', 'Morava', 'Morek', 'Muchalon', 'Mudra', 'Muhlbauer', 'Nadvornizch', 'Nadwornik', 'Navara', 'Navratil', 'Navratil', 'Navrkal', 'Nekuza', 'Nemec', 'Nemecek', 'Nestrojil', 'Netsch', 'Neusser', 'Neisser', 'Naizer', 'Novak', 'Nowak', 'Novotny', 'Novy Novy', 'Oborny', 'Ocasek', 'Ocaskova', 'Oesterreicher', 'Okenfuss', 'Olbrich', 'Ondrisek', 'Opizka', 'Opova', 'Opp', 'Osladil', 'Ozimuk', 'Pachr', 'Palzewicz', 'Panek', 'Patril', 'Pavlik', 'Pavlicka', 'Pavlu', 'Pawlak', 'Pear', 'Peary', 'Pech', 'Peisar', 'Paisar', 'Paiser', 'Perevuznik', 'Perina', 'Persein', 'Petrezelka', 'Petru', 'Pesek', 'Petersen', 'Pfeifer', 'Picha', 'Pillar', 'Pellar', 'Piller', 'Pinter', 'Pitterman', 'Planick', 'Piskach', 'Plisek', 'Plisko', 'Pokorny', 'Ponec', 'Ponec', 'Prachar', 'Praseta', 'Prchal', 'Prehatney', 'Pretsch', 'Prill', 'Psik', 'Pudel', 'Purdes', 'Quasninsky', 'Raffel', 'Rafaj', 'Ransom', 'Rezac', 'Riedel', 'Riha', 'Riha', 'Ritchie', 'Rozinek', 'Ruba', 'Ruda', 'Rumisek', 'Ruzicka', 'Rypka', 'Rebka', 'Rzehak', 'Sabol', 'Safko', 'Samz', 'Sankovsky', 'Sappe', 'Sappe', 'Sarna', 'Satorie', 'Savchak', 'Svotak', 'Swatchak', 'Svocak', 'Svotchak', 'Schallom', 'Schenk', 'Schlantz', 'Schmeiser', 'Schneider', 'Schmied', 'Schubert', 'Schwarz', 'Schwartz', 'Sedmik', 'Sedmikova', 'Seger', 'Sekovora', 'Semick', 'Serak', 'Sherak', 'Shima', 'Shula', 'Siegl', 'Silhan', 'Simecek', 'Simodines', 'Simonek', 'Sip', 'Sitta', 'Skala', 'Skeril', 'Skokan', 'Skomicka', 'Skwor', 'Slapnickova', 'Slejtr', 'Slepicka', 'Slepica', 'Slezak', 'Slivka', 'Smith', 'Snelker', 'Sokolik', 'Soucek', 'Soukup', 'Soukup', 'Spicka', 'Spoerl', 'Sponer', 'Srda', 'Srpcikova', 'Stangl', 'Stanzel', 'Stary', 'Staska', 'Stedronsky', 'Stegon', 'Sztegon', 'Steinborn', 'Stepan', 'Stites', 'Stluka', 'Stotzky', 'StrakaO', 'Stramba', 'Stupka', 'Subertova', 'Suchanka', 'Sula', 'Svejda', 'Svejkovsky', 'Svoboda', 'Tejc', 'Tikal', 'Tykal', 'Till', 'Timpe', 'Timpy', 'Toman', 'Tomanek', 'Tomasek', 'Tomes', 'Trampotova', 'Trampota', 'Treblik', 'Trnkova', 'Uerling', 'Uhlik', 'Urbanek', 'Urbanek', 'Urbanovska', 'Urista', 'Ustohal', 'Vaca', 'Vaculova', 'Vavra', 'Vejvoda', 'Veverka', 'Victor', 'Vlach', 'Vlach', 'Vlasak', 'Vlasek', 'Volcik', 'Voneve', 'Votke', 'Vozab', 'Vrazel', 'Vykruta', 'Wykruta', 'Waclauska', 'Weichert', 'Weineltk', 'Weisener', 'Wiesner', 'Wizner', 'Weiss', 'Werlla', 'Whitmire', 'Widerlechner', 'Wilchek', 'Wondracek', 'Wood', 'Zajicek', 'Zak', 'Zajicek', 'Zaruba', 'Zaruba', 'Zelinka', 'Zeman', 'Zimola', 'Zipperer', 'Zitka', 'Zoucha', 'Zwolenksy']\n",
      "German\n",
      "['Abbing', 'Abel', 'Abeln', 'Abt', 'Achilles', 'Achterberg', 'Acker', 'Ackermann', 'Adam', 'Adenauer', 'Adler', 'Adlersflugel', 'Aeschelman', 'Albert', 'Albrecht', 'Aleshire', 'Aleshite', 'Althaus', 'Amsel', 'Andres', 'Armbruster', 'Armbruster', 'Artz', 'Aue', 'Auer', 'Augustin', 'Aust', 'Autenburg', 'Auttenberg', 'Baasch', 'Bach', 'Bachmeier', 'Backer', 'Bader', 'Bahr', 'Bambach', 'Bauer', 'Bauers', 'Baum', 'Baumann', 'Baumbach', 'Baumgartner', 'Baumgartner', 'Baumhauer', 'Bayer', 'Beck', 'Becke', 'Beckenbauer', 'Becker', 'Beckert', 'Behrend', 'Behrends', 'Beitel', 'Beltz', 'Benn', 'Berg', 'Berger', 'Bergfalk', 'Beringer', 'Bernat', 'Best', 'Beutel', 'Beyer', 'Beyersdorf', 'Bieber', 'Biermann', 'Bischoffs', 'Blau', 'Blecher', 'Bleier', 'Blumenthal', 'Blumstein', 'Bocker', 'Boehler', 'Boer', 'Boesch', 'Bohler', 'Bohm', 'Bohme', 'Bohmer', 'Bohn', 'Borchard', 'Bosch', 'Bosch', 'Bottcher', 'Brahms', 'Brand', 'Brandt', 'Brant', 'Brauer', 'Braun', 'Braune', 'Breiner', 'Breisacher', 'Breitbarth', 'Bretz', 'Brinkerhoff', 'Brodbeck', 'Brose', 'Brotz', 'Bruhn', 'Brun', 'Brune', 'Buchholz', 'Buckholtz', 'Buhr', 'Bumgarner', 'Burgstaller', 'Busch', 'Carver', 'Chevrolet', 'Cline', 'Dahl', 'Denzel', 'Derrick', 'Diefenbach', 'Dieter', 'Dietrich', 'Dirchs', 'Dittmar', 'Dohman', 'Drechsler', 'Dreher', 'Dreschner', 'Dresdner', 'Dressler', 'Duerr', 'Dunkle', 'Dunst', 'Durr', 'Eberhardt', 'Ebner', 'Ebner', 'Eckstein', 'Egger', 'Eichel', 'Eilerts', 'Engel', 'Enns', 'Esser', 'Essert', 'Everhart', 'Fabel', 'Faerber', 'Falk', 'Falkenrath', 'Farber', 'Fashingbauer', 'Faust', 'Feigenbaum', 'Feld', 'Feldt', 'Fenstermacher', 'Fertig', 'Fiedler', 'Fischer', 'Flater', 'Fleischer', 'Foerstner', 'Forst', 'Forstner', 'Foth', 'Frank', 'Franke', 'Frei', 'Freud', 'Freudenberger', 'Freund', 'Fried', 'Friedrich', 'Fromm', 'Frost', 'Fuchs', 'Fuhrmann', 'Furst', 'Fux', 'Gabler', 'Gaertner', 'Garb', 'Garber', 'Gartner', 'Garver', 'Gass', 'Gehrig', 'Gehring', 'Geier', 'Geiger', 'Geisler', 'Geissler', 'Geiszler', 'Gensch', 'Gerber', 'Gerhard', 'Gerhardt', 'Gerig', 'Gerst', 'Gerstle', 'Gerver', 'Giehl', 'Giese', 'Glockner', 'Goebel', 'Goldschmidt', 'Gorman', 'Gott', 'Gotti', 'Gottlieb', 'Gottschalk', 'Graner', 'Greenberg', 'Groos', 'Gros', 'Gross', 'Gro', 'Groe', 'Grosse', 'Groel', 'Groel', 'Groer', 'Grosser', 'Grosz', 'Grunewald', 'Gunther', 'Gunther', 'Gutermuth', 'Gwerder', 'Haas', 'Haase', 'Haber', 'Habich', 'Habicht', 'Hafner', 'Hahn', 'Hall', 'Halle', 'Harman', 'Hartmann', 'Hase', 'Hasek', 'Hasenkamp', 'Hass', 'Hauer', 'Haupt', 'Hausler', 'Havener', 'Heidrich', 'Heinrich', 'Heinrichs', 'Heintze', 'Hellewege', 'Heppenheimer', 'Herbert', 'Hermann', 'Herrmann', 'Herschel', 'Hertz', 'Hildebrand', 'Hinrichs', 'Hintzen', 'Hirsch', 'Hoch', 'Hochberg', 'Hoefler', 'Hofer', 'Hoffman', 'Hoffmann', 'Hofler', 'Hofmann', 'Hofmeister', 'Holst', 'Holtzer', 'Holzer', 'Holzer', 'Holzknecht', 'Holzmann', 'Hoover', 'Horn', 'Horn', 'Horowitz', 'Houk', 'Huber', 'Huber', 'Huff', 'Huffman', 'Huffmann', 'Hummel', 'Hummel', 'Hutmacher', 'Ingersleben', 'Jaeger', 'Jager', 'Jager', 'Jans', 'Janson', 'Janz', 'Jollenbeck', 'Jordan', 'Jund', 'Jung', 'Junge', 'Kahler', 'Kaiser', 'Kalb', 'Kalbfleisch', 'Kappel', 'Karl', 'Kaspar', 'Kassmeyer', 'Kastner', 'Katz', 'Kaube', 'Kaufer', 'Kaufer', 'Kauffmann', 'Kaufman', 'Keil', 'Keller', 'Kempf', 'Kerner', 'Kerper', 'Kerwar', 'Kerwer', 'Kiefer', 'Kiefer', 'Kirchner', 'Kistler', 'Kistner', 'Kleid', 'Klein', 'Klossner', 'Knef', 'Kneib', 'Kneller', 'Knepp', 'Knochenmus', 'Knopf', 'Knopp', 'Koch', 'Kock', 'Koenig', 'Koenigsmann', 'Kohl', 'Kohl', 'Kohler', 'Kohler', 'Kolbe', 'Konig', 'Konigsmann', 'Kopp', 'Kraemer', 'Kramer', 'Kramer', 'Krantz', 'Kranz', 'Kraus', 'Krause', 'Krauss', 'Krau', 'Krebs', 'Kroger', 'Kron', 'Kruckel', 'Kruger', 'Kruger', 'Kruger', 'Kruse', 'Kruse', 'Kuchler', 'Kuhn', 'Kundert', 'Kunkel', 'Kunkle', 'Kuntz', 'Kunze', 'Kurzmann', 'Laberenz', 'Lafrentz', 'Lafrenz', 'Landau', 'Lang', 'Lange', 'Langenberg', 'Langer', 'Larenz', 'Laurenz', 'Lauritz', 'Lawerenz', 'Lawrenz', 'Lehmann', 'Lehrer', 'Leitner', 'Leitz', 'Leitzke', 'Lenz', 'Leverenz', 'Lewerentz', 'Lewerenz', 'Lichtenberg', 'Lieberenz', 'Linden', 'Loewe', 'Lohrenz', 'Lorentz', 'Lorenz', 'Lorenzen', 'Loris', 'Loritz', 'Lowe', 'Ludwig', 'Luther', 'Maas', 'Maier', 'Mandel', 'Mann', 'Markwardt', 'Marquardt', 'Marquering', 'Marquerink', 'Martell', 'Martin', 'Martz', 'Mas', 'Maurer', 'Maus', 'Mayer', 'Meier', 'Mein', 'Meindl', 'Meinhardt', 'Meisner', 'Meissner', 'Melsbach', 'Mendel', 'Mendelsohn', 'Mendelssohn', 'Messer', 'Messerli', 'Messmann', 'Messner', 'Metz', 'Metz', 'Metzger', 'Meyer', 'Michel', 'Mohren', 'Moller', 'Morgenstern', 'Moser', 'Mueller', 'Muhlfeld', 'Muller', 'Nagel', 'Neuman', 'Neumann', 'Nuremberg', 'Nussbaum', 'Nussenbaum', 'Oberst', 'Oelberg', 'Ohme', 'Oliver', 'Oppenheimer', 'Ott', 'Otto', 'Oursler', 'Pahlke', 'Papke', 'Papp', 'Paternoster', 'Paul', 'Paulis', 'Pawlitzki', 'Penzig', 'Peter', 'Peters', 'Pfaff', 'Pfenning', 'Plank', 'Pletcher', 'Porsche', 'Portner', 'Prinz', 'Protz', 'Rademacher', 'Rademaker', 'Rapp', 'Raske', 'Raskob', 'Raskop', 'Raskoph', 'Regenbogen', 'Reier', 'Reiher', 'Reiter', 'Rettig', 'Reuter', 'Reuter', 'Richard', 'Richter', 'Rier', 'Riese', 'Ritter', 'Rose', 'Rosenberg', 'Rosenberger', 'Rosenfeld', 'Rot', 'Roth', 'Rothbauer', 'Rothenberg', 'Rothschild', 'Sachs', 'Saller', 'Saller', 'Salomon', 'Salzwedel', 'Samuel', 'Sander', 'Sauber', 'Schafer', 'Scheer', 'Scheinberg', 'Schenck', 'Schermer', 'Schindler', 'Schirmer', 'Schlender', 'Schlimme', 'Schlusser', 'Schmeling', 'Schmid', 'Schmidt', 'Schmitt', 'Schmitz', 'Schneider', 'Schnoor', 'Schnur', 'Schoettmer', 'Schrader', 'Schrader', 'Schreck', 'Schreier', 'Schroder', 'Schroder', 'Schroeder', 'Schroeter', 'Schroter', 'Schubert', 'Schuchard', 'Schuchardt', 'Schuchert', 'Schuhart', 'Schuhmacher', 'Schuler', 'Schult', 'Schulte', 'Schultes', 'Schultheis', 'Schultheiss', 'Schulthei', 'Schultz', 'Schultze', 'Schulz', 'Schulze', 'Schumacher', 'Schuster', 'Schuttmann', 'Schwangau', 'Schwartz', 'Schwarz', 'Schwarzenegger', 'Schwenke', 'Schwinghammer', 'Seelenfreund', 'Seidel', 'Senft', 'Senft', 'Sheinfeld', 'Shriver', 'Siegel', 'Siegel', 'Siekert', 'Siemon', 'Silverstein', 'Simen', 'Simmon', 'Simon', 'Simons', 'Siskin', 'Siskind', 'Sitz', 'Sitz', 'Slusser', 'Solberg', 'Sommer', 'Sommer', 'Sommer', 'Sommer', 'Sonnen', 'Sorg', 'Sorge', 'Spannagel', 'Specht', 'Spellmeyer', 'Spitznogle', 'Sponaugle', 'Stark', 'Stauss', 'Steen', 'Steffen', 'Stein', 'Steinmann', 'Stenger', 'Sternberg', 'Steube', 'Steuben', 'Stieber', 'Stoppelbein', 'Stoppelbein', 'Strand', 'Straub', 'Strobel', 'Strohkirch', 'Stroman', 'Stuber', 'Stueck', 'Stumpf', 'Sturm', 'Suess', 'Sulzbach', 'Swango', 'Switzer', 'Tangeman', 'Tanzer', 'Teufel', 'Tiedeman', 'Tifft', 'Tillens', 'Tobias', 'Tolkien', 'Tresler', 'Tritten', 'Trumbauer', 'Tschida', 'Unkle', 'Unruh', 'Unterbrink', 'Ursler', 'Vann', 'Van tonder', 'Vieth', 'Vogel', 'Vogt', 'Vogts', 'Voigt', 'Voigts', 'Volk', 'Voll', 'Von brandt', 'Von essen', 'Von grimmelshausen', 'Von ingersleben', 'Vonnegut', 'Von wegberg', 'Voss', 'Vo', 'Wagner', 'Wagner', 'Wahner', 'Wahner', 'Waldfogel', 'Waldvogel', 'Walkenhorst', 'Walter', 'Walther', 'Waltz', 'Wang', 'Warner', 'Waxweiler', 'Weber', 'Wechsler', 'Wedekind', 'Weeber', 'Wegener', 'Wegner', 'Wehner', 'Wehunt', 'Weigand', 'Weiman', 'Weiner', 'Weiss', 'Wei', 'Welter', 'Wendel', 'Wendell', 'Werner', 'Wernher', 'West', 'Westerberg', 'Wetterman', 'Wetzel', 'Wexler', 'Wieck', 'Wiegand', 'Wildgrube', 'Winter', 'Winther', 'Winther', 'Wirner', 'Wirnhier', 'Wirt', 'Wirth', 'Wolf', 'Wolff', 'Wolter', 'Worner', 'Wornhor', 'Wruck', 'Wyman', 'Xylander', 'Zellweger', 'Zilberschlag', 'Zimmerman', 'Zimmermann']\n"
     ]
    }
   ],
   "source": [
    "# Build the category_lines dictionary, a list of names per language\n",
    "\n",
    "category_lines = {}\n",
    "all_categories = []\n",
    "\n",
    "# Read a file and split into lines\n",
    "\n",
    "def readLines(filename):\n",
    "    lines = open(filename, encoding='utf-8').read().strip().split('\\n')\n",
    "    return [unicodeToAscii(line) for line in lines]\n",
    "\n",
    "for filename in findFiles('data/names/*.txt'):\n",
    "    category = os.path.splitext(os.path.basename(filename))[0]\n",
    "    all_categories.append(category)\n",
    "    lines = readLines(filename)\n",
    "    category_lines[category] = lines\n",
    "\n",
    "n_categories = len(all_categories)\n",
    "\n",
    "# Check that it worked\n",
    "\n",
    "for c in all_categories[:2]:\n",
    "    print(c)\n",
    "    print(category_lines[c]) "
   ]
  },
  {
   "cell_type": "code",
   "execution_count": 4,
   "id": "7b238425",
   "metadata": {},
   "outputs": [
    {
     "name": "stdout",
     "output_type": "stream",
     "text": [
      "['Abandonato', 'Abatangelo', 'Abatantuono', 'Abate', 'Abategiovanni']\n"
     ]
    }
   ],
   "source": [
    "print(category_lines['Italian'][:5])"
   ]
  },
  {
   "cell_type": "code",
   "execution_count": 5,
   "id": "43028cdc",
   "metadata": {},
   "outputs": [
    {
     "ename": "ModuleNotFoundError",
     "evalue": "No module named 'sklearn'",
     "output_type": "error",
     "traceback": [
      "\u001b[0;31m---------------------------------------------------------------------------\u001b[0m",
      "\u001b[0;31mModuleNotFoundError\u001b[0m                       Traceback (most recent call last)",
      "\u001b[0;32m/var/folders/02/kzx37l612b1531px34fmszp40000gn/T/ipykernel_5871/957197319.py\u001b[0m in \u001b[0;36m<module>\u001b[0;34m\u001b[0m\n\u001b[1;32m      1\u001b[0m \u001b[0;31m# One-hot encoding of a word vocabulary using scikit-learn’s OneHotEncoder\u001b[0m\u001b[0;34m\u001b[0m\u001b[0;34m\u001b[0m\u001b[0;34m\u001b[0m\u001b[0m\n\u001b[1;32m      2\u001b[0m \u001b[0;34m\u001b[0m\u001b[0m\n\u001b[0;32m----> 3\u001b[0;31m \u001b[0;32mfrom\u001b[0m \u001b[0msklearn\u001b[0m\u001b[0;34m.\u001b[0m\u001b[0mpreprocessing\u001b[0m \u001b[0;32mimport\u001b[0m \u001b[0mOneHotEncoder\u001b[0m\u001b[0;34m\u001b[0m\u001b[0;34m\u001b[0m\u001b[0m\n\u001b[0m\u001b[1;32m      4\u001b[0m \u001b[0;34m\u001b[0m\u001b[0m\n\u001b[1;32m      5\u001b[0m \u001b[0mencoder\u001b[0m \u001b[0;34m=\u001b[0m \u001b[0mOneHotEncoder\u001b[0m\u001b[0;34m(\u001b[0m\u001b[0msparse\u001b[0m\u001b[0;34m=\u001b[0m\u001b[0;32mFalse\u001b[0m\u001b[0;34m)\u001b[0m\u001b[0;34m\u001b[0m\u001b[0;34m\u001b[0m\u001b[0m\n",
      "\u001b[0;31mModuleNotFoundError\u001b[0m: No module named 'sklearn'"
     ]
    }
   ],
   "source": [
    "# One-hot encoding of a word vocabulary using scikit-learn’s OneHotEncoder\n",
    "\n",
    "from sklearn.preprocessing import OneHotEncoder\n",
    "\n",
    "encoder = OneHotEncoder(sparse=False)\n",
    "print(encoder.fit_transform([['red'], ['green'], ['blue']]))"
   ]
  },
  {
   "cell_type": "code",
   "execution_count": null,
   "id": "b6e30695",
   "metadata": {},
   "outputs": [],
   "source": []
  }
 ],
 "metadata": {
  "kernelspec": {
   "display_name": "Python 3 (ipykernel)",
   "language": "python",
   "name": "python3"
  },
  "language_info": {
   "codemirror_mode": {
    "name": "ipython",
    "version": 3
   },
   "file_extension": ".py",
   "mimetype": "text/x-python",
   "name": "python",
   "nbconvert_exporter": "python",
   "pygments_lexer": "ipython3",
   "version": "3.9.6"
  }
 },
 "nbformat": 4,
 "nbformat_minor": 5
}
