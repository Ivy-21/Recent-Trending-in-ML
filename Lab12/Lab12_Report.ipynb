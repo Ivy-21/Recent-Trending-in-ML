{
  "nbformat": 4,
  "nbformat_minor": 0,
  "metadata": {
    "colab": {
      "name": "Lab12_Report.ipynb",
      "provenance": [],
      "collapsed_sections": [
        "lGAF18STOpg4",
        "hzGePI6wPjUh",
        "NQunRiqIPnBQ"
      ]
    },
    "kernelspec": {
      "name": "python3",
      "display_name": "Python 3"
    },
    "language_info": {
      "name": "python"
    },
    "accelerator": "GPU"
  },
  "cells": [
    {
      "cell_type": "markdown",
      "source": [
        "# Step 1: Install xvfb & other dependencies"
      ],
      "metadata": {
        "id": "qLzBRS9aBRBp"
      }
    },
    {
      "cell_type": "code",
      "execution_count": 2,
      "metadata": {
        "id": "ebFMN0MHA3bG"
      },
      "outputs": [],
      "source": [
        "!apt-get install x11-utils > /dev/null 2>&1"
      ]
    },
    {
      "cell_type": "code",
      "source": [
        "!pip install pyglet > /dev/null 2>&1 "
      ],
      "metadata": {
        "id": "pzKzAjFVA-qP"
      },
      "execution_count": 3,
      "outputs": []
    },
    {
      "cell_type": "code",
      "source": [
        "!apt-get install -y xvfb python-opengl > /dev/null 2>&1"
      ],
      "metadata": {
        "id": "7vjqxyCrA-tk"
      },
      "execution_count": 4,
      "outputs": []
    },
    {
      "cell_type": "markdown",
      "source": [
        "# Step 2: Install mujoco"
      ],
      "metadata": {
        "id": "GfQb4OBnLmDL"
      }
    },
    {
      "cell_type": "code",
      "source": [
        "# Include this at the top of your colab code\n",
        "\n",
        "import os\n",
        "\n",
        "if not os.path.exists('.mujoco_setup_complete'):\n",
        "    # Get the prereqs\n",
        "    !apt-get -qq update\n",
        "    !apt-get -qq install -y libosmesa6-dev libgl1-mesa-glx libglfw3 libgl1-mesa-dev libglew-dev patchelf\n",
        "    # Get Mujoco\n",
        "    !mkdir ~/.mujoco\n",
        "    !wget -q https://mujoco.org/download/mujoco210-linux-x86_64.tar.gz -O mujoco.tar.gz\n",
        "    !tar -zxf mujoco.tar.gz -C \"$HOME/.mujoco\"\n",
        "    !rm mujoco.tar.gz\n",
        "    # Add it to the actively loaded path and the bashrc path (these only do so much)\n",
        "    !echo 'export LD_LIBRARY_PATH=$LD_LIBRARY_PATH:$HOME/.mujoco/mujoco210/bin' >> ~/.bashrc \n",
        "    !echo 'export LD_PRELOAD=$LD_PRELOAD:/usr/lib/x86_64-linux-gnu/libGLEW.so' >> ~/.bashrc \n",
        "    # THE ANNOYING ONE, FORCE IT INTO LDCONFIG SO WE ACTUALLY GET ACCESS TO IT THIS SESSION\n",
        "    !echo \"/root/.mujoco/mujoco210/bin\" > /etc/ld.so.conf.d/mujoco_ld_lib_path.conf\n",
        "    !ldconfig\n",
        "    # Install Mujoco-py\n",
        "    !pip3 install -U 'mujoco-py<2.2,>=2.1'\n",
        "    # run once\n",
        "    !touch .mujoco_setup_complete\n",
        "\n",
        "try:\n",
        "    if _mujoco_run_once:\n",
        "        pass\n",
        "except NameError:\n",
        "    _mujoco_run_once = False\n",
        "    \n",
        "if not _mujoco_run_once:\n",
        "    # Add it to the actively loaded path and the bashrc path (these only do so much)\n",
        "    try:\n",
        "        os.environ['LD_LIBRARY_PATH']=os.environ['LD_LIBRARY_PATH'] + ':/root/.mujoco/mujoco210/bin'\n",
        "    except KeyError:\n",
        "        os.environ['LD_LIBRARY_PATH']='/root/.mujoco/mujoco210/bin'\n",
        "    try:\n",
        "        os.environ['LD_PRELOAD']=os.environ['LD_PRELOAD'] + ':/usr/lib/x86_64-linux-gnu/libGLEW.so'\n",
        "    except KeyError:\n",
        "        os.environ['LD_PRELOAD']='/usr/lib/x86_64-linux-gnu/libGLEW.so'\n",
        "    # presetup so we don't see output on first env initialization\n",
        "    import mujoco_py\n",
        "    _mujoco_run_once = True"
      ],
      "metadata": {
        "id": "sQ8RpxGGA-11"
      },
      "execution_count": 5,
      "outputs": []
    },
    {
      "cell_type": "markdown",
      "source": [
        "# Step 3: Install pyvirtual display"
      ],
      "metadata": {
        "id": "2vfP4LWuMDFy"
      }
    },
    {
      "cell_type": "code",
      "source": [
        "!pip install gym pyvirtualdisplay > /dev/null 2>&1\n",
        "!pip install -U gym>=0.21.0\n",
        "!pip install -U gym[atari,accept-rom-license]\n",
        "!pip install -U gym[Robotics,classic_control]"
      ],
      "metadata": {
        "colab": {
          "base_uri": "https://localhost:8080/"
        },
        "id": "t0SFGispA-8-",
        "outputId": "ce8690e1-825c-4eb8-b392-3aefc234ef43"
      },
      "execution_count": 6,
      "outputs": [
        {
          "output_type": "stream",
          "name": "stdout",
          "text": [
            "Requirement already satisfied: gym[accept-rom-license,atari] in /usr/local/lib/python3.7/dist-packages (0.23.1)\n",
            "Requirement already satisfied: importlib-metadata>=4.10.0 in /usr/local/lib/python3.7/dist-packages (from gym[accept-rom-license,atari]) (4.11.3)\n",
            "Requirement already satisfied: cloudpickle>=1.2.0 in /usr/local/lib/python3.7/dist-packages (from gym[accept-rom-license,atari]) (1.3.0)\n",
            "Requirement already satisfied: gym-notices>=0.0.4 in /usr/local/lib/python3.7/dist-packages (from gym[accept-rom-license,atari]) (0.0.6)\n",
            "Requirement already satisfied: numpy>=1.18.0 in /usr/local/lib/python3.7/dist-packages (from gym[accept-rom-license,atari]) (1.21.5)\n",
            "Requirement already satisfied: ale-py~=0.7.4 in /usr/local/lib/python3.7/dist-packages (from gym[accept-rom-license,atari]) (0.7.4)\n",
            "Requirement already satisfied: autorom[accept-rom-license]~=0.4.2 in /usr/local/lib/python3.7/dist-packages (from gym[accept-rom-license,atari]) (0.4.2)\n",
            "Requirement already satisfied: importlib-resources in /usr/local/lib/python3.7/dist-packages (from ale-py~=0.7.4->gym[accept-rom-license,atari]) (5.6.0)\n",
            "Requirement already satisfied: requests in /usr/local/lib/python3.7/dist-packages (from autorom[accept-rom-license]~=0.4.2->gym[accept-rom-license,atari]) (2.23.0)\n",
            "Requirement already satisfied: tqdm in /usr/local/lib/python3.7/dist-packages (from autorom[accept-rom-license]~=0.4.2->gym[accept-rom-license,atari]) (4.64.0)\n",
            "Requirement already satisfied: click in /usr/local/lib/python3.7/dist-packages (from autorom[accept-rom-license]~=0.4.2->gym[accept-rom-license,atari]) (7.1.2)\n",
            "Requirement already satisfied: AutoROM.accept-rom-license in /usr/local/lib/python3.7/dist-packages (from autorom[accept-rom-license]~=0.4.2->gym[accept-rom-license,atari]) (0.4.2)\n",
            "Requirement already satisfied: typing-extensions>=3.6.4 in /usr/local/lib/python3.7/dist-packages (from importlib-metadata>=4.10.0->gym[accept-rom-license,atari]) (4.1.1)\n",
            "Requirement already satisfied: zipp>=0.5 in /usr/local/lib/python3.7/dist-packages (from importlib-metadata>=4.10.0->gym[accept-rom-license,atari]) (3.8.0)\n",
            "Requirement already satisfied: urllib3!=1.25.0,!=1.25.1,<1.26,>=1.21.1 in /usr/local/lib/python3.7/dist-packages (from requests->autorom[accept-rom-license]~=0.4.2->gym[accept-rom-license,atari]) (1.24.3)\n",
            "Requirement already satisfied: chardet<4,>=3.0.2 in /usr/local/lib/python3.7/dist-packages (from requests->autorom[accept-rom-license]~=0.4.2->gym[accept-rom-license,atari]) (3.0.4)\n",
            "Requirement already satisfied: idna<3,>=2.5 in /usr/local/lib/python3.7/dist-packages (from requests->autorom[accept-rom-license]~=0.4.2->gym[accept-rom-license,atari]) (2.10)\n",
            "Requirement already satisfied: certifi>=2017.4.17 in /usr/local/lib/python3.7/dist-packages (from requests->autorom[accept-rom-license]~=0.4.2->gym[accept-rom-license,atari]) (2021.10.8)\n",
            "Requirement already satisfied: gym[Robotics,classic_control] in /usr/local/lib/python3.7/dist-packages (0.23.1)\n",
            "\u001b[33mWARNING: gym 0.23.1 does not provide the extra 'robotics'\u001b[0m\n",
            "Requirement already satisfied: importlib-metadata>=4.10.0 in /usr/local/lib/python3.7/dist-packages (from gym[Robotics,classic_control]) (4.11.3)\n",
            "Requirement already satisfied: cloudpickle>=1.2.0 in /usr/local/lib/python3.7/dist-packages (from gym[Robotics,classic_control]) (1.3.0)\n",
            "Requirement already satisfied: gym-notices>=0.0.4 in /usr/local/lib/python3.7/dist-packages (from gym[Robotics,classic_control]) (0.0.6)\n",
            "Requirement already satisfied: numpy>=1.18.0 in /usr/local/lib/python3.7/dist-packages (from gym[Robotics,classic_control]) (1.21.5)\n",
            "Requirement already satisfied: pygame==2.1.0 in /usr/local/lib/python3.7/dist-packages (from gym[Robotics,classic_control]) (2.1.0)\n",
            "Requirement already satisfied: zipp>=0.5 in /usr/local/lib/python3.7/dist-packages (from importlib-metadata>=4.10.0->gym[Robotics,classic_control]) (3.8.0)\n",
            "Requirement already satisfied: typing-extensions>=3.6.4 in /usr/local/lib/python3.7/dist-packages (from importlib-metadata>=4.10.0->gym[Robotics,classic_control]) (4.1.1)\n"
          ]
        }
      ]
    },
    {
      "cell_type": "code",
      "source": [
        "!pip install gym-robotics"
      ],
      "metadata": {
        "colab": {
          "base_uri": "https://localhost:8080/"
        },
        "id": "VIKORCeWMG-7",
        "outputId": "250ab2db-2d4b-4e26-f252-aad20a3619ce"
      },
      "execution_count": 7,
      "outputs": [
        {
          "output_type": "stream",
          "name": "stdout",
          "text": [
            "Requirement already satisfied: gym-robotics in /usr/local/lib/python3.7/dist-packages (0.1.0)\n",
            "Requirement already satisfied: cloudpickle>=1.2.0 in /usr/local/lib/python3.7/dist-packages (from gym-robotics) (1.3.0)\n",
            "Requirement already satisfied: importlib-metadata>=4.8.1 in /usr/local/lib/python3.7/dist-packages (from gym-robotics) (4.11.3)\n",
            "Requirement already satisfied: numpy>=1.18.0 in /usr/local/lib/python3.7/dist-packages (from gym-robotics) (1.21.5)\n",
            "Requirement already satisfied: gym>=0.22 in /usr/local/lib/python3.7/dist-packages (from gym-robotics) (0.23.1)\n",
            "Requirement already satisfied: gym-notices>=0.0.4 in /usr/local/lib/python3.7/dist-packages (from gym>=0.22->gym-robotics) (0.0.6)\n",
            "Requirement already satisfied: zipp>=0.5 in /usr/local/lib/python3.7/dist-packages (from importlib-metadata>=4.8.1->gym-robotics) (3.8.0)\n",
            "Requirement already satisfied: typing-extensions>=3.6.4 in /usr/local/lib/python3.7/dist-packages (from importlib-metadata>=4.8.1->gym-robotics) (4.1.1)\n"
          ]
        }
      ]
    },
    {
      "cell_type": "code",
      "source": [
        "!pip3 install box2d-py\n",
        "!pip3 install gym[Box_2D]"
      ],
      "metadata": {
        "colab": {
          "base_uri": "https://localhost:8080/"
        },
        "id": "VhZZ2xD4MHBQ",
        "outputId": "d52778c5-e3a5-4634-ea51-5e3d06fad7f3"
      },
      "execution_count": 8,
      "outputs": [
        {
          "output_type": "stream",
          "name": "stdout",
          "text": [
            "Requirement already satisfied: box2d-py in /usr/local/lib/python3.7/dist-packages (2.3.8)\n",
            "Requirement already satisfied: gym[Box_2D] in /usr/local/lib/python3.7/dist-packages (0.23.1)\n",
            "\u001b[33mWARNING: gym 0.23.1 does not provide the extra 'box_2d'\u001b[0m\n",
            "Requirement already satisfied: gym-notices>=0.0.4 in /usr/local/lib/python3.7/dist-packages (from gym[Box_2D]) (0.0.6)\n",
            "Requirement already satisfied: cloudpickle>=1.2.0 in /usr/local/lib/python3.7/dist-packages (from gym[Box_2D]) (1.3.0)\n",
            "Requirement already satisfied: numpy>=1.18.0 in /usr/local/lib/python3.7/dist-packages (from gym[Box_2D]) (1.21.5)\n",
            "Requirement already satisfied: importlib-metadata>=4.10.0 in /usr/local/lib/python3.7/dist-packages (from gym[Box_2D]) (4.11.3)\n",
            "Requirement already satisfied: zipp>=0.5 in /usr/local/lib/python3.7/dist-packages (from importlib-metadata>=4.10.0->gym[Box_2D]) (3.8.0)\n",
            "Requirement already satisfied: typing-extensions>=3.6.4 in /usr/local/lib/python3.7/dist-packages (from importlib-metadata>=4.10.0->gym[Box_2D]) (4.1.1)\n"
          ]
        }
      ]
    },
    {
      "cell_type": "markdown",
      "source": [
        "# Test your environment"
      ],
      "metadata": {
        "id": "gKzVCpNtMM9I"
      }
    },
    {
      "cell_type": "code",
      "source": [
        "import gym\n",
        "import numpy as np\n",
        "import matplotlib.pyplot as plt\n",
        "from IPython import display as ipythondisplay"
      ],
      "metadata": {
        "id": "y9Knk7bLUzXL"
      },
      "execution_count": 9,
      "outputs": []
    },
    {
      "cell_type": "code",
      "source": [
        "from pyvirtualdisplay import Display\n",
        "display = Display(visible=0, size=(400, 300))\n",
        "display.start()"
      ],
      "metadata": {
        "colab": {
          "base_uri": "https://localhost:8080/"
        },
        "id": "OHVJUrE8Uz_u",
        "outputId": "3639d3b5-a25e-47a7-c04f-81f518328481"
      },
      "execution_count": 10,
      "outputs": [
        {
          "output_type": "execute_result",
          "data": {
            "text/plain": [
              "<pyvirtualdisplay.display.Display at 0x7fa73cffdf50>"
            ]
          },
          "metadata": {},
          "execution_count": 10
        }
      ]
    },
    {
      "cell_type": "code",
      "source": [
        "# env = gym.make(\"CartPole-v0\")\n",
        "# env = gym.make(\"DoubleDunk-v0\")\n",
        "# env = gym.make(\"SpaceInvaders-v0\")\n",
        "# env = gym.make(\"Acrobot-v1\") # double invert pendulum\n",
        "# env = gym.make(\"Ant-v2\")\n",
        "env = gym.make(\"FetchPickAndPlace-v1\")\n",
        "env.reset()\n",
        "prev_screen = env.render(mode='rgb_array')\n",
        "plt.imshow(prev_screen)\n",
        "\n",
        "for i in range(20):\n",
        "    action = env.action_space.sample()\n",
        "    obs, reward, done, info = env.step(action)\n",
        "    screen = env.render(mode='rgb_array')\n",
        "\n",
        "    plt.imshow(screen)\n",
        "    ipythondisplay.clear_output(wait=True)\n",
        "    ipythondisplay.display(plt.gcf())\n",
        "\n",
        "    if done:\n",
        "        break\n",
        "\n",
        "ipythondisplay.clear_output(wait=True)\n",
        "env.close()"
      ],
      "metadata": {
        "id": "Udl9i0euMV7d",
        "colab": {
          "base_uri": "https://localhost:8080/",
          "height": 269
        },
        "outputId": "a17e24cc-e924-4d5b-9be7-0860385a7275"
      },
      "execution_count": 11,
      "outputs": [
        {
          "output_type": "display_data",
          "data": {
            "text/plain": [
              "<Figure size 432x288 with 1 Axes>"
            ],
            "image/png": "[encoded data removed]"
          },
          "metadata": {
            "needs_background": "light"
          }
        }
      ]
    },
    {
      "cell_type": "markdown",
      "source": [
        "# Save simulator video"
      ],
      "metadata": {
        "id": "NB-l6FIeMad5"
      }
    },
    {
      "cell_type": "code",
      "source": [
        "import os\n",
        "import gym\n",
        "from gym.wrappers import RecordVideo\n",
        "\n",
        "vdo_path = 'video_rl/'\n",
        "if not os.path.exists(vdo_path):\n",
        "    os.mkdir(vdo_path)\n",
        "\n",
        "# env = gym.make(\"CartPole-v0\")\n",
        "# env = gym.make(\"DoubleDunk-v0\")\n",
        "# env = gym.make(\"SpaceInvaders-v0\")\n",
        "# env = gym.make(\"Acrobot-v1\") # double invert pendulum\n",
        "# env = gym.make(\"Ant-v2\")\n",
        "\n",
        "env = RecordVideo(gym.make('Ant-v3'), vdo_path)\n",
        "env.reset()\n",
        "\n",
        "for i in range(500):\n",
        "    action = env.action_space.sample()\n",
        "    obs, reward, done, info = env.step(action)\n",
        "    screen = env.render()\n",
        "    if done:\n",
        "        break\n",
        "\n",
        "env.close()"
      ],
      "metadata": {
        "colab": {
          "base_uri": "https://localhost:8080/"
        },
        "id": "825vWbeGMWAy",
        "outputId": "0586e926-849e-487a-a5c9-4722b58ae450"
      },
      "execution_count": 12,
      "outputs": [
        {
          "output_type": "stream",
          "name": "stderr",
          "text": [
            "/usr/local/lib/python3.7/dist-packages/gym/wrappers/record_video.py:42: UserWarning: \u001b[33mWARN: Overwriting existing videos at /content/video_rl folder (try specifying a different `video_folder` for the `RecordVideo` wrapper if this is not desired)\u001b[0m\n",
            "  f\"Overwriting existing videos at {self.video_folder} folder (try specifying a different `video_folder` for the `RecordVideo` wrapper if this is not desired)\"\n",
            "/usr/local/lib/python3.7/dist-packages/gym/wrappers/monitoring/video_recorder.py:116: DeprecationWarning: \u001b[33mWARN: `env.metadata[\"video.frames_per_second\"] is marked as deprecated and will be replaced with `env.metadata[\"render_fps\"]` see https://github.com/openai/gym/pull/2654 for more details\u001b[0m\n",
            "  '`env.metadata[\"video.frames_per_second\"] is marked as deprecated and will be replaced with `env.metadata[\"render_fps\"]` '\n"
          ]
        },
        {
          "output_type": "stream",
          "name": "stdout",
          "text": [
            "Creating window glfw\n"
          ]
        }
      ]
    },
    {
      "cell_type": "markdown",
      "source": [
        "# Policy Gradient and Actor-Critic methods"
      ],
      "metadata": {
        "id": "m4vNPHM0NvPj"
      }
    },
    {
      "cell_type": "markdown",
      "source": [
        "### CartPole example"
      ],
      "metadata": {
        "id": "-tf9fNoTN0pL"
      }
    },
    {
      "cell_type": "code",
      "source": [
        "import numpy as np\n",
        "import matplotlib.pyplot as plt\n",
        "import gym\n",
        "import sys\n",
        "\n",
        "import torch\n",
        "from torch import nn\n",
        "import torch.nn.functional as F\n",
        "from torch import optim\n",
        "from torch.distributions import Categorical\n",
        "\n",
        "from IPython import display as ipythondisplay\n",
        "\n",
        "from pyvirtualdisplay import Display\n",
        "display = Display(visible=0, size=(400, 300))\n",
        "display.start()\n",
        "\n",
        "import os\n",
        "from gym.wrappers import RecordVideo\n",
        "\n",
        "vdo_path = 'video_rl/'\n",
        "if not os.path.exists(vdo_path):\n",
        "    os.mkdir(vdo_path)"
      ],
      "metadata": {
        "id": "_ImjEFkmNwtD"
      },
      "execution_count": 13,
      "outputs": []
    },
    {
      "cell_type": "code",
      "source": [
        "gamma = 0.95\n",
        "seed = 0\n",
        "render = False\n",
        "log_interval = 10"
      ],
      "metadata": {
        "id": "BeMgAaXyNw0x"
      },
      "execution_count": 14,
      "outputs": []
    },
    {
      "cell_type": "code",
      "source": [
        "env = gym.make(\"CartPole-v1\")\n",
        "#env = gym.make(\"SpaceInvaders-v0\")\n",
        "env.seed(seed)\n",
        "torch.manual_seed(seed)"
      ],
      "metadata": {
        "colab": {
          "base_uri": "https://localhost:8080/"
        },
        "id": "nzKzlL6oNw7T",
        "outputId": "46e1cbb3-a824-4556-d991-bd428370cc03"
      },
      "execution_count": 15,
      "outputs": [
        {
          "output_type": "stream",
          "name": "stderr",
          "text": [
            "/usr/local/lib/python3.7/dist-packages/gym/core.py:173: DeprecationWarning: \u001b[33mWARN: Function `env.seed(seed)` is marked as deprecated and will be removed in the future. Please use `env.reset(seed=seed) instead.\u001b[0m\n",
            "  \"Function `env.seed(seed)` is marked as deprecated and will be removed in the future. \"\n"
          ]
        },
        {
          "output_type": "execute_result",
          "data": {
            "text/plain": [
              "<torch._C.Generator at 0x7fa62f4e5f90>"
            ]
          },
          "metadata": {},
          "execution_count": 15
        }
      ]
    },
    {
      "cell_type": "markdown",
      "source": [
        "### Policy class"
      ],
      "metadata": {
        "id": "9e12Pcx5OOMi"
      }
    },
    {
      "cell_type": "code",
      "source": [
        "class Policy(nn.Module):\n",
        "    def __init__(self, env):\n",
        "        super(Policy, self).__init__()\n",
        "        self.n_inputs = env.observation_space.shape[0]\n",
        "        #print(self.n_inputs)\n",
        "        self.n_outputs = env.action_space.n\n",
        "      \n",
        "        \n",
        "        self.affine1 = nn.Linear(self.n_inputs, 128)\n",
        "        self.dropout = nn.Dropout(p=0.6)\n",
        "        self.affine2 = nn.Linear(128, self.n_outputs)\n",
        "\n",
        "        self.saved_log_probs = []\n",
        "        self.rewards = []\n",
        "\n",
        "    def forward(self, x):\n",
        "        x = self.affine1(x)\n",
        "        x = self.dropout(x)\n",
        "        x = F.relu(x)\n",
        "        #print(x.shape)\n",
        "        action_scores = self.affine2(x)\n",
        "        return F.softmax(action_scores, dim=1)\n",
        "    \n",
        "    def select_action(self, state):\n",
        "        state = torch.from_numpy(state).float().unsqueeze(0)\n",
        "        probs = self.forward(state)\n",
        "        m = Categorical(probs)\n",
        "        action = m.sample()\n",
        "        policy.saved_log_probs.append(m.log_prob(action))\n",
        "        return action.item()"
      ],
      "metadata": {
        "id": "-Aa9ZMNkNw-p"
      },
      "execution_count": 16,
      "outputs": []
    },
    {
      "cell_type": "code",
      "source": [
        "policy = Policy(env)\n",
        "optimizer = optim.Adam(policy.parameters(), lr=1e-2)\n",
        "eps = np.finfo(np.float32).eps.item()"
      ],
      "metadata": {
        "id": "zU8hOXVzOV2x"
      },
      "execution_count": 17,
      "outputs": []
    },
    {
      "cell_type": "code",
      "source": [
        "def finish_episode():\n",
        "    R = 0\n",
        "    policy_loss = []\n",
        "    returns = []\n",
        "    for r in policy.rewards[::-1]:\n",
        "        R = r + gamma * R\n",
        "        returns.insert(0, R)\n",
        "    returns = torch.tensor(returns)\n",
        "    returns = (returns - returns.mean()) / (returns.std() + eps)\n",
        "    for log_prob, R in zip(policy.saved_log_probs, returns):\n",
        "        policy_loss.append(-log_prob * R)\n",
        "    optimizer.zero_grad()\n",
        "    policy_loss = torch.cat(policy_loss).sum()\n",
        "    policy_loss.backward()\n",
        "    optimizer.step()\n",
        "    del policy.rewards[:]\n",
        "    del policy.saved_log_probs[:]"
      ],
      "metadata": {
        "id": "uo9S4zs0OV5N"
      },
      "execution_count": 18,
      "outputs": []
    },
    {
      "cell_type": "code",
      "source": [
        "from itertools import count\n",
        "def reinforce():\n",
        "    running_reward = 10\n",
        "    for i_episode in count(1):\n",
        "        state, ep_reward = env.reset(), 0\n",
        "        for t in range(1, 10000):  # Don't infinite loop while learning\n",
        "            action = policy.select_action(state)\n",
        "            state, reward, done, _ = env.step(action)\n",
        "            if render:\n",
        "                env.render()\n",
        "            policy.rewards.append(reward)\n",
        "            ep_reward += reward\n",
        "            if done:\n",
        "                break\n",
        "\n",
        "        # calculate reward\n",
        "        # It accepts a list of rewards for the whole episode and needs to calculate \n",
        "        # the discounted total reward for every step. To do this efficiently,\n",
        "        # we calculate the reward from the end of the local reward list.\n",
        "        # The last step of the episode will have the total reward equal to its local reward.\n",
        "        # The step before the last will have the total reward of ep_reward + gamma * running_reward\n",
        "        running_reward = 0.05 * ep_reward + (1 - 0.05) * running_reward\n",
        "        finish_episode()\n",
        "        if i_episode % log_interval == 0:\n",
        "            print('Episode {}\\tLast reward: {:.2f}\\tAverage reward: {:.2f}'.format(\n",
        "                  i_episode, ep_reward, running_reward))\n",
        "        if running_reward > env.spec.reward_threshold:\n",
        "            print(\"Solved! Running reward is now {} and \"\n",
        "                  \"the last episode runs to {} time steps!\".format(running_reward, t))\n",
        "            break"
      ],
      "metadata": {
        "id": "fpF18qAdOV7l"
      },
      "execution_count": 19,
      "outputs": []
    },
    {
      "cell_type": "code",
      "source": [
        "reinforce()\n",
        "env.close()"
      ],
      "metadata": {
        "colab": {
          "base_uri": "https://localhost:8080/"
        },
        "id": "cOEHUPdqOV98",
        "outputId": "2e6d1dd8-6fa2-4577-d5d6-27302605b3a1"
      },
      "execution_count": 20,
      "outputs": [
        {
          "output_type": "stream",
          "name": "stdout",
          "text": [
            "Episode 10\tLast reward: 36.00\tAverage reward: 13.12\n",
            "Episode 20\tLast reward: 41.00\tAverage reward: 18.79\n",
            "Episode 30\tLast reward: 123.00\tAverage reward: 26.18\n",
            "Episode 40\tLast reward: 110.00\tAverage reward: 35.54\n",
            "Episode 50\tLast reward: 48.00\tAverage reward: 53.41\n",
            "Episode 60\tLast reward: 161.00\tAverage reward: 85.45\n",
            "Episode 70\tLast reward: 39.00\tAverage reward: 102.08\n",
            "Episode 80\tLast reward: 239.00\tAverage reward: 133.65\n",
            "Episode 90\tLast reward: 66.00\tAverage reward: 115.97\n",
            "Episode 100\tLast reward: 106.00\tAverage reward: 100.27\n",
            "Episode 110\tLast reward: 63.00\tAverage reward: 83.99\n",
            "Episode 120\tLast reward: 83.00\tAverage reward: 86.38\n",
            "Episode 130\tLast reward: 282.00\tAverage reward: 140.05\n",
            "Episode 140\tLast reward: 118.00\tAverage reward: 157.58\n",
            "Episode 150\tLast reward: 305.00\tAverage reward: 187.27\n",
            "Episode 160\tLast reward: 305.00\tAverage reward: 214.26\n",
            "Episode 170\tLast reward: 178.00\tAverage reward: 232.04\n",
            "Episode 180\tLast reward: 50.00\tAverage reward: 155.10\n",
            "Episode 190\tLast reward: 36.00\tAverage reward: 104.39\n",
            "Episode 200\tLast reward: 28.00\tAverage reward: 72.60\n",
            "Episode 210\tLast reward: 34.00\tAverage reward: 53.44\n",
            "Episode 220\tLast reward: 40.00\tAverage reward: 47.71\n",
            "Episode 230\tLast reward: 50.00\tAverage reward: 47.86\n",
            "Episode 240\tLast reward: 95.00\tAverage reward: 55.31\n",
            "Episode 250\tLast reward: 62.00\tAverage reward: 62.39\n",
            "Episode 260\tLast reward: 83.00\tAverage reward: 69.83\n",
            "Episode 270\tLast reward: 148.00\tAverage reward: 83.14\n",
            "Episode 280\tLast reward: 207.00\tAverage reward: 113.97\n",
            "Episode 290\tLast reward: 500.00\tAverage reward: 253.29\n",
            "Episode 300\tLast reward: 500.00\tAverage reward: 332.62\n",
            "Episode 310\tLast reward: 305.00\tAverage reward: 326.38\n",
            "Episode 320\tLast reward: 342.00\tAverage reward: 328.35\n",
            "Episode 330\tLast reward: 499.00\tAverage reward: 332.12\n",
            "Episode 340\tLast reward: 142.00\tAverage reward: 298.69\n",
            "Episode 350\tLast reward: 230.00\tAverage reward: 281.60\n",
            "Episode 360\tLast reward: 98.00\tAverage reward: 291.94\n",
            "Episode 370\tLast reward: 101.00\tAverage reward: 228.68\n",
            "Episode 380\tLast reward: 287.00\tAverage reward: 192.94\n",
            "Episode 390\tLast reward: 131.00\tAverage reward: 164.08\n",
            "Episode 400\tLast reward: 180.00\tAverage reward: 148.91\n",
            "Episode 410\tLast reward: 110.00\tAverage reward: 139.83\n",
            "Episode 420\tLast reward: 109.00\tAverage reward: 120.70\n",
            "Episode 430\tLast reward: 38.00\tAverage reward: 110.82\n",
            "Episode 440\tLast reward: 117.00\tAverage reward: 111.73\n",
            "Episode 450\tLast reward: 115.00\tAverage reward: 113.60\n",
            "Episode 460\tLast reward: 109.00\tAverage reward: 114.78\n",
            "Episode 470\tLast reward: 100.00\tAverage reward: 95.32\n",
            "Episode 480\tLast reward: 122.00\tAverage reward: 94.41\n",
            "Episode 490\tLast reward: 115.00\tAverage reward: 104.33\n",
            "Episode 500\tLast reward: 156.00\tAverage reward: 123.30\n",
            "Episode 510\tLast reward: 168.00\tAverage reward: 140.07\n",
            "Episode 520\tLast reward: 130.00\tAverage reward: 169.07\n",
            "Episode 530\tLast reward: 301.00\tAverage reward: 194.91\n",
            "Episode 540\tLast reward: 142.00\tAverage reward: 187.77\n",
            "Episode 550\tLast reward: 116.00\tAverage reward: 168.30\n",
            "Episode 560\tLast reward: 195.00\tAverage reward: 164.69\n",
            "Episode 570\tLast reward: 305.00\tAverage reward: 202.96\n",
            "Episode 580\tLast reward: 271.00\tAverage reward: 228.62\n",
            "Episode 590\tLast reward: 331.00\tAverage reward: 258.61\n",
            "Episode 600\tLast reward: 500.00\tAverage reward: 352.63\n",
            "Episode 610\tLast reward: 500.00\tAverage reward: 411.77\n",
            "Episode 620\tLast reward: 363.00\tAverage reward: 422.32\n",
            "Episode 630\tLast reward: 329.00\tAverage reward: 382.12\n",
            "Episode 640\tLast reward: 500.00\tAverage reward: 416.99\n",
            "Episode 650\tLast reward: 500.00\tAverage reward: 449.44\n",
            "Episode 660\tLast reward: 500.00\tAverage reward: 469.73\n",
            "Episode 670\tLast reward: 203.00\tAverage reward: 403.50\n",
            "Episode 680\tLast reward: 134.00\tAverage reward: 300.42\n",
            "Episode 690\tLast reward: 102.00\tAverage reward: 224.68\n",
            "Episode 700\tLast reward: 115.00\tAverage reward: 180.22\n",
            "Episode 710\tLast reward: 108.00\tAverage reward: 152.86\n",
            "Episode 720\tLast reward: 119.00\tAverage reward: 140.39\n",
            "Episode 730\tLast reward: 145.00\tAverage reward: 137.74\n",
            "Episode 740\tLast reward: 162.00\tAverage reward: 149.28\n",
            "Episode 750\tLast reward: 161.00\tAverage reward: 148.57\n",
            "Episode 760\tLast reward: 138.00\tAverage reward: 142.76\n",
            "Episode 770\tLast reward: 154.00\tAverage reward: 141.38\n",
            "Episode 780\tLast reward: 149.00\tAverage reward: 139.76\n",
            "Episode 790\tLast reward: 191.00\tAverage reward: 149.74\n",
            "Episode 800\tLast reward: 194.00\tAverage reward: 162.78\n",
            "Episode 810\tLast reward: 165.00\tAverage reward: 168.95\n",
            "Episode 820\tLast reward: 349.00\tAverage reward: 204.76\n",
            "Episode 830\tLast reward: 293.00\tAverage reward: 269.10\n",
            "Episode 840\tLast reward: 154.00\tAverage reward: 257.86\n",
            "Episode 850\tLast reward: 114.00\tAverage reward: 208.83\n",
            "Episode 860\tLast reward: 137.00\tAverage reward: 175.60\n",
            "Episode 870\tLast reward: 157.00\tAverage reward: 157.77\n",
            "Episode 880\tLast reward: 175.00\tAverage reward: 155.71\n",
            "Episode 890\tLast reward: 148.00\tAverage reward: 150.62\n",
            "Episode 900\tLast reward: 131.00\tAverage reward: 139.69\n",
            "Episode 910\tLast reward: 136.00\tAverage reward: 133.62\n",
            "Episode 920\tLast reward: 111.00\tAverage reward: 125.63\n",
            "Episode 930\tLast reward: 84.00\tAverage reward: 116.27\n",
            "Episode 940\tLast reward: 102.00\tAverage reward: 109.82\n",
            "Episode 950\tLast reward: 120.00\tAverage reward: 105.97\n",
            "Episode 960\tLast reward: 143.00\tAverage reward: 114.17\n",
            "Episode 970\tLast reward: 246.00\tAverage reward: 151.95\n",
            "Episode 980\tLast reward: 500.00\tAverage reward: 272.81\n",
            "Episode 990\tLast reward: 463.00\tAverage reward: 362.12\n",
            "Episode 1000\tLast reward: 239.00\tAverage reward: 323.64\n",
            "Episode 1010\tLast reward: 165.00\tAverage reward: 263.50\n",
            "Episode 1020\tLast reward: 165.00\tAverage reward: 233.46\n",
            "Episode 1030\tLast reward: 170.00\tAverage reward: 207.65\n",
            "Episode 1040\tLast reward: 212.00\tAverage reward: 197.37\n",
            "Episode 1050\tLast reward: 500.00\tAverage reward: 267.51\n",
            "Episode 1060\tLast reward: 500.00\tAverage reward: 356.30\n",
            "Episode 1070\tLast reward: 500.00\tAverage reward: 413.96\n",
            "Episode 1080\tLast reward: 500.00\tAverage reward: 448.49\n",
            "Episode 1090\tLast reward: 500.00\tAverage reward: 463.77\n",
            "Episode 1100\tLast reward: 466.00\tAverage reward: 463.37\n",
            "Episode 1110\tLast reward: 500.00\tAverage reward: 433.26\n",
            "Episode 1120\tLast reward: 500.00\tAverage reward: 457.37\n",
            "Episode 1130\tLast reward: 500.00\tAverage reward: 455.82\n",
            "Episode 1140\tLast reward: 425.00\tAverage reward: 428.27\n",
            "Episode 1150\tLast reward: 213.00\tAverage reward: 388.95\n",
            "Episode 1160\tLast reward: 192.00\tAverage reward: 323.51\n",
            "Episode 1170\tLast reward: 221.00\tAverage reward: 272.44\n",
            "Episode 1180\tLast reward: 144.00\tAverage reward: 230.04\n",
            "Episode 1190\tLast reward: 160.00\tAverage reward: 212.83\n",
            "Episode 1200\tLast reward: 231.00\tAverage reward: 228.30\n",
            "Episode 1210\tLast reward: 500.00\tAverage reward: 309.30\n",
            "Episode 1220\tLast reward: 500.00\tAverage reward: 385.23\n",
            "Episode 1230\tLast reward: 500.00\tAverage reward: 431.28\n",
            "Episode 1240\tLast reward: 500.00\tAverage reward: 451.19\n",
            "Episode 1250\tLast reward: 500.00\tAverage reward: 470.78\n",
            "Solved! Running reward is now 476.19816933568023 and the last episode runs to 500 time steps!\n"
          ]
        }
      ]
    },
    {
      "cell_type": "code",
      "source": [
        "env = RecordVideo(gym.make(\"CartPole-v1\"), vdo_path)\n",
        "is_done = False\n",
        "state = env.reset()\n",
        "while not is_done:\n",
        "    action = policy.select_action(state)\n",
        "    \n",
        "    state, reward, is_done, info = env.step(action)\n",
        "    # print(reward, is_done)\n",
        "    screen = env.render(mode='rgb_array')\n",
        "env.close()"
      ],
      "metadata": {
        "colab": {
          "base_uri": "https://localhost:8080/"
        },
        "id": "A9VFmDmEOV_8",
        "outputId": "cd69b04c-5e18-428b-f911-f22936a69549"
      },
      "execution_count": 21,
      "outputs": [
        {
          "output_type": "stream",
          "name": "stderr",
          "text": [
            "/usr/local/lib/python3.7/dist-packages/gym/wrappers/record_video.py:42: UserWarning: \u001b[33mWARN: Overwriting existing videos at /content/video_rl folder (try specifying a different `video_folder` for the `RecordVideo` wrapper if this is not desired)\u001b[0m\n",
            "  f\"Overwriting existing videos at {self.video_folder} folder (try specifying a different `video_folder` for the `RecordVideo` wrapper if this is not desired)\"\n",
            "/usr/local/lib/python3.7/dist-packages/gym/wrappers/monitoring/video_recorder.py:116: DeprecationWarning: \u001b[33mWARN: `env.metadata[\"video.frames_per_second\"] is marked as deprecated and will be replaced with `env.metadata[\"render_fps\"]` see https://github.com/openai/gym/pull/2654 for more details\u001b[0m\n",
            "  '`env.metadata[\"video.frames_per_second\"] is marked as deprecated and will be replaced with `env.metadata[\"render_fps\"]` '\n"
          ]
        }
      ]
    },
    {
      "cell_type": "markdown",
      "source": [
        "# Policy Gradinet (PG)"
      ],
      "metadata": {
        "id": "XITphezcVzm0"
      }
    },
    {
      "cell_type": "markdown",
      "source": [
        "### PG on CartPole"
      ],
      "metadata": {
        "id": "lGAF18STOpg4"
      }
    },
    {
      "cell_type": "code",
      "source": [
        "import gym\n",
        "from collections import namedtuple\n",
        "\n",
        "\n",
        "class PolicyNet(torch.nn.Module):\n",
        "    def __init__(self, input_size, output_size, hidden_layer_size=64):\n",
        "        super(PolicyNet, self).__init__()\n",
        "        self.fc1 = torch.nn.Linear(input_size, hidden_layer_size)\n",
        "        self.fc2 = torch.nn.Linear(hidden_layer_size, output_size)\n",
        "        self.softmax = torch.nn.Softmax(dim=0)\n",
        "\n",
        "    def forward(self, x):\n",
        "        x = torch.from_numpy(x).float()\n",
        "        return self.softmax(self.fc2(torch.nn.functional.relu(self.fc1(x))))\n",
        "\n",
        "    def get_action_and_logp(self, x):\n",
        "        action_prob = self.forward(x)\n",
        "        m = torch.distributions.Categorical(action_prob)\n",
        "        action = m.sample()\n",
        "        logp = m.log_prob(action)\n",
        "        return action.item(), logp\n",
        "\n",
        "    def act(self, x):\n",
        "        action, _ = self.get_action_and_logp(x)\n",
        "        return action\n",
        "\n",
        "\n",
        "class ValueNet(torch.nn.Module):\n",
        "    def __init__(self, input_size, hidden_layer_size=64):\n",
        "        super(ValueNet, self).__init__()\n",
        "        self.fc1 = torch.nn.Linear(input_size, hidden_layer_size)\n",
        "        self.fc2 = torch.nn.Linear(hidden_layer_size, 1)\n",
        "\n",
        "    def forward(self, x):\n",
        "        x = torch.from_numpy(x).float()\n",
        "        return self.fc2(torch.nn.functional.relu(self.fc1(x)))\n",
        "\n",
        "\n",
        "def vpg(env, num_iter=200, num_traj=10, max_num_steps=1000, gamma=0.98,\n",
        "        policy_learning_rate=0.01, value_learning_rate=0.01,\n",
        "        policy_saved_path='vpg_policy.pt', value_saved_path='vpg_value.pt'):\n",
        "    input_size = env.observation_space.shape[0]\n",
        "    output_size = env.action_space.n\n",
        "    Trajectory = namedtuple('Trajectory', 'states actions rewards dones logp')\n",
        "\n",
        "    def collect_trajectory():\n",
        "        state_list = []\n",
        "        action_list = []\n",
        "        reward_list = []\n",
        "        dones_list = []\n",
        "        logp_list = []\n",
        "        state = env.reset()\n",
        "        done = False\n",
        "        steps = 0\n",
        "        while not done and steps <= max_num_steps:\n",
        "            action, logp = policy.get_action_and_logp(state)\n",
        "            newstate, reward, done, _ = env.step(action)\n",
        "            #reward = reward + float(state[0])\n",
        "            state_list.append(state)\n",
        "            action_list.append(action)\n",
        "            reward_list.append(reward)\n",
        "            dones_list.append(done)\n",
        "            logp_list.append(logp)\n",
        "            steps += 1\n",
        "            state = newstate\n",
        "\n",
        "        traj = Trajectory(states=state_list, actions=action_list,\n",
        "                          rewards=reward_list, logp=logp_list, dones=dones_list)\n",
        "        return traj\n",
        "\n",
        "    def calc_returns(rewards):\n",
        "        dis_rewards = [gamma**i * r for i, r in enumerate(rewards)]\n",
        "        return [sum(dis_rewards[i:]) for i in range(len(dis_rewards))]\n",
        "\n",
        "    policy = PolicyNet(input_size, output_size)\n",
        "    value = ValueNet(input_size)\n",
        "    policy_optimizer = torch.optim.Adam(\n",
        "        policy.parameters(), lr=policy_learning_rate)\n",
        "    value_optimizer = torch.optim.Adam(\n",
        "        value.parameters(), lr=value_learning_rate)\n",
        "\n",
        "    mean_return_list = []\n",
        "    for it in range(num_iter):\n",
        "        traj_list = [collect_trajectory() for _ in range(num_traj)]\n",
        "        returns = [calc_returns(traj.rewards) for traj in traj_list]\n",
        "\n",
        "        policy_loss_terms = [-1. * traj.logp[j] * (returns[i][j] - value(traj.states[j]))\n",
        "                             for i, traj in enumerate(traj_list) for j in range(len(traj.actions))]\n",
        "\n",
        "        policy_loss = 1. / num_traj * torch.cat(policy_loss_terms).sum()\n",
        "        policy_optimizer.zero_grad()\n",
        "        policy_loss.backward()\n",
        "        policy_optimizer.step()\n",
        "\n",
        "        value_loss_terms = [1. / len(traj.actions) * (value(traj.states[j]) - returns[i][j])**2.\n",
        "                            for i, traj in enumerate(traj_list) for j in range(len(traj.actions))]\n",
        "        value_loss = 1. / num_traj * torch.cat(value_loss_terms).sum()\n",
        "        value_optimizer.zero_grad()\n",
        "        value_loss.backward()\n",
        "        value_optimizer.step()\n",
        "\n",
        "        mean_return = 1. / num_traj * \\\n",
        "            sum([traj_returns[0] for traj_returns in returns])\n",
        "        mean_return_list.append(mean_return)\n",
        "        if it % 10 == 0:\n",
        "            print('Iteration {}: Mean Return = {}'.format(it, mean_return))\n",
        "            torch.save(policy.state_dict(), policy_saved_path)\n",
        "            torch.save(value.state_dict(), value_saved_path)\n",
        "    return policy, mean_return_list"
      ],
      "metadata": {
        "id": "jD62vbweOqtP"
      },
      "execution_count": 22,
      "outputs": []
    },
    {
      "cell_type": "code",
      "source": [
        "import gym\n",
        "import matplotlib.pyplot as plt\n",
        "\n",
        "vdo_path = 'video_rl2/'\n",
        "if not os.path.exists(vdo_path):\n",
        "    print(\"No folder \", vdo_path, 'exist. Create the folder')\n",
        "    os.mkdir(vdo_path)\n",
        "    print(\"Create directory finished\")\n",
        "else:\n",
        "    print(vdo_path, 'existed, do nothing')\n",
        "\n",
        "env = gym.make('CartPole-v0')\n",
        "\n",
        "agent, mean_return_list = vpg(env, num_iter=200, max_num_steps=500, gamma=1.0,\n",
        "                              num_traj=5)\n",
        "\n",
        "#env = RecordVideo(gym.make(\"CartPole-v1\"), vdo_path, force=True)\n",
        "env = RecordVideo(gym.make(\"CartPole-v1\"), vdo_path)\n",
        "\n",
        "plt.plot(mean_return_list)\n",
        "plt.xlabel('Iteration')\n",
        "plt.ylabel('Mean Return')\n",
        "plt.savefig('vpg_returns.png', format='png', dpi=300)\n",
        "\n",
        "state = env.reset()\n",
        "for t in range(1000):\n",
        "    action = agent.act(state)\n",
        "    env.render()\n",
        "    state, reward, done, _ = env.step(action)\n",
        "    if done:\n",
        "        break\n",
        "env.close()"
      ],
      "metadata": {
        "colab": {
          "base_uri": "https://localhost:8080/",
          "height": 768
        },
        "id": "GWMIZBfEOqvw",
        "outputId": "05efd470-e7e5-43b2-8c9e-7fc2fca9ed28"
      },
      "execution_count": 23,
      "outputs": [
        {
          "output_type": "stream",
          "name": "stdout",
          "text": [
            "video_rl2/ existed, do nothing\n",
            "Iteration 0: Mean Return = 18.0\n"
          ]
        },
        {
          "output_type": "stream",
          "name": "stderr",
          "text": [
            "/usr/local/lib/python3.7/dist-packages/gym/envs/registration.py:506: UserWarning: \u001b[33mWARN: The environment CartPole-v0 is out of date. You should consider upgrading to version `v1` with the environment ID `CartPole-v1`.\u001b[0m\n",
            "  f\"The environment {path} is out of date. You should consider \"\n"
          ]
        },
        {
          "output_type": "stream",
          "name": "stdout",
          "text": [
            "Iteration 10: Mean Return = 44.400000000000006\n",
            "Iteration 20: Mean Return = 39.0\n",
            "Iteration 30: Mean Return = 51.0\n",
            "Iteration 40: Mean Return = 59.800000000000004\n",
            "Iteration 50: Mean Return = 83.4\n",
            "Iteration 60: Mean Return = 154.60000000000002\n",
            "Iteration 70: Mean Return = 122.2\n",
            "Iteration 80: Mean Return = 113.60000000000001\n",
            "Iteration 90: Mean Return = 199.4\n",
            "Iteration 100: Mean Return = 200.0\n",
            "Iteration 110: Mean Return = 200.0\n",
            "Iteration 120: Mean Return = 200.0\n",
            "Iteration 130: Mean Return = 200.0\n",
            "Iteration 140: Mean Return = 167.0\n",
            "Iteration 150: Mean Return = 190.8\n",
            "Iteration 160: Mean Return = 200.0\n",
            "Iteration 170: Mean Return = 200.0\n",
            "Iteration 180: Mean Return = 200.0\n",
            "Iteration 190: Mean Return = 200.0\n"
          ]
        },
        {
          "output_type": "stream",
          "name": "stderr",
          "text": [
            "/usr/local/lib/python3.7/dist-packages/gym/wrappers/record_video.py:42: UserWarning: \u001b[33mWARN: Overwriting existing videos at /content/video_rl2 folder (try specifying a different `video_folder` for the `RecordVideo` wrapper if this is not desired)\u001b[0m\n",
            "  f\"Overwriting existing videos at {self.video_folder} folder (try specifying a different `video_folder` for the `RecordVideo` wrapper if this is not desired)\"\n",
            "/usr/local/lib/python3.7/dist-packages/gym/wrappers/monitoring/video_recorder.py:116: DeprecationWarning: \u001b[33mWARN: `env.metadata[\"video.frames_per_second\"] is marked as deprecated and will be replaced with `env.metadata[\"render_fps\"]` see https://github.com/openai/gym/pull/2654 for more details\u001b[0m\n",
            "  '`env.metadata[\"video.frames_per_second\"] is marked as deprecated and will be replaced with `env.metadata[\"render_fps\"]` '\n"
          ]
        },
        {
          "output_type": "display_data",
          "data": {
            "text/plain": [
              "<Figure size 432x288 with 1 Axes>"
            ],
            "image/png": "[encoded data removed]"
          },
          "metadata": {
            "needs_background": "light"
          }
        }
      ]
    },
    {
      "cell_type": "markdown",
      "source": [
        "# Actor-Critic"
      ],
      "metadata": {
        "id": "hzGePI6wPjUh"
      }
    },
    {
      "cell_type": "markdown",
      "source": [
        "# Basic CartPole A2C"
      ],
      "metadata": {
        "id": "NQunRiqIPnBQ"
      }
    },
    {
      "cell_type": "code",
      "source": [
        "import torch\n",
        "import torch.nn as nn\n",
        "import torch.nn.functional as F\n",
        "from torch.autograd import Variable\n",
        "import matplotlib.pyplot as plt\n",
        "import numpy as np\n",
        "import math\n",
        "import random\n",
        "import os\n",
        "import gym"
      ],
      "metadata": {
        "id": "cbOdrGATOq0O"
      },
      "execution_count": 24,
      "outputs": []
    },
    {
      "cell_type": "code",
      "source": [
        "# Hyper Parameters\n",
        "STATE_DIM = 4\n",
        "ACTION_DIM = 2\n",
        "STEP = 2000\n",
        "SAMPLE_NUMS = 30"
      ],
      "metadata": {
        "id": "IpoyBef-Oq2c"
      },
      "execution_count": 25,
      "outputs": []
    },
    {
      "cell_type": "code",
      "source": [
        "class ActorNetwork(nn.Module):\n",
        "\n",
        "    def __init__(self,input_size,hidden_size,action_size):\n",
        "        super(ActorNetwork, self).__init__()\n",
        "        self.fc1 = nn.Linear(input_size,hidden_size)\n",
        "        self.fc2 = nn.Linear(hidden_size,hidden_size)\n",
        "        self.fc3 = nn.Linear(hidden_size,action_size)\n",
        "\n",
        "    def forward(self,x):\n",
        "        out = F.relu(self.fc1(x))\n",
        "        out = F.relu(self.fc2(out))\n",
        "        out = F.log_softmax(self.fc3(out))\n",
        "        return out"
      ],
      "metadata": {
        "id": "EnXwqGh8Oq4U"
      },
      "execution_count": 26,
      "outputs": []
    },
    {
      "cell_type": "code",
      "source": [
        "class ValueNetwork(nn.Module):\n",
        "\n",
        "    def __init__(self,input_size,hidden_size,output_size):\n",
        "        super(ValueNetwork, self).__init__()\n",
        "        self.fc1 = nn.Linear(input_size,hidden_size)\n",
        "        self.fc2 = nn.Linear(hidden_size,hidden_size)\n",
        "        self.fc3 = nn.Linear(hidden_size,output_size)\n",
        "\n",
        "    def forward(self,x):\n",
        "        out = F.relu(self.fc1(x))\n",
        "        out = F.relu(self.fc2(out))\n",
        "        out = self.fc3(out)\n",
        "        return out"
      ],
      "metadata": {
        "id": "L0yzHNNnVLwM"
      },
      "execution_count": 27,
      "outputs": []
    },
    {
      "cell_type": "code",
      "source": [
        "def roll_out(actor_network,task,sample_nums,value_network,init_state):\n",
        "    #task.reset()\n",
        "    states = []\n",
        "    actions = []\n",
        "    rewards = []\n",
        "    is_done = False\n",
        "    final_r = 0\n",
        "    state = init_state\n",
        "\n",
        "    for j in range(sample_nums):\n",
        "        states.append(state)\n",
        "        log_softmax_action = actor_network(Variable(torch.Tensor([state])))\n",
        "        softmax_action = torch.exp(log_softmax_action)\n",
        "        action = np.random.choice(ACTION_DIM,p=softmax_action.cpu().data.numpy()[0])\n",
        "        one_hot_action = [int(k == action) for k in range(ACTION_DIM)]\n",
        "        next_state,reward,done,_ = task.step(action)\n",
        "        #fix_reward = -10 if done else 1\n",
        "        actions.append(one_hot_action)\n",
        "        rewards.append(reward)\n",
        "        final_state = next_state\n",
        "        state = next_state\n",
        "        if done:\n",
        "            is_done = True\n",
        "            state = task.reset()\n",
        "            break\n",
        "    if not is_done:\n",
        "        final_r = value_network(Variable(torch.Tensor([final_state]))).cpu().data.numpy()\n",
        "\n",
        "    return states,actions,rewards,final_r,state"
      ],
      "metadata": {
        "id": "wBV39mJAVL14"
      },
      "execution_count": 28,
      "outputs": []
    },
    {
      "cell_type": "code",
      "source": [
        "def discount_reward(r, gamma,final_r):\n",
        "    discounted_r = np.zeros_like(r)\n",
        "    running_add = final_r\n",
        "    for t in reversed(range(0, len(r))):\n",
        "        running_add = running_add * gamma + r[t]\n",
        "        discounted_r[t] = running_add\n",
        "    return discounted_r"
      ],
      "metadata": {
        "id": "hp-atL5wVL4H"
      },
      "execution_count": 29,
      "outputs": []
    },
    {
      "cell_type": "code",
      "source": [
        "def A2C():\n",
        "    # init a task generator for data fetching\n",
        "    task = gym.make(\"CartPole-v0\")\n",
        "    init_state = task.reset()\n",
        "\n",
        "    # init value network\n",
        "    value_network = ValueNetwork(input_size = STATE_DIM,hidden_size = 40,output_size = 1)\n",
        "    value_network_optim = torch.optim.Adam(value_network.parameters(),lr=0.01)\n",
        "\n",
        "    # init actor network\n",
        "    actor_network = ActorNetwork(STATE_DIM,40,ACTION_DIM)\n",
        "    actor_network_optim = torch.optim.Adam(actor_network.parameters(),lr = 0.01)\n",
        "\n",
        "    steps =[]\n",
        "    task_episodes =[]\n",
        "    test_results =[]\n",
        "\n",
        "    for step in range(STEP):\n",
        "        states,actions,rewards,final_r,current_state = roll_out(actor_network,task,SAMPLE_NUMS,value_network,init_state)\n",
        "        init_state = current_state\n",
        "        actions_var = Variable(torch.Tensor(actions).view(-1,ACTION_DIM))\n",
        "        states_var = Variable(torch.Tensor(states).view(-1,STATE_DIM))\n",
        "\n",
        "        # train actor network\n",
        "        actor_network_optim.zero_grad()\n",
        "        log_softmax_actions = actor_network(states_var)\n",
        "        vs = value_network(states_var).detach()\n",
        "        # calculate qs\n",
        "        qs = Variable(torch.Tensor(discount_reward(rewards,0.99,final_r)))\n",
        "\n",
        "        advantages = qs - vs\n",
        "        actor_network_loss = - torch.mean(torch.sum(log_softmax_actions*actions_var,1)* advantages)\n",
        "        actor_network_loss.backward()\n",
        "        torch.nn.utils.clip_grad_norm(actor_network.parameters(),0.5)\n",
        "        actor_network_optim.step()\n",
        "\n",
        "        # train value network\n",
        "        value_network_optim.zero_grad()\n",
        "        target_values = qs\n",
        "        values = value_network(states_var)\n",
        "        criterion = nn.MSELoss()\n",
        "        value_network_loss = criterion(values,target_values)\n",
        "        value_network_loss.backward()\n",
        "        torch.nn.utils.clip_grad_norm(value_network.parameters(),0.5)\n",
        "        value_network_optim.step()\n",
        "\n",
        "        # Testing\n",
        "        if (step + 1) % 50== 0:\n",
        "                result = 0\n",
        "                test_task = gym.make(\"CartPole-v0\")\n",
        "                for test_epi in range(10):\n",
        "                    state = test_task.reset()\n",
        "                    for test_step in range(200):\n",
        "                        softmax_action = torch.exp(actor_network(Variable(torch.Tensor([state]))))\n",
        "                        #print(softmax_action.data)\n",
        "                        action = np.argmax(softmax_action.data.numpy()[0])\n",
        "                        next_state,reward,done,_ = test_task.step(action)\n",
        "                        result += reward\n",
        "                        state = next_state\n",
        "                        if done:\n",
        "                            break\n",
        "                print(\"step:\",step+1,\"test result:\",result/10.0)\n",
        "                steps.append(step+1)\n",
        "                test_results.append(result/10)\n",
        "                \n",
        "    return actor_network"
      ],
      "metadata": {
        "id": "SKXk5RvoVL6q"
      },
      "execution_count": 30,
      "outputs": []
    },
    {
      "cell_type": "code",
      "source": [
        "actor_network = A2C()"
      ],
      "metadata": {
        "colab": {
          "base_uri": "https://localhost:8080/"
        },
        "id": "9xY89l14VL8-",
        "outputId": "91993cd1-6098-4f9f-d23f-8f9243b45758"
      },
      "execution_count": 31,
      "outputs": [
        {
          "output_type": "stream",
          "name": "stderr",
          "text": [
            "/usr/local/lib/python3.7/dist-packages/gym/envs/registration.py:506: UserWarning: \u001b[33mWARN: The environment CartPole-v0 is out of date. You should consider upgrading to version `v1` with the environment ID `CartPole-v1`.\u001b[0m\n",
            "  f\"The environment {path} is out of date. You should consider \"\n",
            "/usr/local/lib/python3.7/dist-packages/ipykernel_launcher.py:12: UserWarning: Creating a tensor from a list of numpy.ndarrays is extremely slow. Please consider converting the list to a single numpy.ndarray with numpy.array() before converting to a tensor. (Triggered internally at  ../torch/csrc/utils/tensor_new.cpp:201.)\n",
            "  if sys.path[0] == '':\n",
            "/usr/local/lib/python3.7/dist-packages/ipykernel_launcher.py:12: UserWarning: Implicit dimension choice for log_softmax has been deprecated. Change the call to include dim=X as an argument.\n",
            "  if sys.path[0] == '':\n",
            "/usr/local/lib/python3.7/dist-packages/ipykernel_launcher.py:34: UserWarning: torch.nn.utils.clip_grad_norm is now deprecated in favor of torch.nn.utils.clip_grad_norm_.\n",
            "/usr/local/lib/python3.7/dist-packages/torch/nn/modules/loss.py:520: UserWarning: Using a target size (torch.Size([30])) that is different to the input size (torch.Size([30, 1])). This will likely lead to incorrect results due to broadcasting. Please ensure they have the same size.\n",
            "  return F.mse_loss(input, target, reduction=self.reduction)\n",
            "/usr/local/lib/python3.7/dist-packages/ipykernel_launcher.py:44: UserWarning: torch.nn.utils.clip_grad_norm is now deprecated in favor of torch.nn.utils.clip_grad_norm_.\n",
            "/usr/local/lib/python3.7/dist-packages/torch/nn/modules/loss.py:520: UserWarning: Using a target size (torch.Size([9])) that is different to the input size (torch.Size([9, 1])). This will likely lead to incorrect results due to broadcasting. Please ensure they have the same size.\n",
            "  return F.mse_loss(input, target, reduction=self.reduction)\n",
            "/usr/local/lib/python3.7/dist-packages/torch/nn/modules/loss.py:520: UserWarning: Using a target size (torch.Size([14])) that is different to the input size (torch.Size([14, 1])). This will likely lead to incorrect results due to broadcasting. Please ensure they have the same size.\n",
            "  return F.mse_loss(input, target, reduction=self.reduction)\n",
            "/usr/local/lib/python3.7/dist-packages/torch/nn/modules/loss.py:520: UserWarning: Using a target size (torch.Size([8])) that is different to the input size (torch.Size([8, 1])). This will likely lead to incorrect results due to broadcasting. Please ensure they have the same size.\n",
            "  return F.mse_loss(input, target, reduction=self.reduction)\n",
            "/usr/local/lib/python3.7/dist-packages/torch/nn/modules/loss.py:520: UserWarning: Using a target size (torch.Size([28])) that is different to the input size (torch.Size([28, 1])). This will likely lead to incorrect results due to broadcasting. Please ensure they have the same size.\n",
            "  return F.mse_loss(input, target, reduction=self.reduction)\n",
            "/usr/local/lib/python3.7/dist-packages/torch/nn/modules/loss.py:520: UserWarning: Using a target size (torch.Size([17])) that is different to the input size (torch.Size([17, 1])). This will likely lead to incorrect results due to broadcasting. Please ensure they have the same size.\n",
            "  return F.mse_loss(input, target, reduction=self.reduction)\n",
            "/usr/local/lib/python3.7/dist-packages/torch/nn/modules/loss.py:520: UserWarning: Using a target size (torch.Size([18])) that is different to the input size (torch.Size([18, 1])). This will likely lead to incorrect results due to broadcasting. Please ensure they have the same size.\n",
            "  return F.mse_loss(input, target, reduction=self.reduction)\n",
            "/usr/local/lib/python3.7/dist-packages/torch/nn/modules/loss.py:520: UserWarning: Using a target size (torch.Size([6])) that is different to the input size (torch.Size([6, 1])). This will likely lead to incorrect results due to broadcasting. Please ensure they have the same size.\n",
            "  return F.mse_loss(input, target, reduction=self.reduction)\n",
            "/usr/local/lib/python3.7/dist-packages/torch/nn/modules/loss.py:520: UserWarning: Using a target size (torch.Size([20])) that is different to the input size (torch.Size([20, 1])). This will likely lead to incorrect results due to broadcasting. Please ensure they have the same size.\n",
            "  return F.mse_loss(input, target, reduction=self.reduction)\n",
            "/usr/local/lib/python3.7/dist-packages/torch/nn/modules/loss.py:520: UserWarning: Using a target size (torch.Size([29])) that is different to the input size (torch.Size([29, 1])). This will likely lead to incorrect results due to broadcasting. Please ensure they have the same size.\n",
            "  return F.mse_loss(input, target, reduction=self.reduction)\n",
            "/usr/local/lib/python3.7/dist-packages/torch/nn/modules/loss.py:520: UserWarning: Using a target size (torch.Size([4])) that is different to the input size (torch.Size([4, 1])). This will likely lead to incorrect results due to broadcasting. Please ensure they have the same size.\n",
            "  return F.mse_loss(input, target, reduction=self.reduction)\n",
            "/usr/local/lib/python3.7/dist-packages/torch/nn/modules/loss.py:520: UserWarning: Using a target size (torch.Size([2])) that is different to the input size (torch.Size([2, 1])). This will likely lead to incorrect results due to broadcasting. Please ensure they have the same size.\n",
            "  return F.mse_loss(input, target, reduction=self.reduction)\n",
            "/usr/local/lib/python3.7/dist-packages/torch/nn/modules/loss.py:520: UserWarning: Using a target size (torch.Size([5])) that is different to the input size (torch.Size([5, 1])). This will likely lead to incorrect results due to broadcasting. Please ensure they have the same size.\n",
            "  return F.mse_loss(input, target, reduction=self.reduction)\n",
            "/usr/local/lib/python3.7/dist-packages/torch/nn/modules/loss.py:520: UserWarning: Using a target size (torch.Size([24])) that is different to the input size (torch.Size([24, 1])). This will likely lead to incorrect results due to broadcasting. Please ensure they have the same size.\n",
            "  return F.mse_loss(input, target, reduction=self.reduction)\n",
            "/usr/local/lib/python3.7/dist-packages/torch/nn/modules/loss.py:520: UserWarning: Using a target size (torch.Size([21])) that is different to the input size (torch.Size([21, 1])). This will likely lead to incorrect results due to broadcasting. Please ensure they have the same size.\n",
            "  return F.mse_loss(input, target, reduction=self.reduction)\n",
            "/usr/local/lib/python3.7/dist-packages/torch/nn/modules/loss.py:520: UserWarning: Using a target size (torch.Size([11])) that is different to the input size (torch.Size([11, 1])). This will likely lead to incorrect results due to broadcasting. Please ensure they have the same size.\n",
            "  return F.mse_loss(input, target, reduction=self.reduction)\n",
            "/usr/local/lib/python3.7/dist-packages/torch/nn/modules/loss.py:520: UserWarning: Using a target size (torch.Size([13])) that is different to the input size (torch.Size([13, 1])). This will likely lead to incorrect results due to broadcasting. Please ensure they have the same size.\n",
            "  return F.mse_loss(input, target, reduction=self.reduction)\n",
            "/usr/local/lib/python3.7/dist-packages/torch/nn/modules/loss.py:520: UserWarning: Using a target size (torch.Size([12])) that is different to the input size (torch.Size([12, 1])). This will likely lead to incorrect results due to broadcasting. Please ensure they have the same size.\n",
            "  return F.mse_loss(input, target, reduction=self.reduction)\n",
            "/usr/local/lib/python3.7/dist-packages/torch/nn/modules/loss.py:520: UserWarning: Using a target size (torch.Size([22])) that is different to the input size (torch.Size([22, 1])). This will likely lead to incorrect results due to broadcasting. Please ensure they have the same size.\n",
            "  return F.mse_loss(input, target, reduction=self.reduction)\n",
            "/usr/local/lib/python3.7/dist-packages/torch/nn/modules/loss.py:520: UserWarning: Using a target size (torch.Size([27])) that is different to the input size (torch.Size([27, 1])). This will likely lead to incorrect results due to broadcasting. Please ensure they have the same size.\n",
            "  return F.mse_loss(input, target, reduction=self.reduction)\n",
            "/usr/local/lib/python3.7/dist-packages/torch/nn/modules/loss.py:520: UserWarning: Using a target size (torch.Size([26])) that is different to the input size (torch.Size([26, 1])). This will likely lead to incorrect results due to broadcasting. Please ensure they have the same size.\n",
            "  return F.mse_loss(input, target, reduction=self.reduction)\n",
            "/usr/local/lib/python3.7/dist-packages/torch/nn/modules/loss.py:520: UserWarning: Using a target size (torch.Size([25])) that is different to the input size (torch.Size([25, 1])). This will likely lead to incorrect results due to broadcasting. Please ensure they have the same size.\n",
            "  return F.mse_loss(input, target, reduction=self.reduction)\n",
            "/usr/local/lib/python3.7/dist-packages/torch/nn/modules/loss.py:520: UserWarning: Using a target size (torch.Size([3])) that is different to the input size (torch.Size([3, 1])). This will likely lead to incorrect results due to broadcasting. Please ensure they have the same size.\n",
            "  return F.mse_loss(input, target, reduction=self.reduction)\n",
            "/usr/local/lib/python3.7/dist-packages/torch/nn/modules/loss.py:520: UserWarning: Using a target size (torch.Size([19])) that is different to the input size (torch.Size([19, 1])). This will likely lead to incorrect results due to broadcasting. Please ensure they have the same size.\n",
            "  return F.mse_loss(input, target, reduction=self.reduction)\n",
            "/usr/local/lib/python3.7/dist-packages/torch/nn/modules/loss.py:520: UserWarning: Using a target size (torch.Size([23])) that is different to the input size (torch.Size([23, 1])). This will likely lead to incorrect results due to broadcasting. Please ensure they have the same size.\n",
            "  return F.mse_loss(input, target, reduction=self.reduction)\n"
          ]
        },
        {
          "output_type": "stream",
          "name": "stdout",
          "text": [
            "step: 50 test result: 25.5\n"
          ]
        },
        {
          "output_type": "stream",
          "name": "stderr",
          "text": [
            "/usr/local/lib/python3.7/dist-packages/torch/nn/modules/loss.py:520: UserWarning: Using a target size (torch.Size([1])) that is different to the input size (torch.Size([1, 1])). This will likely lead to incorrect results due to broadcasting. Please ensure they have the same size.\n",
            "  return F.mse_loss(input, target, reduction=self.reduction)\n",
            "/usr/local/lib/python3.7/dist-packages/torch/nn/modules/loss.py:520: UserWarning: Using a target size (torch.Size([16])) that is different to the input size (torch.Size([16, 1])). This will likely lead to incorrect results due to broadcasting. Please ensure they have the same size.\n",
            "  return F.mse_loss(input, target, reduction=self.reduction)\n"
          ]
        },
        {
          "output_type": "stream",
          "name": "stdout",
          "text": [
            "step: 100 test result: 15.6\n"
          ]
        },
        {
          "output_type": "stream",
          "name": "stderr",
          "text": [
            "/usr/local/lib/python3.7/dist-packages/torch/nn/modules/loss.py:520: UserWarning: Using a target size (torch.Size([10])) that is different to the input size (torch.Size([10, 1])). This will likely lead to incorrect results due to broadcasting. Please ensure they have the same size.\n",
            "  return F.mse_loss(input, target, reduction=self.reduction)\n"
          ]
        },
        {
          "output_type": "stream",
          "name": "stdout",
          "text": [
            "step: 150 test result: 9.5\n"
          ]
        },
        {
          "output_type": "stream",
          "name": "stderr",
          "text": [
            "/usr/local/lib/python3.7/dist-packages/torch/nn/modules/loss.py:520: UserWarning: Using a target size (torch.Size([15])) that is different to the input size (torch.Size([15, 1])). This will likely lead to incorrect results due to broadcasting. Please ensure they have the same size.\n",
            "  return F.mse_loss(input, target, reduction=self.reduction)\n"
          ]
        },
        {
          "output_type": "stream",
          "name": "stdout",
          "text": [
            "step: 200 test result: 8.9\n",
            "step: 250 test result: 38.4\n"
          ]
        },
        {
          "output_type": "stream",
          "name": "stderr",
          "text": [
            "/usr/local/lib/python3.7/dist-packages/torch/nn/modules/loss.py:520: UserWarning: Using a target size (torch.Size([7])) that is different to the input size (torch.Size([7, 1])). This will likely lead to incorrect results due to broadcasting. Please ensure they have the same size.\n",
            "  return F.mse_loss(input, target, reduction=self.reduction)\n"
          ]
        },
        {
          "output_type": "stream",
          "name": "stdout",
          "text": [
            "step: 300 test result: 61.8\n",
            "step: 350 test result: 13.0\n",
            "step: 400 test result: 31.3\n",
            "step: 450 test result: 89.1\n",
            "step: 500 test result: 194.0\n",
            "step: 550 test result: 198.3\n",
            "step: 600 test result: 44.0\n",
            "step: 650 test result: 200.0\n",
            "step: 700 test result: 81.6\n",
            "step: 750 test result: 200.0\n",
            "step: 800 test result: 53.9\n",
            "step: 850 test result: 200.0\n",
            "step: 900 test result: 167.7\n",
            "step: 950 test result: 24.2\n",
            "step: 1000 test result: 44.3\n",
            "step: 1050 test result: 183.4\n",
            "step: 1100 test result: 136.1\n",
            "step: 1150 test result: 193.6\n",
            "step: 1200 test result: 198.9\n",
            "step: 1250 test result: 195.3\n",
            "step: 1300 test result: 163.5\n",
            "step: 1350 test result: 58.7\n",
            "step: 1400 test result: 87.8\n",
            "step: 1450 test result: 114.6\n",
            "step: 1500 test result: 200.0\n",
            "step: 1550 test result: 197.4\n",
            "step: 1600 test result: 131.7\n",
            "step: 1650 test result: 149.4\n",
            "step: 1700 test result: 129.2\n",
            "step: 1750 test result: 200.0\n",
            "step: 1800 test result: 200.0\n",
            "step: 1850 test result: 200.0\n",
            "step: 1900 test result: 200.0\n",
            "step: 1950 test result: 200.0\n",
            "step: 2000 test result: 200.0\n"
          ]
        }
      ]
    },
    {
      "cell_type": "code",
      "source": [
        "vdo_path = 'video_rl3/'\n",
        "if not os.path.exists(vdo_path):\n",
        "    os.mkdir(vdo_path)\n",
        "\n",
        "env = RecordVideo(gym.make(\"CartPole-v1\"), vdo_path)\n",
        "\n",
        "state = env.reset()\n",
        "for t in range(1000):\n",
        "    softmax_action = torch.exp(actor_network(Variable(torch.Tensor([state]))))\n",
        "    #print(softmax_action.data)\n",
        "    action = np.argmax(softmax_action.data.numpy()[0])\n",
        "    env.render()\n",
        "    state, reward, done, _ = env.step(action)\n",
        "    if done:\n",
        "        break\n",
        "env.close()"
      ],
      "metadata": {
        "colab": {
          "base_uri": "https://localhost:8080/"
        },
        "id": "SBehW0YcVMRh",
        "outputId": "5d07bed9-61fd-454c-f4d0-b5835f85a11e"
      },
      "execution_count": 32,
      "outputs": [
        {
          "output_type": "stream",
          "name": "stderr",
          "text": [
            "/usr/local/lib/python3.7/dist-packages/gym/wrappers/record_video.py:42: UserWarning: \u001b[33mWARN: Overwriting existing videos at /content/video_rl3 folder (try specifying a different `video_folder` for the `RecordVideo` wrapper if this is not desired)\u001b[0m\n",
            "  f\"Overwriting existing videos at {self.video_folder} folder (try specifying a different `video_folder` for the `RecordVideo` wrapper if this is not desired)\"\n",
            "/usr/local/lib/python3.7/dist-packages/gym/wrappers/monitoring/video_recorder.py:116: DeprecationWarning: \u001b[33mWARN: `env.metadata[\"video.frames_per_second\"] is marked as deprecated and will be replaced with `env.metadata[\"render_fps\"]` see https://github.com/openai/gym/pull/2654 for more details\u001b[0m\n",
            "  '`env.metadata[\"video.frames_per_second\"] is marked as deprecated and will be replaced with `env.metadata[\"render_fps\"]` '\n",
            "/usr/local/lib/python3.7/dist-packages/ipykernel_launcher.py:12: UserWarning: Implicit dimension choice for log_softmax has been deprecated. Change the call to include dim=X as an argument.\n",
            "  if sys.path[0] == '':\n"
          ]
        }
      ]
    },
    {
      "cell_type": "markdown",
      "source": [
        "# Take Home Exercise"
      ],
      "metadata": {
        "id": "DexjHe02d3TT"
      }
    },
    {
      "cell_type": "markdown",
      "source": [
        "Implement REINFORCE and A2C for one of the Atari games such as Space Invaders using a CNN for the policy network and (for A2C) the value network."
      ],
      "metadata": {
        "id": "3ZyD-Py-d9dF"
      }
    },
    {
      "cell_type": "markdown",
      "source": [
        "### REINFORCE for Space Invaders using a CNN for policy Network"
      ],
      "metadata": {
        "id": "wmCDexkMeBpl"
      }
    },
    {
      "cell_type": "markdown",
      "source": [
        "For this part of exercixe, I used 'SpaceInvaders-v0' for environemnt. In policy Net class, the flatten value, 100800, is used for inputs to pass through the linear. Moreover, making reshape for state in select_action finction since SapceInvaders has only 3 dimensioanl inputs."
      ],
      "metadata": {
        "id": "YIPTFyb6dBoe"
      }
    },
    {
      "cell_type": "code",
      "source": [
        "env = gym.make('SpaceInvaders-v0')\n",
        "#env = gym.make(\"CartPole-v1\")\n",
        "env.seed(seed = seed)\n",
        "torch.manual_seed(seed = seed)"
      ],
      "metadata": {
        "colab": {
          "base_uri": "https://localhost:8080/"
        },
        "id": "xcbhcE2HHwPa",
        "outputId": "60bba064-0afa-4415-f4e6-bbd116456876"
      },
      "execution_count": 33,
      "outputs": [
        {
          "output_type": "stream",
          "name": "stderr",
          "text": [
            "/usr/local/lib/python3.7/dist-packages/gym/envs/registration.py:506: UserWarning: \u001b[33mWARN: The environment SpaceInvaders-v0 is out of date. You should consider upgrading to version `v5` with the environment ID `ALE/SpaceInvaders-v5`.\u001b[0m\n",
            "  f\"The environment {path} is out of date. You should consider \"\n",
            "/usr/local/lib/python3.7/dist-packages/gym/utils/seeding.py:139: DeprecationWarning: \u001b[33mWARN: Function `hash_seed(seed, max_bytes)` is marked as deprecated and will be removed in the future. \u001b[0m\n",
            "  \"Function `hash_seed(seed, max_bytes)` is marked as deprecated and will be removed in the future. \"\n",
            "/usr/local/lib/python3.7/dist-packages/gym/utils/seeding.py:176: DeprecationWarning: \u001b[33mWARN: Function `_bigint_from_bytes(bytes)` is marked as deprecated and will be removed in the future. \u001b[0m\n",
            "  \"Function `_bigint_from_bytes(bytes)` is marked as deprecated and will be removed in the future. \"\n"
          ]
        },
        {
          "output_type": "execute_result",
          "data": {
            "text/plain": [
              "<torch._C.Generator at 0x7fa62f4e5f90>"
            ]
          },
          "metadata": {},
          "execution_count": 33
        }
      ]
    },
    {
      "cell_type": "code",
      "source": [
        "class Policy(nn.Module):\n",
        "    def __init__(self, env):\n",
        "        super(Policy, self).__init__()\n",
        "        self.n_inputs = env.observation_space.shape[0]\n",
        "        #print(self.n_inputs)\n",
        "        self.n_outputs = env.action_space.n\n",
        "      \n",
        "        self.affine1 = nn.Linear(100800, 128)\n",
        "        #self.affine1 = nn.Linear(self.n_inputs, 128)\n",
        "        self.dropout = nn.Dropout(p=0.6)\n",
        "        self.affine2 = nn.Linear(128, self.n_outputs)\n",
        "\n",
        "        self.saved_log_probs = []\n",
        "        self.rewards = []\n",
        "\n",
        "    def forward(self, x):\n",
        "        x = self.affine1(x)\n",
        "        x = self.dropout(x)\n",
        "        x = F.relu(x)\n",
        "        #print(x.shape)\n",
        "        action_scores = self.affine2(x)\n",
        "        return F.softmax(action_scores, dim=1)\n",
        "    \n",
        "    def select_action(self, state):\n",
        "        state = torch.from_numpy(state).float().unsqueeze(0)\n",
        "        state = state.reshape((1,-1))\n",
        "        probs = self.forward(state)\n",
        "        m = Categorical(probs)\n",
        "        action = m.sample()\n",
        "        policy.saved_log_probs.append(m.log_prob(action))\n",
        "        return action.item()"
      ],
      "metadata": {
        "id": "ZDHVkZDbHwSB"
      },
      "execution_count": 34,
      "outputs": []
    },
    {
      "cell_type": "code",
      "source": [
        "policy = Policy(env)\n",
        "optimizer = optim.Adam(policy.parameters(), lr=1e-2)\n",
        "eps = np.finfo(np.float32).eps.item()"
      ],
      "metadata": {
        "id": "Ijt2jINQHwUR"
      },
      "execution_count": 35,
      "outputs": []
    },
    {
      "cell_type": "code",
      "source": [
        "def finish_episode():\n",
        "    R = 0\n",
        "    policy_loss = []\n",
        "    returns = []\n",
        "    for r in policy.rewards[::-1]:\n",
        "        R = r + gamma * R\n",
        "        returns.insert(0, R)\n",
        "    returns = torch.tensor(returns)\n",
        "    returns = (returns - returns.mean()) / (returns.std() + eps)\n",
        "    for log_prob, R in zip(policy.saved_log_probs, returns):\n",
        "        policy_loss.append(-log_prob * R)\n",
        "    optimizer.zero_grad()\n",
        "    policy_loss = torch.cat(policy_loss).sum()\n",
        "    policy_loss.backward()\n",
        "    optimizer.step()\n",
        "    del policy.rewards[:]\n",
        "    del policy.saved_log_probs[:]"
      ],
      "metadata": {
        "id": "O-r57CAlHwWb"
      },
      "execution_count": 36,
      "outputs": []
    },
    {
      "cell_type": "code",
      "source": [
        "from itertools import count\n",
        "def reinforce_():\n",
        "    running_reward = 10\n",
        "    for i_episode in count(1):\n",
        "        state, ep_reward = env.reset(), 0\n",
        "        for t in range(1, 1000):  # Don't infinite loop while learning\n",
        "            action = policy.select_action(state)\n",
        "            state, reward, done, _ = env.step(action)\n",
        "            if render:\n",
        "                env.render()\n",
        "            policy.rewards.append(reward)\n",
        "            ep_reward += reward\n",
        "            if done:\n",
        "                break\n",
        "\n",
        "        # calculate reward\n",
        "        # It accepts a list of rewards for the whole episode and needs to calculate \n",
        "        # the discounted total reward for every step. To do this efficiently,\n",
        "        # we calculate the reward from the end of the local reward list.\n",
        "        # The last step of the episode will have the total reward equal to its local reward.\n",
        "        # The step before the last will have the total reward of ep_reward + gamma * running_reward\n",
        "        running_reward = 0.05 * ep_reward + (1 - 0.05) * running_reward\n",
        "        finish_episode()\n",
        "        if i_episode % log_interval == 0:\n",
        "            print('Episode {}\\tLast reward: {:.2f}\\tAverage reward: {:.2f}'.format(\n",
        "                  i_episode, ep_reward, running_reward))\n",
        "        if running_reward > 100: #env.spec.reward_threshold -->100\n",
        "            print(\"Solved! Running reward is now {} and \"\n",
        "                  \"the last episode runs to {} time steps!\".format(running_reward, t))\n",
        "            break"
      ],
      "metadata": {
        "id": "iRNvw4CqH4Gb"
      },
      "execution_count": 37,
      "outputs": []
    },
    {
      "cell_type": "code",
      "source": [
        "reinforce_()\n",
        "env.close()"
      ],
      "metadata": {
        "colab": {
          "base_uri": "https://localhost:8080/"
        },
        "id": "NhitE0RiH4Ke",
        "outputId": "253e8c4a-25c5-49f8-c633-3dc30c757304"
      },
      "execution_count": 38,
      "outputs": [
        {
          "output_type": "stream",
          "name": "stderr",
          "text": [
            "/usr/local/lib/python3.7/dist-packages/gym/utils/seeding.py:48: DeprecationWarning: \u001b[33mWARN: Function `rng.randint(low, [high, size, dtype])` is marked as deprecated and will be removed in the future. Please use `rng.integers(low, [high, size, dtype])` instead.\u001b[0m\n",
            "  \"Function `rng.randint(low, [high, size, dtype])` is marked as deprecated \"\n"
          ]
        },
        {
          "output_type": "stream",
          "name": "stdout",
          "text": [
            "Episode 10\tLast reward: 210.00\tAverage reward: 74.83\n",
            "Solved! Running reward is now 106.36156970938475 and the last episode runs to 982 time steps!\n"
          ]
        }
      ]
    },
    {
      "cell_type": "markdown",
      "source": [
        "For the result, with Episode 10, Last reward is 210.00 and Average reward is 74.83. Then, Running reward is now 106.36156970938475 and the last episode runs to 982 time steps."
      ],
      "metadata": {
        "id": "94Bb4StPd3mY"
      }
    },
    {
      "cell_type": "code",
      "source": [
        "env = RecordVideo(gym.make(\"SpaceInvaders-v0\"), vdo_path)\n",
        "is_done = False\n",
        "state = env.reset()\n",
        "while not is_done:\n",
        "    action = policy.select_action(state)\n",
        "    \n",
        "    state, reward, is_done, info = env.step(action)\n",
        "    # print(reward, is_done)\n",
        "    screen = env.render(mode='rgb_array')\n",
        "env.close()"
      ],
      "metadata": {
        "id": "Q1vpOjPd_9xg",
        "colab": {
          "base_uri": "https://localhost:8080/"
        },
        "outputId": "6d8416c1-b9de-4fcc-8db3-8f644336655c"
      },
      "execution_count": 39,
      "outputs": [
        {
          "output_type": "stream",
          "name": "stderr",
          "text": [
            "/usr/local/lib/python3.7/dist-packages/gym/envs/registration.py:506: UserWarning: \u001b[33mWARN: The environment SpaceInvaders-v0 is out of date. You should consider upgrading to version `v5` with the environment ID `ALE/SpaceInvaders-v5`.\u001b[0m\n",
            "  f\"The environment {path} is out of date. You should consider \"\n",
            "/usr/local/lib/python3.7/dist-packages/gym/utils/seeding.py:139: DeprecationWarning: \u001b[33mWARN: Function `hash_seed(seed, max_bytes)` is marked as deprecated and will be removed in the future. \u001b[0m\n",
            "  \"Function `hash_seed(seed, max_bytes)` is marked as deprecated and will be removed in the future. \"\n",
            "/usr/local/lib/python3.7/dist-packages/gym/utils/seeding.py:176: DeprecationWarning: \u001b[33mWARN: Function `_bigint_from_bytes(bytes)` is marked as deprecated and will be removed in the future. \u001b[0m\n",
            "  \"Function `_bigint_from_bytes(bytes)` is marked as deprecated and will be removed in the future. \"\n",
            "/usr/local/lib/python3.7/dist-packages/gym/wrappers/record_video.py:42: UserWarning: \u001b[33mWARN: Overwriting existing videos at /content/video_rl3 folder (try specifying a different `video_folder` for the `RecordVideo` wrapper if this is not desired)\u001b[0m\n",
            "  f\"Overwriting existing videos at {self.video_folder} folder (try specifying a different `video_folder` for the `RecordVideo` wrapper if this is not desired)\"\n",
            "/usr/local/lib/python3.7/dist-packages/gym/wrappers/monitoring/video_recorder.py:44: DeprecationWarning: \u001b[33mWARN: `env.metadata[\"render.modes\"] is marked as deprecated and will be replaced with `env.metadata[\"render_modes\"]` see https://github.com/openai/gym/pull/2654 for more details\u001b[0m\n",
            "  '`env.metadata[\"render.modes\"] is marked as deprecated and will be replaced with `env.metadata[\"render_modes\"]` '\n",
            "/usr/local/lib/python3.7/dist-packages/gym/utils/seeding.py:48: DeprecationWarning: \u001b[33mWARN: Function `rng.randint(low, [high, size, dtype])` is marked as deprecated and will be removed in the future. Please use `rng.integers(low, [high, size, dtype])` instead.\u001b[0m\n",
            "  \"Function `rng.randint(low, [high, size, dtype])` is marked as deprecated \"\n"
          ]
        }
      ]
    },
    {
      "cell_type": "code",
      "source": [
        ""
      ],
      "metadata": {
        "id": "QdAnQKZG_jDH"
      },
      "execution_count": null,
      "outputs": []
    },
    {
      "cell_type": "markdown",
      "source": [
        "### A2C for Space Invaders using a CNN for value Network"
      ],
      "metadata": {
        "id": "JvusTvDqKqOz"
      }
    },
    {
      "cell_type": "markdown",
      "source": [
        "For this part of exercise, I used 100800 which is the flatten result of 'SpaceInvaders-v0' for state dimension. Moreover, making reshape for input in forward function since the input shape of 'SpaceInvaders-v0' is only three dimenions.\n",
        "\n"
      ],
      "metadata": {
        "id": "-y935mGSeUjU"
      }
    },
    {
      "cell_type": "code",
      "source": [
        "import torch\n",
        "import torch.nn as nn\n",
        "import torch.nn.functional as F\n",
        "import matplotlib.pyplot as plt\n",
        "import numpy as np\n",
        "import math\n",
        "import random\n",
        "import os\n",
        "import gym"
      ],
      "metadata": {
        "id": "zCVPORpFDS0F"
      },
      "execution_count": 41,
      "outputs": []
    },
    {
      "cell_type": "code",
      "source": [
        "# Hyper Parameters\n",
        "STATE_DIM = 100800\n",
        "# STATE_DIM = 3\n",
        "ACTION_DIM = 6\n",
        "STEP = 10\n",
        "SAMPLE_NUMS = 1"
      ],
      "metadata": {
        "id": "kuwl_xQuS2eY"
      },
      "execution_count": 42,
      "outputs": []
    },
    {
      "cell_type": "code",
      "source": [
        "class ActorNetwork(nn.Module):\n",
        "\n",
        "    def __init__(self,input_size,hidden_size,action_size):\n",
        "        super(ActorNetwork, self).__init__()\n",
        "        self.fc1 = nn.Linear(input_size,hidden_size)\n",
        "        self.fc2 = nn.Linear(hidden_size,hidden_size)\n",
        "        self.fc3 = nn.Linear(hidden_size,action_size)\n",
        "\n",
        "    def forward(self,x):\n",
        "        x = x.reshape((1, -1))\n",
        "        out = F.relu(self.fc1(x))\n",
        "        out = F.relu(self.fc2(out))\n",
        "        out = F.log_softmax(self.fc3(out))\n",
        "        return out"
      ],
      "metadata": {
        "id": "p5VWToW5DUge"
      },
      "execution_count": 43,
      "outputs": []
    },
    {
      "cell_type": "code",
      "source": [
        "class ValueNetwork(nn.Module):\n",
        "\n",
        "    def __init__(self,input_size,hidden_size,output_size):\n",
        "        super(ValueNetwork, self).__init__()\n",
        "        self.fc1 = nn.Linear(input_size,hidden_size)\n",
        "        self.fc2 = nn.Linear(hidden_size,hidden_size)\n",
        "        self.fc3 = nn.Linear(hidden_size,output_size)\n",
        "\n",
        "    def forward(self,x):\n",
        "        x = x.reshape((1, -1))\n",
        "        out = F.relu(self.fc1(x))\n",
        "        out = F.relu(self.fc2(out))\n",
        "        out = self.fc3(out)\n",
        "        return out\n"
      ],
      "metadata": {
        "id": "vg-XEvvqDUjI"
      },
      "execution_count": 44,
      "outputs": []
    },
    {
      "cell_type": "code",
      "source": [
        "def roll_out(actor_network,task,sample_nums,value_network,init_state):\n",
        "    #task.reset()\n",
        "    states = []\n",
        "    actions = []\n",
        "    rewards = []\n",
        "    is_done = False\n",
        "    final_r = 0\n",
        "    state = init_state\n",
        "\n",
        "    for j in range(sample_nums):\n",
        "        states.append(state)\n",
        "        log_softmax_action = actor_network(Variable(torch.Tensor([state])))\n",
        "        softmax_action = torch.exp(log_softmax_action)\n",
        "        action = np.random.choice(ACTION_DIM,p=softmax_action.cpu().data.numpy()[0])\n",
        "        one_hot_action = [int(k == action) for k in range(ACTION_DIM)]\n",
        "        next_state,reward,done,_ = task.step(action)\n",
        "        #fix_reward = -10 if done else 1\n",
        "        actions.append(one_hot_action)\n",
        "        rewards.append(reward)\n",
        "        final_state = next_state\n",
        "        state = next_state\n",
        "        if done:\n",
        "            is_done = True\n",
        "            state = task.reset()\n",
        "            break\n",
        "    if not is_done:\n",
        "        final_r = value_network(Variable(torch.Tensor([final_state]))).cpu().data.numpy()\n",
        "\n",
        "    return states,actions,rewards,final_r,state"
      ],
      "metadata": {
        "id": "nylPPg6zDUlL"
      },
      "execution_count": 45,
      "outputs": []
    },
    {
      "cell_type": "code",
      "source": [
        "def discount_reward(r, gamma,final_r):\n",
        "    discounted_r = np.zeros_like(r)\n",
        "    running_add = final_r\n",
        "    for t in reversed(range(0, len(r))):\n",
        "        running_add = running_add * gamma + r[t]\n",
        "        discounted_r[t] = running_add\n",
        "    return discounted_r\n"
      ],
      "metadata": {
        "id": "QyA456UGDUnA"
      },
      "execution_count": 46,
      "outputs": []
    },
    {
      "cell_type": "code",
      "source": [
        "def A2C():\n",
        "    # init a task generator for data fetching\n",
        "    task = gym.make(\"SpaceInvaders-v0\")\n",
        "    init_state = task.reset()\n",
        "\n",
        "    # init value network\n",
        "    value_network = ValueNetwork(input_size = 100800,hidden_size = 40,output_size = 1)\n",
        "    value_network_optim = torch.optim.Adam(value_network.parameters(),lr=0.01)\n",
        "\n",
        "    # init actor network\n",
        "    actor_network = ActorNetwork(100800,40,ACTION_DIM)\n",
        "    actor_network_optim = torch.optim.Adam(actor_network.parameters(),lr = 0.01)\n",
        "\n",
        "    steps =[]\n",
        "    task_episodes =[]\n",
        "    test_results =[]\n",
        "\n",
        "    for step in range(STEP):\n",
        "        states,actions,rewards,final_r,current_state = roll_out(actor_network,task,SAMPLE_NUMS,value_network,init_state)\n",
        "        init_state = current_state\n",
        "        actions_var = Variable(torch.Tensor(actions).view(-1,ACTION_DIM))\n",
        "        states_var = Variable(torch.Tensor(states).view(-1,STATE_DIM))\n",
        "        #print(actions_var.shape)\n",
        "        #print(states_var.shape)\n",
        "\n",
        "        # train actor network\n",
        "        actor_network_optim.zero_grad()\n",
        "        log_softmax_actions = actor_network(states_var)\n",
        "        vs = value_network(states_var).detach()\n",
        "        # calculate qs\n",
        "        qs = Variable(torch.Tensor(discount_reward(rewards,0.99,final_r)))\n",
        "\n",
        "        advantages = qs - vs\n",
        "        actor_network_loss = - torch.mean(torch.sum(log_softmax_actions*actions_var,1)* advantages)\n",
        "        actor_network_loss.backward()\n",
        "        torch.nn.utils.clip_grad_norm(actor_network.parameters(),0.5)\n",
        "        actor_network_optim.step()\n",
        "\n",
        "        # train value network\n",
        "        value_network_optim.zero_grad()\n",
        "        target_values = qs\n",
        "        values = value_network(states_var)\n",
        "        criterion = nn.MSELoss()\n",
        "        value_network_loss = criterion(values,target_values)\n",
        "        value_network_loss.backward()\n",
        "        torch.nn.utils.clip_grad_norm(value_network.parameters(),0.5)\n",
        "        value_network_optim.step()\n",
        "\n",
        "        # Testing\n",
        "        if (step + 1) % 1== 0:\n",
        "                result = 0\n",
        "                test_task = gym.make(\"SpaceInvaders-v0\")\n",
        "                for test_epi in range(10):\n",
        "                    state = test_task.reset()\n",
        "                    for test_step in range(200):\n",
        "                        softmax_action = torch.exp(actor_network(Variable(torch.Tensor([state]))))\n",
        "                        #print(softmax_action.data)\n",
        "                        action = np.argmax(softmax_action.data.numpy()[0])\n",
        "                        next_state,reward,done,_ = test_task.step(action)\n",
        "                        result += reward\n",
        "                        state = next_state\n",
        "                        if done:\n",
        "                            break\n",
        "                print(\"step:\",step+1,\"test result:\",result/10.0)\n",
        "                steps.append(step+1)\n",
        "                test_results.append(result/10)\n",
        "                \n",
        "    return actor_network"
      ],
      "metadata": {
        "id": "SfaKmScJTPeD"
      },
      "execution_count": 50,
      "outputs": []
    },
    {
      "cell_type": "code",
      "source": [
        "actor_network = A2C()\n"
      ],
      "metadata": {
        "colab": {
          "base_uri": "https://localhost:8080/"
        },
        "id": "A_SKE3_XDaSY",
        "outputId": "9bf2778e-4327-4f87-ca73-52e32c8f399e"
      },
      "execution_count": 51,
      "outputs": [
        {
          "output_type": "stream",
          "name": "stderr",
          "text": [
            "/usr/local/lib/python3.7/dist-packages/gym/envs/registration.py:506: UserWarning: \u001b[33mWARN: The environment SpaceInvaders-v0 is out of date. You should consider upgrading to version `v5` with the environment ID `ALE/SpaceInvaders-v5`.\u001b[0m\n",
            "  f\"The environment {path} is out of date. You should consider \"\n",
            "/usr/local/lib/python3.7/dist-packages/gym/utils/seeding.py:139: DeprecationWarning: \u001b[33mWARN: Function `hash_seed(seed, max_bytes)` is marked as deprecated and will be removed in the future. \u001b[0m\n",
            "  \"Function `hash_seed(seed, max_bytes)` is marked as deprecated and will be removed in the future. \"\n",
            "/usr/local/lib/python3.7/dist-packages/gym/utils/seeding.py:176: DeprecationWarning: \u001b[33mWARN: Function `_bigint_from_bytes(bytes)` is marked as deprecated and will be removed in the future. \u001b[0m\n",
            "  \"Function `_bigint_from_bytes(bytes)` is marked as deprecated and will be removed in the future. \"\n",
            "/usr/local/lib/python3.7/dist-packages/ipykernel_launcher.py:13: UserWarning: Implicit dimension choice for log_softmax has been deprecated. Change the call to include dim=X as an argument.\n",
            "  del sys.path[0]\n",
            "/usr/local/lib/python3.7/dist-packages/gym/utils/seeding.py:48: DeprecationWarning: \u001b[33mWARN: Function `rng.randint(low, [high, size, dtype])` is marked as deprecated and will be removed in the future. Please use `rng.integers(low, [high, size, dtype])` instead.\u001b[0m\n",
            "  \"Function `rng.randint(low, [high, size, dtype])` is marked as deprecated \"\n",
            "/usr/local/lib/python3.7/dist-packages/ipykernel_launcher.py:36: UserWarning: torch.nn.utils.clip_grad_norm is now deprecated in favor of torch.nn.utils.clip_grad_norm_.\n",
            "/usr/local/lib/python3.7/dist-packages/torch/nn/modules/loss.py:520: UserWarning: Using a target size (torch.Size([1])) that is different to the input size (torch.Size([1, 1])). This will likely lead to incorrect results due to broadcasting. Please ensure they have the same size.\n",
            "  return F.mse_loss(input, target, reduction=self.reduction)\n",
            "/usr/local/lib/python3.7/dist-packages/ipykernel_launcher.py:46: UserWarning: torch.nn.utils.clip_grad_norm is now deprecated in favor of torch.nn.utils.clip_grad_norm_.\n"
          ]
        },
        {
          "output_type": "stream",
          "name": "stdout",
          "text": [
            "step: 1 test result: 57.5\n",
            "step: 2 test result: 57.5\n",
            "step: 3 test result: 62.5\n",
            "step: 4 test result: 62.5\n",
            "step: 5 test result: 62.5\n",
            "step: 6 test result: 65.0\n",
            "step: 7 test result: 62.5\n",
            "step: 8 test result: 62.5\n",
            "step: 9 test result: 60.0\n",
            "step: 10 test result: 62.5\n"
          ]
        }
      ]
    },
    {
      "cell_type": "markdown",
      "source": [
        "For the test result, it got total 62.5 in 10 steps."
      ],
      "metadata": {
        "id": "qPWhf3OTflnn"
      }
    },
    {
      "cell_type": "code",
      "source": [
        ""
      ],
      "metadata": {
        "id": "ybAc7pxNiBVl"
      },
      "execution_count": null,
      "outputs": []
    }
  ]
}