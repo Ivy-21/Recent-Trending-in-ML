{
 "cells": [
  {
   "cell_type": "markdown",
   "id": "0158382f-6b6e-4cae-8dd2-314942efbee2",
   "metadata": {},
   "source": [
    "# Lab10 Report"
   ]
  },
  {
   "cell_type": "markdown",
   "id": "e679907b-7c93-4127-a636-2e2ee729a0eb",
   "metadata": {},
   "source": [
    "### st122314"
   ]
  },
  {
   "cell_type": "markdown",
   "id": "3d6b3ece-c5f7-49a0-bcde-ca903e37f7db",
   "metadata": {},
   "source": [
    "## I. Greedy Search"
   ]
  },
  {
   "cell_type": "markdown",
   "id": "2235722f-0c66-4d84-a20a-1480f3a0918c",
   "metadata": {},
   "source": [
    "### 1. Load and Process the Data"
   ]
  },
  {
   "cell_type": "markdown",
   "id": "4c0249d4-44f5-4485-b4c7-d837029156f9",
   "metadata": {},
   "source": [
    "We are dealing with sequences of words, which cannot be directly mapped to a continuous vector space as we need for LSTMs. We will therefore create a mapping from each unique word in the dataset to an index value. \n",
    "- Voc class : creates both the forward mapping from words to indices and the reverse mapping from indices back to words, as well as a count of each word and a total word count. \n",
    "    - (addWord): a method to add a word to the vocabulary \n",
    "    - (addSentence): a method to add all words in a sentence at once  \n",
    "    - (trim) : a method to trim infrequently seen words "
   ]
  },
  {
   "cell_type": "markdown",
   "id": "56d27ccf-c82a-44fa-bbc7-551b34387449",
   "metadata": {},
   "source": [
    "In vocab preprocessing, the following steps were employed\n",
    "- Converting Unicode strings to ASCII using unicodeToAscii\n",
    "- normalizeString : convert every letter to lowercase and trim all non-letter characters except for basic punctuation\n",
    "- filterPairs: filtering out sentences with length greater than the MAX_LENGTH threshold to improve training convergence"
   ]
  },
  {
   "cell_type": "markdown",
   "id": "3a47c0f7-44de-4d93-ad26-c0280e456dae",
   "metadata": {},
   "source": [
    "After processing chat data file and made into pairs of question-answer sentences, the below two-step process were performed.\n",
    "- Trim words appearing fewer than MIN_COUNT times with the previously-given Voc.trim method.\n",
    "- Filter out all sentence pairs containing trimmed words.\n"
   ]
  },
  {
   "cell_type": "markdown",
   "id": "db35d110-580c-4f16-b364-d64c2e585a56",
   "metadata": {},
   "source": [
    "Next,dataset were splitted into testing and training pair sets and convereted to tensors by using:\n",
    "\n",
    "\n",
    "- inputVar: handles the process of converting sentences to tensor by creating a correctly shaped zero-padded tensor\n",
    "    - returns a tensor of lengths for each of the sequences in the batch which will be passed to our decoder later\n",
    "\n",
    "- outputVar: performs a similar function to inputVar, but instead of returning a lengths tensor\n",
    "    - returns a binary mask tensor and a maximum target sentence length\n",
    "\n",
    "- batch2TrainData: takes a bunch of pairs and returns the input and target tensors using the aforementioned functions"
   ]
  },
  {
   "cell_type": "markdown",
   "id": "6c2d45a2-a276-48da-8c7f-0f390c46b03a",
   "metadata": {},
   "source": [
    "### 2. Define Model"
   ]
  },
  {
   "cell_type": "markdown",
   "id": "6285fe66-d2f6-4f7f-9447-12d589879bd3",
   "metadata": {},
   "source": [
    "- Encoder : consist of bidirectional LSTM units which consider the embeddings or features of next word suitable to predict target variable\n",
    "- Decoder : consist “attention mechanism” that allows the decoder to pay attention to certain parts of the input sequence, rather than using the entire fixed context at every step"
   ]
  },
  {
   "cell_type": "markdown",
   "id": "800c9b7d-ceab-45fd-aa6d-f534b53d3802",
   "metadata": {},
   "source": [
    "### 3. Training"
   ]
  },
  {
   "cell_type": "markdown",
   "id": "a8130986-d999-417b-802a-ab0bd1d8e19a",
   "metadata": {},
   "source": [
    "- maskNLLLoss: calculates our loss based on our decoder’s output tensor, the target tensor, and a binary mask tensor describing the padding of the target tensor\n",
    "    - calculates the average negative log likelihood of the elements that correspond to a 1 in the mask tensor."
   ]
  },
  {
   "cell_type": "markdown",
   "id": "29a50d22-09a1-4d16-a5e7-8fe6dbadb439",
   "metadata": {},
   "source": [
    "In single training iteration, teacher forcing and gradient clipping were used to aid in conergence.\n",
    "\n",
    "- teacher forcing : set by teacher_forcing_ratio, the current target word was used as the decoder’s next input rather than using the decoder’s current guess\n",
    "\n",
    "- gradient clipping : use for countering the “exploding gradient” problem"
   ]
  },
  {
   "cell_type": "markdown",
   "id": "68903441-1ee2-423b-a4c3-d06bb7bfbf1d",
   "metadata": {},
   "source": [
    "In the full training procedure, \n",
    "trainIters : run n_iterations of training given the passed models, optimizers, data, etc. "
   ]
  },
  {
   "cell_type": "markdown",
   "id": "305d044d-28b6-4b3a-8228-56e5e6d2daa9",
   "metadata": {},
   "source": [
    "GreedySearchDecoder : \n",
    "- is greedy decoding operation which use during training when we are NOT using teacher forcing\n",
    "- choose the word from decoder_output with the highest softmax value for each time step \n",
    "- is optimal on a single time-step level.\n",
    "\n"
   ]
  },
  {
   "cell_type": "markdown",
   "id": "2762ac0c-3dce-44c4-8790-07961872881d",
   "metadata": {},
   "source": [
    "After training the model and evaluating, the following is the running result of the Greedy Search."
   ]
  },
  {
   "cell_type": "markdown",
   "id": "2b01abb4-9036-4979-be89-7768004a951c",
   "metadata": {},
   "source": [
    "#### The below cell is the result of data load and processing in Greedy Search Decoding"
   ]
  },
  {
   "cell_type": "raw",
   "id": "4be7c354-a5fe-4979-85b1-ef40bb54ac45",
   "metadata": {},
   "source": [
    "st122314@c62b2f4dc41a:~/Lab10$ /bin/python3 /home/st122314/Lab10/greedy-chatbot.py\n",
    "Start preparing training data ...\n",
    "Reading lines...\n",
    "Read 221282 sentence pairs\n",
    "Trimmed to 64271 sentence pairs\n",
    "Counting words...\n",
    "Counted words: 18008\n",
    "\n",
    "pairs:\n",
    "['there .', 'where ?']\n",
    "['you have my word . as a gentleman', 'you re sweet .']\n",
    "['hi .', 'looks like things worked out tonight huh ?']\n",
    "['you know chastity ?', 'i believe we share an art instructor']\n",
    "['have fun tonight ?', 'tons']\n",
    "['well no . . .', 'then that s all you had to say .']\n",
    "['then that s all you had to say .', 'but']\n",
    "['but', 'you always been this selfish ?']\n",
    "['do you listen to this crap ?', 'what crap ?']\n",
    "['what good stuff ?', 'the real you .']\n",
    "keep_words 7823 / 18005 = 0.4345\n",
    "Trimmed from 64271 pairs to 53165, 0.8272 of total\n",
    "[['there .', 'where ?'], ['you have my word . as a gentleman', 'you re sweet .'], ['hi .', 'looks like things worked out tonight huh ?'], ['have fun tonight ?', 'tons'], ['well no . . .', 'then that s all you had to say .']]\n",
    "[['you have my word . as a gentleman', 'you re sweet .'], ['well no . . .', 'then that s all you had to say .'], ['have fun tonight ?', 'tons'], ['there .', 'where ?'], ['hi .', 'looks like things worked out tonight huh ?']]\n",
    "tensor([[  54,   25,   25,  124,  290],\n",
    "        [1655,  200, 1140,    9,  380],\n",
    "        [   4,   53,   40,  125,    4],\n",
    "        [   2,  360,  125,  242,   76],\n",
    "        [   0,  180,   25,  188,   37],\n",
    "        [   0,    4,  132,  170,  945],\n",
    "        [   0,    2,  920,   66,    4],\n",
    "        [   0,    0, 3117,    2,    2],\n",
    "        [   0,    0,    4,    0,    0],\n",
    "        [   0,    0,    2,    0,    0]])\n",
    "tensor([[ True,  True,  True,  True,  True],\n",
    "        [ True,  True,  True,  True,  True],\n",
    "        [ True,  True,  True,  True,  True],\n",
    "        [ True,  True,  True,  True,  True],\n",
    "        [False,  True,  True,  True,  True],\n",
    "        [False,  True,  True,  True,  True],\n",
    "        [False,  True,  True,  True,  True],\n",
    "        [False, False,  True,  True,  True],\n",
    "        [False, False,  True, False, False],\n",
    "        [False, False,  True, False, False]])\n",
    "\n"
   ]
  },
  {
   "cell_type": "markdown",
   "id": "7f25df70-95ab-4c10-a3c0-d061b179efdd",
   "metadata": {},
   "source": [
    "#### We can see the training with 12000 iterations in Greedy Search Decoding and loss values were deceased."
   ]
  },
  {
   "cell_type": "raw",
   "id": "6361c06e-860b-4433-9351-d71af9db3765",
   "metadata": {},
   "source": [
    "Starting Training!\n",
    "Initializing ...\n",
    "Training...\n",
    "Iteration: 100; Percent complete: 0.8%; Average loss: 5.3060\n",
    "Iteration: 200; Percent complete: 1.7%; Average loss: 4.6995\n",
    "Iteration: 300; Percent complete: 2.5%; Average loss: 4.4700\n",
    "Iteration: 400; Percent complete: 3.3%; Average loss: 4.3123\n",
    "Iteration: 500; Percent complete: 4.2%; Average loss: 4.1686\n",
    "Iteration: 600; Percent complete: 5.0%; Average loss: 4.0704\n",
    "Iteration: 700; Percent complete: 5.8%; Average loss: 3.9952\n",
    "Iteration: 800; Percent complete: 6.7%; Average loss: 3.9128\n",
    "Iteration: 900; Percent complete: 7.5%; Average loss: 3.8448\n",
    "Iteration: 1000; Percent complete: 8.3%; Average loss: 3.7770\n",
    "Iteration: 1100; Percent complete: 9.2%; Average loss: 3.7236\n",
    "Iteration: 1200; Percent complete: 10.0%; Average loss: 3.6551\n",
    "Iteration: 1300; Percent complete: 10.8%; Average loss: 3.6092\n",
    "Iteration: 1400; Percent complete: 11.7%; Average loss: 3.5425\n",
    "Iteration: 1500; Percent complete: 12.5%; Average loss: 3.5004\n",
    "Iteration: 1600; Percent complete: 13.3%; Average loss: 3.4536\n",
    "Iteration: 1700; Percent complete: 14.2%; Average loss: 3.4007\n",
    "Iteration: 1800; Percent complete: 15.0%; Average loss: 3.3559\n",
    "Iteration: 1900; Percent complete: 15.8%; Average loss: 3.3233\n",
    "Iteration: 2000; Percent complete: 16.7%; Average loss: 3.2634\n",
    "content/cb_model/Chat/2-4_512\n",
    "Iteration: 2100; Percent complete: 17.5%; Average loss: 3.2232\n",
    "Iteration: 2200; Percent complete: 18.3%; Average loss: 3.1959\n",
    "Iteration: 2300; Percent complete: 19.2%; Average loss: 3.1307\n",
    "Iteration: 2400; Percent complete: 20.0%; Average loss: 3.0985\n",
    "Iteration: 2500; Percent complete: 20.8%; Average loss: 3.0538\n",
    "Iteration: 2600; Percent complete: 21.7%; Average loss: 3.0083\n",
    "Iteration: 2700; Percent complete: 22.5%; Average loss: 2.9551\n",
    "Iteration: 2800; Percent complete: 23.3%; Average loss: 2.9424\n",
    "Iteration: 2900; Percent complete: 24.2%; Average loss: 2.8887\n",
    "Iteration: 3000; Percent complete: 25.0%; Average loss: 2.8404\n",
    "Iteration: 3100; Percent complete: 25.8%; Average loss: 2.8148\n",
    "Iteration: 3200; Percent complete: 26.7%; Average loss: 2.7623\n",
    "Iteration: 3300; Percent complete: 27.5%; Average loss: 2.7137\n",
    "Iteration: 3400; Percent complete: 28.3%; Average loss: 2.6826\n",
    "Iteration: 3500; Percent complete: 29.2%; Average loss: 2.6348\n",
    "Iteration: 3600; Percent complete: 30.0%; Average loss: 2.6094\n",
    "Iteration: 3700; Percent complete: 30.8%; Average loss: 2.5551\n",
    "Iteration: 3800; Percent complete: 31.7%; Average loss: 2.5328\n",
    "Iteration: 3900; Percent complete: 32.5%; Average loss: 2.4776\n",
    "Iteration: 4000; Percent complete: 33.3%; Average loss: 2.4431\n",
    "content/cb_model/Chat/2-4_512\n",
    "Iteration: 4100; Percent complete: 34.2%; Average loss: 2.4073\n",
    "Iteration: 4200; Percent complete: 35.0%; Average loss: 2.3723\n",
    "Iteration: 4300; Percent complete: 35.8%; Average loss: 2.3369\n",
    "Iteration: 4400; Percent complete: 36.7%; Average loss: 2.2857\n",
    "Iteration: 4500; Percent complete: 37.5%; Average loss: 2.2638\n",
    "Iteration: 4600; Percent complete: 38.3%; Average loss: 2.2127\n",
    "Iteration: 4700; Percent complete: 39.2%; Average loss: 2.1878\n",
    "Iteration: 4800; Percent complete: 40.0%; Average loss: 2.1517\n",
    "Iteration: 4900; Percent complete: 40.8%; Average loss: 2.1029\n",
    "Iteration: 5000; Percent complete: 41.7%; Average loss: 2.0706\n",
    "Iteration: 5100; Percent complete: 42.5%; Average loss: 2.0426\n",
    "Iteration: 5200; Percent complete: 43.3%; Average loss: 1.9931\n",
    "Iteration: 5300; Percent complete: 44.2%; Average loss: 1.9791\n",
    "Iteration: 5400; Percent complete: 45.0%; Average loss: 1.9256\n",
    "Iteration: 5500; Percent complete: 45.8%; Average loss: 1.9048\n",
    "Iteration: 5600; Percent complete: 46.7%; Average loss: 1.8588\n",
    "Iteration: 5700; Percent complete: 47.5%; Average loss: 1.8291\n",
    "Iteration: 5800; Percent complete: 48.3%; Average loss: 1.7999\n",
    "Iteration: 5900; Percent complete: 49.2%; Average loss: 1.7652\n",
    "Iteration: 6000; Percent complete: 50.0%; Average loss: 1.7376\n",
    "content/cb_model/Chat/2-4_512\n",
    "Iteration: 6100; Percent complete: 50.8%; Average loss: 1.7044\n",
    "Iteration: 6200; Percent complete: 51.7%; Average loss: 1.6738\n",
    "Iteration: 6300; Percent complete: 52.5%; Average loss: 1.6465\n",
    "Iteration: 6400; Percent complete: 53.3%; Average loss: 1.6107\n",
    "Iteration: 6500; Percent complete: 54.2%; Average loss: 1.5808\n",
    "Iteration: 6600; Percent complete: 55.0%; Average loss: 1.5432\n",
    "Iteration: 6700; Percent complete: 55.8%; Average loss: 1.5168\n",
    "Iteration: 6800; Percent complete: 56.7%; Average loss: 1.4900\n",
    "Iteration: 6900; Percent complete: 57.5%; Average loss: 1.4641\n",
    "Iteration: 7000; Percent complete: 58.3%; Average loss: 1.4292\n",
    "Iteration: 7100; Percent complete: 59.2%; Average loss: 1.4075\n",
    "Iteration: 7200; Percent complete: 60.0%; Average loss: 1.3770\n",
    "Iteration: 7300; Percent complete: 60.8%; Average loss: 1.3565\n",
    "Iteration: 7400; Percent complete: 61.7%; Average loss: 1.3333\n",
    "Iteration: 7500; Percent complete: 62.5%; Average loss: 1.3031\n",
    "Iteration: 7600; Percent complete: 63.3%; Average loss: 1.2788\n",
    "Iteration: 7700; Percent complete: 64.2%; Average loss: 1.2551\n",
    "Iteration: 7800; Percent complete: 65.0%; Average loss: 1.2299\n",
    "Iteration: 7900; Percent complete: 65.8%; Average loss: 1.2075\n",
    "Iteration: 8000; Percent complete: 66.7%; Average loss: 1.1816\n",
    "content/cb_model/Chat/2-4_512\n",
    "Iteration: 8100; Percent complete: 67.5%; Average loss: 1.1534\n",
    "Iteration: 8200; Percent complete: 68.3%; Average loss: 1.1403\n",
    "Iteration: 8300; Percent complete: 69.2%; Average loss: 1.1189\n",
    "Iteration: 8400; Percent complete: 70.0%; Average loss: 1.0921\n",
    "Iteration: 8500; Percent complete: 70.8%; Average loss: 1.0769\n",
    "Iteration: 8600; Percent complete: 71.7%; Average loss: 1.0542\n",
    "Iteration: 8700; Percent complete: 72.5%; Average loss: 1.0361\n",
    "Iteration: 8800; Percent complete: 73.3%; Average loss: 1.0177\n",
    "Iteration: 8900; Percent complete: 74.2%; Average loss: 0.9974\n",
    "Iteration: 9000; Percent complete: 75.0%; Average loss: 0.9761\n",
    "Iteration: 9100; Percent complete: 75.8%; Average loss: 0.9492\n",
    "Iteration: 9200; Percent complete: 76.7%; Average loss: 0.9416\n",
    "Iteration: 9300; Percent complete: 77.5%; Average loss: 0.9166\n",
    "Iteration: 9400; Percent complete: 78.3%; Average loss: 0.8996\n",
    "Iteration: 9500; Percent complete: 79.2%; Average loss: 0.8808\n",
    "Iteration: 9600; Percent complete: 80.0%; Average loss: 0.8655\n",
    "Iteration: 9700; Percent complete: 80.8%; Average loss: 0.8558\n",
    "Iteration: 9800; Percent complete: 81.7%; Average loss: 0.8343\n",
    "Iteration: 9900; Percent complete: 82.5%; Average loss: 0.8248\n",
    "Iteration: 10000; Percent complete: 83.3%; Average loss: 0.8070\n",
    "content/cb_model/Chat/2-4_512\n",
    "Iteration: 10100; Percent complete: 84.2%; Average loss: 0.7996\n",
    "Iteration: 10200; Percent complete: 85.0%; Average loss: 0.7849\n",
    "Iteration: 10300; Percent complete: 85.8%; Average loss: 0.7646\n",
    "Iteration: 10400; Percent complete: 86.7%; Average loss: 0.7534\n",
    "Iteration: 10500; Percent complete: 87.5%; Average loss: 0.7359\n",
    "Iteration: 10600; Percent complete: 88.3%; Average loss: 0.7193\n",
    "Iteration: 10700; Percent complete: 89.2%; Average loss: 0.6993\n",
    "Iteration: 10800; Percent complete: 90.0%; Average loss: 0.6930\n",
    "Iteration: 10900; Percent complete: 90.8%; Average loss: 0.6822\n",
    "Iteration: 11000; Percent complete: 91.7%; Average loss: 0.6747\n",
    "Iteration: 11100; Percent complete: 92.5%; Average loss: 0.6678\n",
    "Iteration: 11200; Percent complete: 93.3%; Average loss: 0.6526\n",
    "Iteration: 11300; Percent complete: 94.2%; Average loss: 0.6381\n",
    "Iteration: 11400; Percent complete: 95.0%; Average loss: 0.6272\n",
    "Iteration: 11500; Percent complete: 95.8%; Average loss: 0.6203\n",
    "Iteration: 11600; Percent complete: 96.7%; Average loss: 0.6108\n",
    "Iteration: 11700; Percent complete: 97.5%; Average loss: 0.5931\n",
    "Iteration: 11800; Percent complete: 98.3%; Average loss: 0.5870\n",
    "Iteration: 11900; Percent complete: 99.2%; Average loss: 0.5797\n",
    "Iteration: 12000; Percent complete: 100.0%; Average loss: 0.5726\n",
    "content/cb_model/Chat/2-4_512\n",
    "0 0.141080287481769 0.04887164517296948\n",
    "1000 0.14636273855370768 0.05369469026668399\n",
    "2000 0.14459147083794235 0.05515170412998706\n",
    "3000 0.14469663503300492 0.054557500573799676\n",
    "4000 0.1481420628454823 0.055882947532570594\n",
    "5000 0.1464385377903077 0.05527206952174228\n",
    "6000 0.144915610840369 0.054479847706515996\n",
    "7000 0.15316237002079322 0.06355854896913507\n",
    "8000 0.15251515144401484 0.06301620760084482\n",
    "\n"
   ]
  },
  {
   "cell_type": "markdown",
   "id": "f925dd4b-e30e-423f-8aa4-057a9f5ad9e8",
   "metadata": {},
   "source": [
    "#### In this Greedy Search Decoding, we calculated BLEU score for 1 gram and 2 gram which are 0.15179748338026577 and 0.062497703310824354 respectively."
   ]
  },
  {
   "cell_type": "raw",
   "id": "faa20cf5-6f2b-44b1-b301-d18261bcd169",
   "metadata": {},
   "source": [
    "Total Bleu Score for 1 grams on testing pairs:  0.15179748338026577\n",
    "Total Bleu Score for 2 grams on testing pairs:  0.062497703310824354"
   ]
  },
  {
   "cell_type": "markdown",
   "id": "e2267571-688e-4725-a55e-33f14cab5c3f",
   "metadata": {},
   "source": [
    "#### Chat with the greedy search bot"
   ]
  },
  {
   "cell_type": "raw",
   "id": "061e7053-05f7-49db-ba23-44e49e9aa83a",
   "metadata": {},
   "source": [
    "> Hello?\n",
    "Bot: hello . s welles . .\n",
    "> Nice to meet you in this terminal.\n",
    "Bot: you ll go now . .\n",
    "> How are you?\n",
    "Bot: all right son . let s go !\n",
    "> okay.. Thank you\n",
    "Bot: i ll get the dress . out .\n",
    "> "
   ]
  },
  {
   "cell_type": "markdown",
   "id": "955d8e19-5e4a-4baf-ac03-affd833e2474",
   "metadata": {},
   "source": [
    "## II. Beam Search"
   ]
  },
  {
   "cell_type": "markdown",
   "id": "39dc43d2-ac26-4d23-b423-43cf9f760da3",
   "metadata": {},
   "source": [
    "- Beam search is an improved version of greedy search\n",
    "- It has a hyperparameter named beam size, k\n",
    "- At time step 1, selecting k tokens with the highest conditional probabilities. Each of them will be the first token of k candidate output sequences, respectively\n",
    "-  At each subsequent time step, based on the k candidate output sequences at the previous time step, k candidate output sequences has been selected with the highest conditional probabilities from k|r| possible choices."
   ]
  },
  {
   "cell_type": "markdown",
   "id": "a8e11cc4-ffae-49a4-9242-af990e852fe1",
   "metadata": {},
   "source": [
    "Beam search and Greedy search have the same data loading, processing, modelling, training and evaluation. One differnce is GreedySearchDecoder and Beam decoding class."
   ]
  },
  {
   "cell_type": "markdown",
   "id": "ee3b14e7-621c-49c9-bebe-5643b736c685",
   "metadata": {},
   "source": [
    "#### The below cell is data load and processing for Beam Search Decoding."
   ]
  },
  {
   "cell_type": "raw",
   "id": "61f2714d-1642-4095-8951-e4c39d69d751",
   "metadata": {},
   "source": [
    "st122314@9a1d87bf22c3:~/Lab10$ /bin/python3 /home/st122314/Lab10/beam_search.py\n",
    "Start preparing training data ...\n",
    "Reading lines...\n",
    "Read 221282 sentence pairs\n",
    "Trimmed to 64271 sentence pairs\n",
    "Counting words...\n",
    "Counted words: 18008\n",
    "\n",
    "pairs:\n",
    "['there .', 'where ?']\n",
    "['you have my word . as a gentleman', 'you re sweet .']\n",
    "['hi .', 'looks like things worked out tonight huh ?']\n",
    "['you know chastity ?', 'i believe we share an art instructor']\n",
    "['have fun tonight ?', 'tons']\n",
    "['well no . . .', 'then that s all you had to say .']\n",
    "['then that s all you had to say .', 'but']\n",
    "['but', 'you always been this selfish ?']\n",
    "['do you listen to this crap ?', 'what crap ?']\n",
    "['what good stuff ?', 'the real you .']\n",
    "keep_words 7823 / 18005 = 0.4345\n",
    "Trimmed from 64271 pairs to 53165, 0.8272 of total\n"
   ]
  },
  {
   "cell_type": "markdown",
   "id": "7bd7d5d2-d258-4c24-aefc-54b0b2bf09a3",
   "metadata": {},
   "source": [
    "#### We can see the training with 12000 iterations in Beam Search Decoding and loss values were deceased."
   ]
  },
  {
   "cell_type": "raw",
   "id": "ce89bd4a-8091-4b9f-ad96-81ccbbaa6454",
   "metadata": {},
   "source": [
    "Starting Training!\n",
    "Initializing ...\n",
    "Training...\n",
    "Iteration: 100; Percent complete: 0.8%; Average loss: 5.3070\n",
    "Iteration: 200; Percent complete: 1.7%; Average loss: 4.6527\n",
    "Iteration: 300; Percent complete: 2.5%; Average loss: 4.3967\n",
    "Iteration: 400; Percent complete: 3.3%; Average loss: 4.2879\n",
    "Iteration: 500; Percent complete: 4.2%; Average loss: 4.1806\n",
    "Iteration: 600; Percent complete: 5.0%; Average loss: 4.0683\n",
    "Iteration: 700; Percent complete: 5.8%; Average loss: 4.0168\n",
    "Iteration: 800; Percent complete: 6.7%; Average loss: 3.9498\n",
    "Iteration: 900; Percent complete: 7.5%; Average loss: 3.8872\n",
    "Iteration: 1000; Percent complete: 8.3%; Average loss: 3.8207\n",
    "Iteration: 1100; Percent complete: 9.2%; Average loss: 3.7593\n",
    "Iteration: 1200; Percent complete: 10.0%; Average loss: 3.7044\n",
    "Iteration: 1300; Percent complete: 10.8%; Average loss: 3.6422\n",
    "Iteration: 1400; Percent complete: 11.7%; Average loss: 3.5868\n",
    "Iteration: 1500; Percent complete: 12.5%; Average loss: 3.5488\n",
    "Iteration: 1600; Percent complete: 13.3%; Average loss: 3.4775\n",
    "Iteration: 1700; Percent complete: 14.2%; Average loss: 3.4311\n",
    "Iteration: 1800; Percent complete: 15.0%; Average loss: 3.3923\n",
    "Iteration: 1900; Percent complete: 15.8%; Average loss: 3.3407\n",
    "Iteration: 2000; Percent complete: 16.7%; Average loss: 3.3037\n",
    "content/cb_model/Chat/2-4_512\n",
    "Iteration: 2100; Percent complete: 17.5%; Average loss: 3.2544\n",
    "Iteration: 2200; Percent complete: 18.3%; Average loss: 3.2259\n",
    "Iteration: 2300; Percent complete: 19.2%; Average loss: 3.1731\n",
    "Iteration: 2400; Percent complete: 20.0%; Average loss: 3.1425\n",
    "Iteration: 2500; Percent complete: 20.8%; Average loss: 3.0807\n",
    "Iteration: 2600; Percent complete: 21.7%; Average loss: 3.0427\n",
    "Iteration: 2700; Percent complete: 22.5%; Average loss: 3.0337\n",
    "Iteration: 2800; Percent complete: 23.3%; Average loss: 2.9592\n",
    "Iteration: 2900; Percent complete: 24.2%; Average loss: 2.9324\n",
    "Iteration: 3000; Percent complete: 25.0%; Average loss: 2.8996\n",
    "Iteration: 3100; Percent complete: 25.8%; Average loss: 2.8528\n",
    "Iteration: 3200; Percent complete: 26.7%; Average loss: 2.8014\n",
    "Iteration: 3300; Percent complete: 27.5%; Average loss: 2.7761\n",
    "Iteration: 3400; Percent complete: 28.3%; Average loss: 2.7320\n",
    "Iteration: 3500; Percent complete: 29.2%; Average loss: 2.7024\n",
    "Iteration: 3600; Percent complete: 30.0%; Average loss: 2.6705\n",
    "Iteration: 3700; Percent complete: 30.8%; Average loss: 2.6362\n",
    "Iteration: 3800; Percent complete: 31.7%; Average loss: 2.5955\n",
    "Iteration: 3900; Percent complete: 32.5%; Average loss: 2.5634\n",
    "Iteration: 4000; Percent complete: 33.3%; Average loss: 2.5134\n",
    "content/cb_model/Chat/2-4_512\n",
    "Iteration: 4100; Percent complete: 34.2%; Average loss: 2.4784\n",
    "Iteration: 4200; Percent complete: 35.0%; Average loss: 2.4509\n",
    "Iteration: 4300; Percent complete: 35.8%; Average loss: 2.4266\n",
    "Iteration: 4400; Percent complete: 36.7%; Average loss: 2.3841\n",
    "Iteration: 4500; Percent complete: 37.5%; Average loss: 2.3469\n",
    "Iteration: 4600; Percent complete: 38.3%; Average loss: 2.3299\n",
    "Iteration: 4700; Percent complete: 39.2%; Average loss: 2.2926\n",
    "Iteration: 4800; Percent complete: 40.0%; Average loss: 2.2482\n",
    "Iteration: 4900; Percent complete: 40.8%; Average loss: 2.2217\n",
    "Iteration: 5000; Percent complete: 41.7%; Average loss: 2.1911\n",
    "Iteration: 5100; Percent complete: 42.5%; Average loss: 2.1572\n",
    "Iteration: 5200; Percent complete: 43.3%; Average loss: 2.1202\n",
    "Iteration: 5300; Percent complete: 44.2%; Average loss: 2.0856\n",
    "Iteration: 5400; Percent complete: 45.0%; Average loss: 2.0642\n",
    "Iteration: 5500; Percent complete: 45.8%; Average loss: 2.0391\n",
    "Iteration: 5600; Percent complete: 46.7%; Average loss: 1.9981\n",
    "Iteration: 5700; Percent complete: 47.5%; Average loss: 1.9735\n",
    "Iteration: 5800; Percent complete: 48.3%; Average loss: 1.9402\n",
    "Iteration: 5900; Percent complete: 49.2%; Average loss: 1.9202\n",
    "Iteration: 6000; Percent complete: 50.0%; Average loss: 1.8856\n",
    "content/cb_model/Chat/2-4_512\n",
    "Iteration: 6100; Percent complete: 50.8%; Average loss: 1.8527\n",
    "Iteration: 6200; Percent complete: 51.7%; Average loss: 1.8236\n",
    "Iteration: 6300; Percent complete: 52.5%; Average loss: 1.7926\n",
    "Iteration: 6400; Percent complete: 53.3%; Average loss: 1.7556\n",
    "Iteration: 6500; Percent complete: 54.2%; Average loss: 1.7305\n",
    "Iteration: 6600; Percent complete: 55.0%; Average loss: 1.6976\n",
    "Iteration: 6700; Percent complete: 55.8%; Average loss: 1.6857\n",
    "Iteration: 6800; Percent complete: 56.7%; Average loss: 1.6450\n",
    "Iteration: 6900; Percent complete: 57.5%; Average loss: 1.6235\n",
    "Iteration: 7000; Percent complete: 58.3%; Average loss: 1.6138\n",
    "Iteration: 7100; Percent complete: 59.2%; Average loss: 1.5743\n",
    "Iteration: 7200; Percent complete: 60.0%; Average loss: 1.5397\n",
    "Iteration: 7300; Percent complete: 60.8%; Average loss: 1.5149\n",
    "Iteration: 7400; Percent complete: 61.7%; Average loss: 1.5023\n",
    "Iteration: 7500; Percent complete: 62.5%; Average loss: 1.4609\n",
    "Iteration: 7600; Percent complete: 63.3%; Average loss: 1.4424\n",
    "Iteration: 7700; Percent complete: 64.2%; Average loss: 1.4171\n",
    "Iteration: 7800; Percent complete: 65.0%; Average loss: 1.3851\n",
    "Iteration: 7900; Percent complete: 65.8%; Average loss: 1.3616\n",
    "Iteration: 8000; Percent complete: 66.7%; Average loss: 1.3330\n",
    "content/cb_model/Chat/2-4_512\n",
    "Iteration: 8100; Percent complete: 67.5%; Average loss: 1.3193\n",
    "Iteration: 8200; Percent complete: 68.3%; Average loss: 1.2993\n",
    "Iteration: 8300; Percent complete: 69.2%; Average loss: 1.2645\n",
    "Iteration: 8400; Percent complete: 70.0%; Average loss: 1.2376\n",
    "Iteration: 8500; Percent complete: 70.8%; Average loss: 1.2215\n",
    "Iteration: 8600; Percent complete: 71.7%; Average loss: 1.2134\n",
    "Iteration: 8700; Percent complete: 72.5%; Average loss: 1.1757\n",
    "Iteration: 8800; Percent complete: 73.3%; Average loss: 1.1644\n",
    "Iteration: 8900; Percent complete: 74.2%; Average loss: 1.1472\n",
    "Iteration: 9000; Percent complete: 75.0%; Average loss: 1.1251\n",
    "Iteration: 9100; Percent complete: 75.8%; Average loss: 1.1132\n",
    "Iteration: 9200; Percent complete: 76.7%; Average loss: 1.0802\n",
    "Iteration: 9300; Percent complete: 77.5%; Average loss: 1.0645\n",
    "Iteration: 9400; Percent complete: 78.3%; Average loss: 1.0478\n",
    "Iteration: 9500; Percent complete: 79.2%; Average loss: 1.0277\n",
    "Iteration: 9600; Percent complete: 80.0%; Average loss: 1.0020\n",
    "Iteration: 9700; Percent complete: 80.8%; Average loss: 0.9879\n",
    "Iteration: 9800; Percent complete: 81.7%; Average loss: 0.9736\n",
    "Iteration: 9900; Percent complete: 82.5%; Average loss: 0.9519\n",
    "Iteration: 10000; Percent complete: 83.3%; Average loss: 0.9386\n",
    "content/cb_model/Chat/2-4_512\n",
    "Iteration: 10100; Percent complete: 84.2%; Average loss: 0.9227\n",
    "Iteration: 10200; Percent complete: 85.0%; Average loss: 0.9086\n",
    "Iteration: 10300; Percent complete: 85.8%; Average loss: 0.8902\n",
    "Iteration: 10400; Percent complete: 86.7%; Average loss: 0.8632\n",
    "Iteration: 10500; Percent complete: 87.5%; Average loss: 0.8526\n",
    "Iteration: 10600; Percent complete: 88.3%; Average loss: 0.8487\n",
    "Iteration: 10700; Percent complete: 89.2%; Average loss: 0.8316\n",
    "Iteration: 10800; Percent complete: 90.0%; Average loss: 0.8114\n",
    "Iteration: 10900; Percent complete: 90.8%; Average loss: 0.8068\n",
    "Iteration: 11000; Percent complete: 91.7%; Average loss: 0.7876\n",
    "Iteration: 11100; Percent complete: 92.5%; Average loss: 0.7707\n",
    "Iteration: 11200; Percent complete: 93.3%; Average loss: 0.7672\n",
    "Iteration: 11300; Percent complete: 94.2%; Average loss: 0.7534\n",
    "Iteration: 11400; Percent complete: 95.0%; Average loss: 0.7365\n",
    "Iteration: 11500; Percent complete: 95.8%; Average loss: 0.7250\n",
    "Iteration: 11600; Percent complete: 96.7%; Average loss: 0.7108\n",
    "Iteration: 11700; Percent complete: 97.5%; Average loss: 0.6970\n",
    "Iteration: 11800; Percent complete: 98.3%; Average loss: 0.6858\n",
    "Iteration: 11900; Percent complete: 99.2%; Average loss: 0.6898\n",
    "Iteration: 12000; Percent complete: 100.0%; Average loss: 0.6710\n",
    "content/cb_model/Chat/2-4_512\n",
    "0 0.08786571270524224 0.03403024420100487\n",
    "1000 0.13560245731142448 0.054173508766110434\n",
    "2000 0.13202144929246235 0.0547724869705568\n",
    "3000 0.13083288721324685 0.054209945046619204\n",
    "4000 0.133090986999077 0.05569587503441644\n",
    "5000 0.13191480116890775 0.055359817765740615\n",
    "6000 0.1312868774694944 0.05512274845234756\n",
    "7000 0.14314621766285207 0.06683194587443625\n",
    "8000 0.14180658707962898 0.06525827987485991\n"
   ]
  },
  {
   "cell_type": "markdown",
   "id": "c826cb34-930c-4668-a99b-76136d2c466f",
   "metadata": {},
   "source": [
    "#### In this Beam Search Decoding, we calculated BLEU score for 1 gram and 2 gram which are 0.14142280489931194 and 0.06491881943777443 respectively."
   ]
  },
  {
   "cell_type": "raw",
   "id": "7de45d39-be82-43f0-b9d6-51bebaea91b6",
   "metadata": {},
   "source": [
    "Total Bleu Score for 1 grams on testing pairs:  0.14142280489931194\n",
    "Total Bleu Score for 2 grams on testing pairs:  0.06491881943777443"
   ]
  },
  {
   "cell_type": "markdown",
   "id": "ce71060f-f14e-4eec-8523-d88ccebad6fe",
   "metadata": {},
   "source": [
    "#### Chat with the beam search bot."
   ]
  },
  {
   "cell_type": "raw",
   "id": "be4543cd-ab71-41ea-89de-26bd8dfe36e8",
   "metadata": {},
   "source": [
    "> hello\n",
    "Bot: do you want to see doc ?\n",
    "> sure\n",
    "Bot: do you want a perfect for it ?\n",
    "> of course\n",
    "Bot: if you trusted me\n",
    "> yes\n",
    "Bot: why ?\n",
    "> because you are a bot\n",
    "Error: Encountered unknown word.\n",
    "> "
   ]
  },
  {
   "cell_type": "markdown",
   "id": "b9553ed0-d3e5-40d3-b8b3-961fdbd55343",
   "metadata": {},
   "source": [
    "## Independent work"
   ]
  },
  {
   "cell_type": "markdown",
   "id": "b5c9d081-fdf6-4eb0-a4e5-a2ddbda6722a",
   "metadata": {},
   "source": [
    "For the Independent work, there are two part:\n",
    "\n",
    "- 1. Find another dataset of sentence pairs in a different domain and see if you can preprocess the data and train a chatbot model on it using the same code we developed today. Report your results.\n",
    "\n",
    "- 2. Replace the LSTM encoder/decoder with a Transformer. Check out the PyTorch Transformer module documentation"
   ]
  },
  {
   "cell_type": "markdown",
   "id": "43b2dd28-1ea8-4ab8-b25e-d2dba9216a16",
   "metadata": {},
   "source": [
    "### Task1 "
   ]
  },
  {
   "cell_type": "markdown",
   "id": "b0cecc0f-61dc-4de7-990b-dc19fb77ba6c",
   "metadata": {},
   "source": [
    "For this work, I downloaded the sentence pairs dataset from https://www.kaggle.com/code/alincijov/dialog-chatbot-using-bahdanau-attention/data?select=dialogs.txt"
   ]
  },
  {
   "cell_type": "markdown",
   "id": "d6f5a460-c949-4f42-9823-2ae9f06ced5f",
   "metadata": {},
   "source": [
    "#### The below cell is the result of data load and processing in Greedy Search Decoding"
   ]
  },
  {
   "cell_type": "raw",
   "id": "a9fd18b0-0894-4f6a-93b3-0e92e2d08859",
   "metadata": {},
   "source": [
    "Start preparing training data ...\n",
    "Reading lines...\n",
    "Read 3725 sentence pairs\n",
    "Trimmed to 2103 sentence pairs\n",
    "Counting words...\n",
    "Counted words: 1783\n",
    "\n",
    "pairs:\n",
    "['hi how are you doing ?', 'i m fine . how about yourself ?']\n",
    "['i m fine . how about yourself ?', 'i m pretty good . thanks for asking .']\n",
    "['i m pretty good . thanks for asking .', 'no problem . so how have you been ?']\n",
    "['no problem . so how have you been ?', 'i ve been great . what about you ?']\n",
    "['what school do you go to ?', 'i go to pcc .']\n",
    "['i go to pcc .', 'do you like it there ?']\n",
    "['good luck with school .', 'thank you very much .']\n",
    "['how s it going ?', 'i m doing well . how about you ?']\n",
    "['i m doing well . how about you ?', 'never better thanks .']\n",
    "['never better thanks .', 'so how have you been lately ?']\n",
    "keep_words 910 / 1780 = 0.5112\n",
    "Trimmed from 2103 pairs to 1184, 0.5630 of total\n",
    "[['i m fine . how about yourself ?', 'i m pretty good . thanks for asking .'], ['i m pretty good . thanks for asking .', 'no problem . so how have you been ?'], ['no problem . so how have you been ?', 'i ve been great . what about you ?'], ['what school do you go to ?', 'i go to pcc .'], ['i go to pcc .', 'do you like it there ?']]\n",
    "[['i m pretty good . thanks for asking .', 'no problem . so how have you been ?'], ['no problem . so how have you been ?', 'i ve been great . what about you ?'], ['i m fine . how about yourself ?', 'i m pretty good . thanks for asking .'], ['what school do you go to ?', 'i go to pcc .'], ['i go to pcc .', 'do you like it there ?']]\n",
    "tensor([[ 19,  26,   8,  89, 306],\n",
    "        [595,  39,  94, 615,  11],\n",
    "        [  5,  98,   5, 120,   2],\n",
    "        [ 76, 112, 190, 729,   0],\n",
    "        [614,  32,  43, 106,   0],\n",
    "        [ 11,   7,  11, 535,   0],\n",
    "        [  2,   2,   2,  12,   0],\n",
    "        [  0,   0,   0,  11,   0],\n",
    "        [  0,   0,   0,   2,   0]])\n",
    "tensor([[ True,  True,  True,  True,  True],\n",
    "        [ True,  True,  True,  True,  True],\n",
    "        [ True,  True,  True,  True,  True],\n",
    "        [ True,  True,  True,  True, False],\n",
    "        [ True,  True,  True,  True, False],\n",
    "        [ True,  True,  True,  True, False],\n",
    "        [ True,  True,  True,  True, False],\n",
    "        [False, False, False,  True, False],\n",
    "        [False, False, False,  True, False]])"
   ]
  },
  {
   "cell_type": "markdown",
   "id": "99974cd6-2550-4cc1-8c6d-b8ce90e8fcbd",
   "metadata": {},
   "source": [
    "#### We can see the training with 12000 iterations with Greedy Search Decoding and loss values were deceased."
   ]
  },
  {
   "cell_type": "raw",
   "id": "e022f22a-ca6f-4a0a-8ece-edbe04a436c6",
   "metadata": {},
   "source": [
    "Starting Training!\n",
    "Initializing ...\n",
    "Training...\n",
    "Iteration: 100; Percent complete: 0.8%; Average loss: 4.7258\n",
    "Iteration: 200; Percent complete: 1.7%; Average loss: 3.9227\n",
    "Iteration: 300; Percent complete: 2.5%; Average loss: 3.2025\n",
    "Iteration: 400; Percent complete: 3.3%; Average loss: 2.3496\n",
    "Iteration: 500; Percent complete: 4.2%; Average loss: 1.5253\n",
    "Iteration: 600; Percent complete: 5.0%; Average loss: 0.8843\n",
    "Iteration: 700; Percent complete: 5.8%; Average loss: 0.4936\n",
    "Iteration: 800; Percent complete: 6.7%; Average loss: 0.2895\n",
    "Iteration: 900; Percent complete: 7.5%; Average loss: 0.1809\n",
    "Iteration: 1000; Percent complete: 8.3%; Average loss: 0.1249\n",
    "Iteration: 1100; Percent complete: 9.2%; Average loss: 0.0945\n",
    "Iteration: 1200; Percent complete: 10.0%; Average loss: 0.0817\n",
    "Iteration: 1300; Percent complete: 10.8%; Average loss: 0.0650\n",
    "Iteration: 1400; Percent complete: 11.7%; Average loss: 0.0553\n",
    "Iteration: 1500; Percent complete: 12.5%; Average loss: 0.0475\n",
    "Iteration: 1600; Percent complete: 13.3%; Average loss: 0.0459\n",
    "Iteration: 1700; Percent complete: 14.2%; Average loss: 0.0482\n",
    "Iteration: 1800; Percent complete: 15.0%; Average loss: 0.0378\n",
    "Iteration: 1900; Percent complete: 15.8%; Average loss: 0.0341\n",
    "Iteration: 2000; Percent complete: 16.7%; Average loss: 0.0329\n",
    "content/cb_model/Chat/2-4_512\n",
    "Iteration: 2100; Percent complete: 17.5%; Average loss: 0.0304\n",
    "Iteration: 2200; Percent complete: 18.3%; Average loss: 0.0291\n",
    "Iteration: 2300; Percent complete: 19.2%; Average loss: 0.0285\n",
    "Iteration: 2400; Percent complete: 20.0%; Average loss: 0.0306\n",
    "Iteration: 2500; Percent complete: 20.8%; Average loss: 0.0273\n",
    "Iteration: 2600; Percent complete: 21.7%; Average loss: 0.0254\n",
    "Iteration: 2700; Percent complete: 22.5%; Average loss: 0.0238\n",
    "Iteration: 2800; Percent complete: 23.3%; Average loss: 0.0239\n",
    "Iteration: 2900; Percent complete: 24.2%; Average loss: 0.0235\n",
    "Iteration: 3000; Percent complete: 25.0%; Average loss: 0.0262\n",
    "Iteration: 3100; Percent complete: 25.8%; Average loss: 0.0490\n",
    "Iteration: 3200; Percent complete: 26.7%; Average loss: 0.0307\n",
    "Iteration: 3300; Percent complete: 27.5%; Average loss: 0.0236\n",
    "Iteration: 3400; Percent complete: 28.3%; Average loss: 0.0249\n",
    "Iteration: 3500; Percent complete: 29.2%; Average loss: 0.0225\n",
    "Iteration: 3600; Percent complete: 30.0%; Average loss: 0.0221\n",
    "Iteration: 3700; Percent complete: 30.8%; Average loss: 0.0213\n",
    "Iteration: 3800; Percent complete: 31.7%; Average loss: 0.0212\n",
    "Iteration: 3900; Percent complete: 32.5%; Average loss: 0.0212\n",
    "Iteration: 4000; Percent complete: 33.3%; Average loss: 0.0202\n",
    "content/cb_model/Chat/2-4_512\n",
    "Iteration: 4100; Percent complete: 34.2%; Average loss: 0.0214\n",
    "Iteration: 4200; Percent complete: 35.0%; Average loss: 0.0219\n",
    "Iteration: 4300; Percent complete: 35.8%; Average loss: 0.0277\n",
    "Iteration: 4400; Percent complete: 36.7%; Average loss: 0.0306\n",
    "Iteration: 4500; Percent complete: 37.5%; Average loss: 0.0325\n",
    "Iteration: 4600; Percent complete: 38.3%; Average loss: 0.0253\n",
    "Iteration: 4700; Percent complete: 39.2%; Average loss: 0.0222\n",
    "Iteration: 4800; Percent complete: 40.0%; Average loss: 0.0211\n",
    "Iteration: 4900; Percent complete: 40.8%; Average loss: 0.0205\n",
    "Iteration: 5000; Percent complete: 41.7%; Average loss: 0.0201\n",
    "Iteration: 5100; Percent complete: 42.5%; Average loss: 0.0211\n",
    "Iteration: 5200; Percent complete: 43.3%; Average loss: 0.0224\n",
    "Iteration: 5300; Percent complete: 44.2%; Average loss: 0.0207\n",
    "Iteration: 5400; Percent complete: 45.0%; Average loss: 0.0204\n",
    "Iteration: 5500; Percent complete: 45.8%; Average loss: 0.0207\n",
    "Iteration: 5600; Percent complete: 46.7%; Average loss: 0.0205\n",
    "Iteration: 5700; Percent complete: 47.5%; Average loss: 0.0202\n",
    "Iteration: 5800; Percent complete: 48.3%; Average loss: 0.0203\n",
    "Iteration: 5900; Percent complete: 49.2%; Average loss: 0.0192\n",
    "Iteration: 6000; Percent complete: 50.0%; Average loss: 0.0197\n",
    "content/cb_model/Chat/2-4_512\n",
    "Iteration: 6100; Percent complete: 50.8%; Average loss: 0.0195\n",
    "Iteration: 6200; Percent complete: 51.7%; Average loss: 0.0205\n",
    "Iteration: 6300; Percent complete: 52.5%; Average loss: 0.0249\n",
    "Iteration: 6400; Percent complete: 53.3%; Average loss: 0.0361\n",
    "Iteration: 6500; Percent complete: 54.2%; Average loss: 0.0254\n",
    "Iteration: 6600; Percent complete: 55.0%; Average loss: 0.0214\n",
    "Iteration: 6700; Percent complete: 55.8%; Average loss: 0.0209\n",
    "Iteration: 6800; Percent complete: 56.7%; Average loss: 0.0222\n",
    "Iteration: 6900; Percent complete: 57.5%; Average loss: 0.0204\n",
    "Iteration: 7000; Percent complete: 58.3%; Average loss: 0.0202\n",
    "Iteration: 7100; Percent complete: 59.2%; Average loss: 0.0205\n",
    "Iteration: 7200; Percent complete: 60.0%; Average loss: 0.0195\n",
    "Iteration: 7300; Percent complete: 60.8%; Average loss: 0.0192\n",
    "Iteration: 7400; Percent complete: 61.7%; Average loss: 0.0191\n",
    "Iteration: 7500; Percent complete: 62.5%; Average loss: 0.0198\n",
    "Iteration: 7600; Percent complete: 63.3%; Average loss: 0.0194\n",
    "Iteration: 7700; Percent complete: 64.2%; Average loss: 0.0184\n",
    "Iteration: 7800; Percent complete: 65.0%; Average loss: 0.0200\n",
    "Iteration: 7900; Percent complete: 65.8%; Average loss: 0.0192\n",
    "Iteration: 8000; Percent complete: 66.7%; Average loss: 0.0210\n",
    "content/cb_model/Chat/2-4_512\n",
    "Iteration: 8100; Percent complete: 67.5%; Average loss: 0.0248\n",
    "Iteration: 8200; Percent complete: 68.3%; Average loss: 0.0226\n",
    "Iteration: 8300; Percent complete: 69.2%; Average loss: 0.0205\n",
    "Iteration: 8400; Percent complete: 70.0%; Average loss: 0.0197\n",
    "Iteration: 8500; Percent complete: 70.8%; Average loss: 0.0191\n",
    "Iteration: 8600; Percent complete: 71.7%; Average loss: 0.0192\n",
    "Iteration: 8700; Percent complete: 72.5%; Average loss: 0.0197\n",
    "Iteration: 8800; Percent complete: 73.3%; Average loss: 0.0184\n",
    "Iteration: 8900; Percent complete: 74.2%; Average loss: 0.0193\n",
    "Iteration: 9000; Percent complete: 75.0%; Average loss: 0.0195\n",
    "Iteration: 9100; Percent complete: 75.8%; Average loss: 0.0292\n",
    "Iteration: 9200; Percent complete: 76.7%; Average loss: 0.0235\n",
    "Iteration: 9300; Percent complete: 77.5%; Average loss: 0.0191\n",
    "Iteration: 9400; Percent complete: 78.3%; Average loss: 0.0196\n",
    "Iteration: 9500; Percent complete: 79.2%; Average loss: 0.0189\n",
    "Iteration: 9600; Percent complete: 80.0%; Average loss: 0.0185\n",
    "Iteration: 9700; Percent complete: 80.8%; Average loss: 0.0192\n",
    "Iteration: 9800; Percent complete: 81.7%; Average loss: 0.0193\n",
    "Iteration: 9900; Percent complete: 82.5%; Average loss: 0.0187\n",
    "Iteration: 10000; Percent complete: 83.3%; Average loss: 0.0192\n",
    "content/cb_model/Chat/2-4_512\n",
    "Iteration: 10100; Percent complete: 84.2%; Average loss: 0.0186\n",
    "Iteration: 10200; Percent complete: 85.0%; Average loss: 0.0185\n",
    "Iteration: 10300; Percent complete: 85.8%; Average loss: 0.0185\n",
    "Iteration: 10400; Percent complete: 86.7%; Average loss: 0.0192\n",
    "Iteration: 10500; Percent complete: 87.5%; Average loss: 0.0187\n",
    "Iteration: 10600; Percent complete: 88.3%; Average loss: 0.0188\n",
    "Iteration: 10700; Percent complete: 89.2%; Average loss: 0.0196\n",
    "Iteration: 10800; Percent complete: 90.0%; Average loss: 0.0200\n",
    "Iteration: 10900; Percent complete: 90.8%; Average loss: 0.0198\n",
    "Iteration: 11000; Percent complete: 91.7%; Average loss: 0.0206\n",
    "Iteration: 11100; Percent complete: 92.5%; Average loss: 0.0266\n",
    "Iteration: 11200; Percent complete: 93.3%; Average loss: 0.0227\n",
    "Iteration: 11300; Percent complete: 94.2%; Average loss: 0.0192\n",
    "Iteration: 11400; Percent complete: 95.0%; Average loss: 0.0185\n",
    "Iteration: 11500; Percent complete: 95.8%; Average loss: 0.0194\n",
    "Iteration: 11600; Percent complete: 96.7%; Average loss: 0.0185\n",
    "Iteration: 11700; Percent complete: 97.5%; Average loss: 0.0186\n",
    "Iteration: 11800; Percent complete: 98.3%; Average loss: 0.0193\n",
    "Iteration: 11900; Percent complete: 99.2%; Average loss: 0.0182\n",
    "Iteration: 12000; Percent complete: 100.0%; Average loss: 0.0189\n",
    "content/cb_model/Chat/2-4_512"
   ]
  },
  {
   "cell_type": "markdown",
   "id": "f46fd17a-5fc7-421e-b4c2-9ce5465998d2",
   "metadata": {},
   "source": [
    "#### We calculated BLEU score for 1 gram and 2 gram which are 0.15784220489319176 and 0.06314280893119497 respectively."
   ]
  },
  {
   "cell_type": "raw",
   "id": "4808a57e-b941-4d0b-a867-e65e6837c964",
   "metadata": {},
   "source": [
    "Total Bleu Score for 1 grams on testing pairs:  0.15784220489319176\n",
    "Total Bleu Score for 2 grams on testing pairs:  0.06314280893119497"
   ]
  },
  {
   "cell_type": "markdown",
   "id": "5a791e74-6844-48ac-9e01-4f04b268670f",
   "metadata": {},
   "source": [
    "#### We can see the following plotting"
   ]
  },
  {
   "cell_type": "code",
   "execution_count": 59,
   "id": "46348887-c4d6-43d2-97fd-e108bdb88747",
   "metadata": {},
   "outputs": [
    {
     "data": {
      "image/png": "[encoded data removed]",
      "text/plain": [
       "<IPython.core.display.Image object>"
      ]
     },
     "execution_count": 59,
     "metadata": {},
     "output_type": "execute_result"
    }
   ],
   "source": [
    "from IPython.display import Image\n",
    "Image(\"loss.png\")"
   ]
  },
  {
   "cell_type": "markdown",
   "id": "1ce63770-21ff-45bf-a8f1-ea6460224c0a",
   "metadata": {},
   "source": [
    "### Task2"
   ]
  },
  {
   "cell_type": "markdown",
   "id": "a09fb2c8-389e-4e2c-abd0-610edfaa0994",
   "metadata": {},
   "source": [
    "In this task, seq2seq model was trained on Transformer."
   ]
  },
  {
   "cell_type": "markdown",
   "id": "04edfb88-047f-4f74-9aba-344e0ff83537",
   "metadata": {},
   "source": [
    "### Data Sourcing and Processing"
   ]
  },
  {
   "cell_type": "markdown",
   "id": "40275889-497e-40f1-886b-77b7a167b840",
   "metadata": {},
   "source": [
    "For data sourcing and processing, I used tochtext library to access Multi30k dataset to train a German to English language translation model, insted of using dialuoge seq2seq datasets. Moreover, Multi30k dataset from torchtext library yields a pair of source-target raw sentences. "
   ]
  },
  {
   "cell_type": "code",
   "execution_count": 60,
   "id": "4d971846-f162-4ca5-bb82-37061d1f421d",
   "metadata": {},
   "outputs": [],
   "source": [
    "import os\n",
    "os.environ['http_proxy'] = 'http://192.41.170.23:3128'\n",
    "os.environ['https_proxy'] = 'http://192.41.170.23:3128'"
   ]
  },
  {
   "cell_type": "code",
   "execution_count": 61,
   "id": "540fc6a0-36f8-466d-b72d-2d1560ec4bb1",
   "metadata": {},
   "outputs": [],
   "source": [
    "#!pip install -U spacy"
   ]
  },
  {
   "cell_type": "code",
   "execution_count": 55,
   "id": "9b476701-8350-4abe-8b62-a3eaf7e26d4e",
   "metadata": {},
   "outputs": [],
   "source": [
    "#!python -m spacy download en_core_web_sm"
   ]
  },
  {
   "cell_type": "code",
   "execution_count": 54,
   "id": "b1a07887-a846-46db-a689-2e6f3fcbebd5",
   "metadata": {},
   "outputs": [],
   "source": [
    "#!python -m spacy download de_core_news_sm"
   ]
  },
  {
   "cell_type": "code",
   "execution_count": 7,
   "id": "4ca82a65-6951-47a3-b10d-0c410705712e",
   "metadata": {},
   "outputs": [],
   "source": [
    "from torchtext.data.utils import get_tokenizer\n",
    "from torchtext.vocab import build_vocab_from_iterator\n",
    "from torchtext.datasets import Multi30k\n",
    "from typing import Iterable, List\n",
    "\n",
    "\n",
    "SRC_LANGUAGE = 'de'\n",
    "TGT_LANGUAGE = 'en'\n",
    "\n",
    "# Place-holders\n",
    "token_transform = {}\n",
    "vocab_transform = {}\n",
    "\n",
    "\n",
    "# Create source and target language tokenizer. Make sure to install the dependencies.\n",
    "# pip install -U spacy\n",
    "# python -m spacy download en_core_web_sm\n",
    "# python -m spacy download de_core_news_sm\n",
    "token_transform[SRC_LANGUAGE] = get_tokenizer('spacy', language='de_core_news_sm')\n",
    "token_transform[TGT_LANGUAGE] = get_tokenizer('spacy', language='en_core_web_sm')\n",
    "\n",
    "\n",
    "# helper function to yield list of tokens\n",
    "def yield_tokens(data_iter: Iterable, language: str) -> List[str]:\n",
    "    language_index = {SRC_LANGUAGE: 0, TGT_LANGUAGE: 1}\n",
    "\n",
    "    for data_sample in data_iter:\n",
    "        yield token_transform[language](data_sample[language_index[language]])\n",
    "\n",
    "# Define special symbols and indices\n",
    "UNK_IDX, PAD_IDX, BOS_IDX, EOS_IDX = 0, 1, 2, 3\n",
    "# Make sure the tokens are in order of their indices to properly insert them in vocab\n",
    "special_symbols = ['<unk>', '<pad>', '<bos>', '<eos>']\n",
    "\n",
    "for ln in [SRC_LANGUAGE, TGT_LANGUAGE]:\n",
    "    # Training data Iterator\n",
    "    train_iter = Multi30k(split='train', language_pair=(SRC_LANGUAGE, TGT_LANGUAGE))\n",
    "    # Create torchtext's Vocab object\n",
    "    vocab_transform[ln] = build_vocab_from_iterator(yield_tokens(train_iter, ln),\n",
    "                                                    min_freq=1,\n",
    "                                                    specials=special_symbols,\n",
    "                                                    special_first=True)\n",
    "\n",
    "# Set UNK_IDX as the default index. This index is returned when the token is not found.\n",
    "# If not set, it throws RuntimeError when the queried token is not found in the Vocabulary.\n",
    "for ln in [SRC_LANGUAGE, TGT_LANGUAGE]:\n",
    "    vocab_transform[ln].set_default_index(UNK_IDX)"
   ]
  },
  {
   "cell_type": "markdown",
   "id": "66889711-c96d-4fc6-8d10-a463f5a8446f",
   "metadata": {},
   "source": [
    "### Transformers"
   ]
  },
  {
   "cell_type": "markdown",
   "id": "f0db27df-6805-42d8-8e71-e764a2d7f067",
   "metadata": {},
   "source": [
    "The follwoing seq2seq network using transformer consists of three parts. \n",
    "- 1.Firstly, the embedding layer : \n",
    "    - This layer converts tensor of input indices into corresponding tensor of input embeddings. \n",
    "    - These embedding are further augmented with positional encodings to provide position information of input tokens to the model. \n",
    "- 2. Transformer model. \n",
    "- 3. Finally, the output of Transformer model is passed through linear layer that give un-normalized probabilities for each token in the target language."
   ]
  },
  {
   "cell_type": "code",
   "execution_count": 12,
   "id": "589b73c5-84ea-4d74-8540-3156629a2a5b",
   "metadata": {},
   "outputs": [],
   "source": [
    "from torch import Tensor\n",
    "import torch\n",
    "import torch.nn as nn\n",
    "from torch.nn import Transformer\n",
    "import math\n",
    "DEVICE = torch.device('cuda:1' if torch.cuda.is_available() else 'cpu')\n",
    "\n",
    "# helper Module that adds positional encoding to the token embedding to introduce a notion of word order.\n",
    "class PositionalEncoding(nn.Module):\n",
    "    def __init__(self,\n",
    "                 emb_size: int,\n",
    "                 dropout: float,\n",
    "                 maxlen: int = 5000):\n",
    "        super(PositionalEncoding, self).__init__()\n",
    "        den = torch.exp(- torch.arange(0, emb_size, 2)* math.log(10000) / emb_size)\n",
    "        pos = torch.arange(0, maxlen).reshape(maxlen, 1)\n",
    "        pos_embedding = torch.zeros((maxlen, emb_size))\n",
    "        pos_embedding[:, 0::2] = torch.sin(pos * den)\n",
    "        pos_embedding[:, 1::2] = torch.cos(pos * den)\n",
    "        pos_embedding = pos_embedding.unsqueeze(-2)\n",
    "\n",
    "        self.dropout = nn.Dropout(dropout)\n",
    "        self.register_buffer('pos_embedding', pos_embedding)\n",
    "\n",
    "    def forward(self, token_embedding: Tensor):\n",
    "        return self.dropout(token_embedding + self.pos_embedding[:token_embedding.size(0), :])\n",
    "\n",
    "# helper Module to convert tensor of input indices into corresponding tensor of token embeddings\n",
    "class TokenEmbedding(nn.Module):\n",
    "    def __init__(self, vocab_size: int, emb_size):\n",
    "        super(TokenEmbedding, self).__init__()\n",
    "        self.embedding = nn.Embedding(vocab_size, emb_size)\n",
    "        self.emb_size = emb_size\n",
    "\n",
    "    def forward(self, tokens: Tensor):\n",
    "        return self.embedding(tokens.long()) * math.sqrt(self.emb_size)\n",
    "\n",
    "# Seq2Seq Network\n",
    "class Seq2SeqTransformer(nn.Module):\n",
    "    def __init__(self,\n",
    "                 num_encoder_layers: int,\n",
    "                 num_decoder_layers: int,\n",
    "                 emb_size: int,\n",
    "                 nhead: int,\n",
    "                 src_vocab_size: int,\n",
    "                 tgt_vocab_size: int,\n",
    "                 dim_feedforward: int = 512,\n",
    "                 dropout: float = 0.1):\n",
    "        super(Seq2SeqTransformer, self).__init__()\n",
    "        self.transformer = Transformer(d_model=emb_size,\n",
    "                                       nhead=nhead,\n",
    "                                       num_encoder_layers=num_encoder_layers,\n",
    "                                       num_decoder_layers=num_decoder_layers,\n",
    "                                       dim_feedforward=dim_feedforward,\n",
    "                                       dropout=dropout)\n",
    "        self.generator = nn.Linear(emb_size, tgt_vocab_size)\n",
    "        self.src_tok_emb = TokenEmbedding(src_vocab_size, emb_size)\n",
    "        self.tgt_tok_emb = TokenEmbedding(tgt_vocab_size, emb_size)\n",
    "        self.positional_encoding = PositionalEncoding(\n",
    "            emb_size, dropout=dropout)\n",
    "\n",
    "    def forward(self,\n",
    "                src: Tensor,\n",
    "                trg: Tensor,\n",
    "                src_mask: Tensor,\n",
    "                tgt_mask: Tensor,\n",
    "                src_padding_mask: Tensor,\n",
    "                tgt_padding_mask: Tensor,\n",
    "                memory_key_padding_mask: Tensor):\n",
    "        src_emb = self.positional_encoding(self.src_tok_emb(src))\n",
    "        tgt_emb = self.positional_encoding(self.tgt_tok_emb(trg))\n",
    "        outs = self.transformer(src_emb, tgt_emb, src_mask, tgt_mask, None,\n",
    "                                src_padding_mask, tgt_padding_mask, memory_key_padding_mask)\n",
    "        return self.generator(outs)\n",
    "\n",
    "    def encode(self, src: Tensor, src_mask: Tensor):\n",
    "        return self.transformer.encoder(self.positional_encoding(\n",
    "                            self.src_tok_emb(src)), src_mask)\n",
    "\n",
    "    def decode(self, tgt: Tensor, memory: Tensor, tgt_mask: Tensor):\n",
    "        return self.transformer.decoder(self.positional_encoding(\n",
    "                          self.tgt_tok_emb(tgt)), memory,\n",
    "                          tgt_mask)"
   ]
  },
  {
   "cell_type": "markdown",
   "id": "33d6fa8b-eb23-413b-bb22-9e604c0554e1",
   "metadata": {},
   "source": [
    "During training, a subsequent word mask is needed to prevent model to look into the future words when making predictions. Furthermorw, masks are needed to hide source and target padding tokens."
   ]
  },
  {
   "cell_type": "code",
   "execution_count": 13,
   "id": "f1f6b8d8-270f-4b7c-bcb3-cf3e332c09e0",
   "metadata": {},
   "outputs": [],
   "source": [
    "def generate_square_subsequent_mask(sz):\n",
    "    mask = (torch.triu(torch.ones((sz, sz), device=DEVICE)) == 1).transpose(0, 1)\n",
    "    mask = mask.float().masked_fill(mask == 0, float('-inf')).masked_fill(mask == 1, float(0.0))\n",
    "    return mask\n",
    "\n",
    "\n",
    "def create_mask(src, tgt):\n",
    "    src_seq_len = src.shape[0]\n",
    "    tgt_seq_len = tgt.shape[0]\n",
    "\n",
    "    tgt_mask = generate_square_subsequent_mask(tgt_seq_len)\n",
    "    src_mask = torch.zeros((src_seq_len, src_seq_len),device=DEVICE).type(torch.bool)\n",
    "\n",
    "    src_padding_mask = (src == PAD_IDX).transpose(0, 1)\n",
    "    tgt_padding_mask = (tgt == PAD_IDX).transpose(0, 1)\n",
    "    return src_mask, tgt_mask, src_padding_mask, tgt_padding_mask"
   ]
  },
  {
   "cell_type": "markdown",
   "id": "05b6a5b1-07c8-49d3-8633-4c52f135d59a",
   "metadata": {},
   "source": [
    "Then, our loss function is the cross-entropy loss and the optmizer is used for training."
   ]
  },
  {
   "cell_type": "code",
   "execution_count": 14,
   "id": "9a5c8660-04ce-4322-9e30-65b09f105918",
   "metadata": {},
   "outputs": [],
   "source": [
    "torch.manual_seed(0)\n",
    "\n",
    "SRC_VOCAB_SIZE = len(vocab_transform[SRC_LANGUAGE])\n",
    "TGT_VOCAB_SIZE = len(vocab_transform[TGT_LANGUAGE])\n",
    "EMB_SIZE = 512\n",
    "NHEAD = 8\n",
    "FFN_HID_DIM = 512\n",
    "BATCH_SIZE = 128\n",
    "NUM_ENCODER_LAYERS = 3\n",
    "NUM_DECODER_LAYERS = 3\n",
    "\n",
    "transformer = Seq2SeqTransformer(NUM_ENCODER_LAYERS, NUM_DECODER_LAYERS, EMB_SIZE,\n",
    "                                 NHEAD, SRC_VOCAB_SIZE, TGT_VOCAB_SIZE, FFN_HID_DIM)\n",
    "\n",
    "for p in transformer.parameters():\n",
    "    if p.dim() > 1:\n",
    "        nn.init.xavier_uniform_(p)\n",
    "\n",
    "transformer = transformer.to(DEVICE)\n",
    "\n",
    "loss_fn = torch.nn.CrossEntropyLoss(ignore_index=PAD_IDX)\n",
    "\n",
    "optimizer = torch.optim.Adam(transformer.parameters(), lr=0.0001, betas=(0.9, 0.98), eps=1e-9)"
   ]
  },
  {
   "cell_type": "code",
   "execution_count": 15,
   "id": "9b698826-0f32-4489-aeaa-d986e3673821",
   "metadata": {},
   "outputs": [],
   "source": [
    "from torch.nn.utils.rnn import pad_sequence\n",
    "\n",
    "# helper function to club together sequential operations\n",
    "def sequential_transforms(*transforms):\n",
    "    def func(txt_input):\n",
    "        for transform in transforms:\n",
    "            txt_input = transform(txt_input)\n",
    "        return txt_input\n",
    "    return func\n",
    "\n",
    "# function to add BOS/EOS and create tensor for input sequence indices\n",
    "def tensor_transform(token_ids: List[int]):\n",
    "    return torch.cat((torch.tensor([BOS_IDX]),\n",
    "                      torch.tensor(token_ids),\n",
    "                      torch.tensor([EOS_IDX])))\n",
    "\n",
    "# src and tgt language text transforms to convert raw strings into tensors indices\n",
    "text_transform = {}\n",
    "for ln in [SRC_LANGUAGE, TGT_LANGUAGE]:\n",
    "    text_transform[ln] = sequential_transforms(token_transform[ln], #Tokenization\n",
    "                                               vocab_transform[ln], #Numericalization\n",
    "                                               tensor_transform) # Add BOS/EOS and create tensor\n",
    "\n",
    "\n",
    "# function to collate data samples into batch tesors\n",
    "def collate_fn(batch):\n",
    "    src_batch, tgt_batch = [], []\n",
    "    for src_sample, tgt_sample in batch:\n",
    "        src_batch.append(text_transform[SRC_LANGUAGE](src_sample.rstrip(\"\\n\")))\n",
    "        tgt_batch.append(text_transform[TGT_LANGUAGE](tgt_sample.rstrip(\"\\n\")))\n",
    "\n",
    "    src_batch = pad_sequence(src_batch, padding_value=PAD_IDX)\n",
    "    tgt_batch = pad_sequence(tgt_batch, padding_value=PAD_IDX)\n",
    "    return src_batch, tgt_batch"
   ]
  },
  {
   "cell_type": "markdown",
   "id": "6624c0ce-3557-493b-a448-858bb4b57f16",
   "metadata": {},
   "source": [
    "### Training and Evaluation"
   ]
  },
  {
   "cell_type": "code",
   "execution_count": 17,
   "id": "113b3bd7-1c3f-40e3-8c1c-55397489acac",
   "metadata": {},
   "outputs": [],
   "source": [
    "from torch.utils.data import DataLoader\n",
    "\n",
    "def train_epoch(model, optimizer):\n",
    "    model.train()\n",
    "    losses = 0\n",
    "    train_iter = Multi30k(split='train', language_pair=(SRC_LANGUAGE, TGT_LANGUAGE))\n",
    "    train_dataloader = DataLoader(train_iter, batch_size=BATCH_SIZE, collate_fn=collate_fn)\n",
    "\n",
    "    for src, tgt in train_dataloader:\n",
    "        src = src.to(DEVICE)\n",
    "        tgt = tgt.to(DEVICE)\n",
    "\n",
    "        tgt_input = tgt[:-1, :]\n",
    "\n",
    "        src_mask, tgt_mask, src_padding_mask, tgt_padding_mask = create_mask(src, tgt_input)\n",
    "\n",
    "        logits = model(src, tgt_input, src_mask, tgt_mask,src_padding_mask, tgt_padding_mask, src_padding_mask)\n",
    "\n",
    "        optimizer.zero_grad()\n",
    "\n",
    "        tgt_out = tgt[1:, :]\n",
    "        loss = loss_fn(logits.reshape(-1, logits.shape[-1]), tgt_out.reshape(-1))\n",
    "        loss.backward()\n",
    "\n",
    "        optimizer.step()\n",
    "        losses += loss.item()\n",
    "\n",
    "    return losses / len(train_dataloader)\n",
    "\n",
    "\n",
    "def evaluate(model):\n",
    "    model.eval()\n",
    "    losses = 0\n",
    "\n",
    "    val_iter = Multi30k(split='valid', language_pair=(SRC_LANGUAGE, TGT_LANGUAGE))\n",
    "    val_dataloader = DataLoader(val_iter, batch_size=BATCH_SIZE, collate_fn=collate_fn)\n",
    "\n",
    "    for src, tgt in val_dataloader:\n",
    "        src = src.to(DEVICE)\n",
    "        tgt = tgt.to(DEVICE)\n",
    "\n",
    "        tgt_input = tgt[:-1, :]\n",
    "\n",
    "        src_mask, tgt_mask, src_padding_mask, tgt_padding_mask = create_mask(src, tgt_input)\n",
    "\n",
    "        logits = model(src, tgt_input, src_mask, tgt_mask,src_padding_mask, tgt_padding_mask, src_padding_mask)\n",
    "\n",
    "        tgt_out = tgt[1:, :]\n",
    "        loss = loss_fn(logits.reshape(-1, logits.shape[-1]), tgt_out.reshape(-1))\n",
    "        losses += loss.item()\n",
    "\n",
    "    return losses / len(val_dataloader)"
   ]
  },
  {
   "cell_type": "code",
   "execution_count": 19,
   "id": "46c38810-f370-475c-b4af-5c295718f8d1",
   "metadata": {},
   "outputs": [
    {
     "name": "stdout",
     "output_type": "stream",
     "text": [
      "Epoch: 1, Train loss: 1.467, Val loss: 1.954, Epoch time = 25.058s\n",
      "Epoch: 2, Train loss: 1.370, Val loss: 1.953, Epoch time = 24.299s\n",
      "Epoch: 3, Train loss: 1.288, Val loss: 1.930, Epoch time = 23.925s\n",
      "Epoch: 4, Train loss: 1.208, Val loss: 1.908, Epoch time = 22.763s\n",
      "Epoch: 5, Train loss: 1.136, Val loss: 1.896, Epoch time = 23.761s\n",
      "Epoch: 6, Train loss: 1.072, Val loss: 1.887, Epoch time = 22.663s\n",
      "Epoch: 7, Train loss: 1.004, Val loss: 1.893, Epoch time = 24.857s\n",
      "Epoch: 8, Train loss: 0.946, Val loss: 1.905, Epoch time = 24.518s\n",
      "Epoch: 9, Train loss: 0.893, Val loss: 1.910, Epoch time = 24.933s\n",
      "Epoch: 10, Train loss: 0.840, Val loss: 1.929, Epoch time = 25.362s\n",
      "Epoch: 11, Train loss: 0.795, Val loss: 1.936, Epoch time = 25.092s\n",
      "Epoch: 12, Train loss: 0.745, Val loss: 1.963, Epoch time = 23.590s\n",
      "Epoch: 13, Train loss: 0.701, Val loss: 1.971, Epoch time = 24.620s\n",
      "Epoch: 14, Train loss: 0.661, Val loss: 1.966, Epoch time = 24.583s\n",
      "Epoch: 15, Train loss: 0.620, Val loss: 1.977, Epoch time = 22.752s\n",
      "Epoch: 16, Train loss: 0.579, Val loss: 1.990, Epoch time = 22.739s\n",
      "Epoch: 17, Train loss: 0.541, Val loss: 2.017, Epoch time = 22.922s\n",
      "Epoch: 18, Train loss: 0.509, Val loss: 2.020, Epoch time = 23.407s\n",
      "Epoch: 19, Train loss: 0.473, Val loss: 2.049, Epoch time = 23.756s\n",
      "Epoch: 20, Train loss: 0.444, Val loss: 2.080, Epoch time = 24.167s\n"
     ]
    }
   ],
   "source": [
    "from timeit import default_timer as timer\n",
    "NUM_EPOCHS = 20\n",
    "train_losses = []\n",
    "val_losses = []\n",
    "\n",
    "for epoch in range(1, NUM_EPOCHS+1):\n",
    "    start_time = timer()\n",
    "    train_loss = train_epoch(transformer, optimizer)\n",
    "    train_losses.append(train_loss)\n",
    "    \n",
    "    end_time = timer()\n",
    "    val_loss = evaluate(transformer)\n",
    "    val_losses.append(val_loss)\n",
    "    \n",
    "    \n",
    "    print((f\"Epoch: {epoch}, Train loss: {train_loss:.3f}, Val loss: {val_loss:.3f}, \"f\"Epoch time = {(end_time - start_time):.3f}s\"))\n"
   ]
  },
  {
   "cell_type": "code",
   "execution_count": 21,
   "id": "e02a0427-70ab-453a-8aa1-1685d74dea32",
   "metadata": {},
   "outputs": [
    {
     "data": {
      "text/plain": [
       "Text(0, 0.5, 'loss')"
      ]
     },
     "execution_count": 21,
     "metadata": {},
     "output_type": "execute_result"
    },
    {
     "data": {
      "image/png": "[encoded data removed]",
      "text/plain": [
       "<Figure size 720x432 with 1 Axes>"
      ]
     },
     "metadata": {
      "needs_background": "light"
     },
     "output_type": "display_data"
    }
   ],
   "source": [
    "import matplotlib.pyplot as plt\n",
    "fig = plt.figure(figsize=(10, 6))\n",
    "ax = fig.add_subplot(1, 1, 1)\n",
    "ax.plot(train_losses, label = 'train loss')\n",
    "ax.plot(val_losses, label = 'valid loss')\n",
    "plt.legend()\n",
    "ax.set_xlabel('updates')\n",
    "ax.set_ylabel('loss')"
   ]
  },
  {
   "cell_type": "code",
   "execution_count": 22,
   "id": "cb52dfa6-32a1-495a-b3f4-c6808646d0fe",
   "metadata": {},
   "outputs": [],
   "source": [
    "\n",
    "# function to generate output sequence using greedy algorithm\n",
    "def greedy_decode(model, src, src_mask, max_len, start_symbol):\n",
    "    src = src.to(DEVICE)\n",
    "    src_mask = src_mask.to(DEVICE)\n",
    "\n",
    "    memory = model.encode(src, src_mask)\n",
    "    ys = torch.ones(1, 1).fill_(start_symbol).type(torch.long).to(DEVICE)\n",
    "    for i in range(max_len-1):\n",
    "        memory = memory.to(DEVICE)\n",
    "        tgt_mask = (generate_square_subsequent_mask(ys.size(0))\n",
    "                    .type(torch.bool)).to(DEVICE)\n",
    "        out = model.decode(ys, memory, tgt_mask)\n",
    "        out = out.transpose(0, 1)\n",
    "        prob = model.generator(out[:, -1])\n",
    "        _, next_word = torch.max(prob, dim=1)\n",
    "        next_word = next_word.item()\n",
    "\n",
    "        ys = torch.cat([ys,\n",
    "                        torch.ones(1, 1).type_as(src.data).fill_(next_word)], dim=0)\n",
    "        if next_word == EOS_IDX:\n",
    "            break\n",
    "    return ys\n",
    "\n",
    "\n",
    "# actual function to translate input sentence into target language\n",
    "def translate(model: torch.nn.Module, src_sentence: str):\n",
    "    model.eval()\n",
    "    src = text_transform[SRC_LANGUAGE](src_sentence).view(-1, 1)\n",
    "    num_tokens = src.shape[0]\n",
    "    src_mask = (torch.zeros(num_tokens, num_tokens)).type(torch.bool)\n",
    "    tgt_tokens = greedy_decode(\n",
    "        model,  src, src_mask, max_len=num_tokens + 5, start_symbol=BOS_IDX).flatten()\n",
    "    return \" \".join(vocab_transform[TGT_LANGUAGE].lookup_tokens(list(tgt_tokens.cpu().numpy()))).replace(\"<bos>\", \"\").replace(\"<eos>\", \"\")"
   ]
  },
  {
   "cell_type": "code",
   "execution_count": 23,
   "id": "044213aa-063c-44b3-beb3-18431bec25bb",
   "metadata": {},
   "outputs": [
    {
     "name": "stdout",
     "output_type": "stream",
     "text": [
      " A group of people in an igloo \n"
     ]
    }
   ],
   "source": [
    "print(translate(transformer, \"Eine Gruppe von Menschen steht vor einem Iglu .\"))"
   ]
  },
  {
   "cell_type": "code",
   "execution_count": 24,
   "id": "91935ff3-b7a7-42b7-9664-216ae6c5980e",
   "metadata": {},
   "outputs": [
    {
     "name": "stdout",
     "output_type": "stream",
     "text": [
      " morning morning \n"
     ]
    }
   ],
   "source": [
    "print(translate(transformer, \"Guten Morgen\"))"
   ]
  },
  {
   "cell_type": "code",
   "execution_count": 25,
   "id": "4acb4897-6e78-4b62-8072-df3de042bdd2",
   "metadata": {},
   "outputs": [
    {
     "name": "stdout",
     "output_type": "stream",
     "text": [
      " The professional player is just behind the pin . \n"
     ]
    }
   ],
   "source": [
    "print(translate(transformer, \"Mein Name ist Mondly\"))"
   ]
  },
  {
   "cell_type": "code",
   "execution_count": 26,
   "id": "f667da7d-21eb-4389-9829-d130f221329e",
   "metadata": {},
   "outputs": [
    {
     "name": "stdout",
     "output_type": "stream",
     "text": [
      " I this man is driving a beer . \n"
     ]
    }
   ],
   "source": [
    "print(translate(transformer, \"Ich möchte ein Bier\"))"
   ]
  },
  {
   "cell_type": "markdown",
   "id": "a7106afd",
   "metadata": {},
   "source": [
    "Ref : https://pytorch.org/tutorials/beginner/translation_transformer.html?highlight=transformer"
   ]
  },
  {
   "cell_type": "code",
   "execution_count": null,
   "id": "7fe4eb62",
   "metadata": {},
   "outputs": [],
   "source": []
  },
  {
   "cell_type": "code",
   "execution_count": null,
   "id": "b53e5660",
   "metadata": {},
   "outputs": [],
   "source": []
  }
 ],
 "metadata": {
  "kernelspec": {
   "display_name": "Python 3 (ipykernel)",
   "language": "python",
   "name": "python3"
  },
  "language_info": {
   "codemirror_mode": {
    "name": "ipython",
    "version": 3
   },
   "file_extension": ".py",
   "mimetype": "text/x-python",
   "name": "python",
   "nbconvert_exporter": "python",
   "pygments_lexer": "ipython3",
   "version": "3.9.6"
  }
 },
 "nbformat": 4,
 "nbformat_minor": 5
}
